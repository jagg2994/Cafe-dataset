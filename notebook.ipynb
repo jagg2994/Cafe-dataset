{
 "cells": [
  {
   "cell_type": "code",
   "metadata": {
    "tags": [],
    "cell_id": "00000-34079ac9-07aa-46f0-bf86-c9a56f2796f1",
    "deepnote_to_be_reexecuted": false,
    "source_hash": "eb002d69",
    "execution_start": 1627567161972,
    "execution_millis": 10464,
    "deepnote_cell_type": "code"
   },
   "source": "# Importmos los paquetes que vamos a usar\nimport pandas as pd\nimport numpy as np\nimport seaborn as sns\nimport matplotlib.pyplot as plt",
   "execution_count": null,
   "outputs": []
  },
  {
   "cell_type": "code",
   "metadata": {
    "tags": [],
    "cell_id": "00002-dc0f1feb-ac09-4c25-a4e7-133e02c4bc51",
    "deepnote_to_be_reexecuted": false,
    "source_hash": "208a9b75",
    "execution_start": 1627567172465,
    "execution_millis": 1893,
    "deepnote_cell_type": "code"
   },
   "source": "df_cafe = pd.read_csv('merged_data_cleaned.csv')\ndf_cafe\n# Contamos con un df de 1339 filas × 44 columnas",
   "execution_count": null,
   "outputs": [
    {
     "output_type": "execute_result",
     "execution_count": 2,
     "data": {
      "application/vnd.deepnote.dataframe.v2+json": {
       "row_count": 1339,
       "column_count": 44,
       "columns": [
        {
         "name": "Unnamed: 0",
         "dtype": "int64",
         "stats": {
          "unique_count": 1339,
          "nan_count": 0,
          "min": "0",
          "max": "1338",
          "histogram": [
           {
            "bin_start": 0,
            "bin_end": 133.8,
            "count": 134
           },
           {
            "bin_start": 133.8,
            "bin_end": 267.6,
            "count": 134
           },
           {
            "bin_start": 267.6,
            "bin_end": 401.40000000000003,
            "count": 134
           },
           {
            "bin_start": 401.40000000000003,
            "bin_end": 535.2,
            "count": 134
           },
           {
            "bin_start": 535.2,
            "bin_end": 669,
            "count": 133
           },
           {
            "bin_start": 669,
            "bin_end": 802.8000000000001,
            "count": 134
           },
           {
            "bin_start": 802.8000000000001,
            "bin_end": 936.6000000000001,
            "count": 134
           },
           {
            "bin_start": 936.6000000000001,
            "bin_end": 1070.4,
            "count": 134
           },
           {
            "bin_start": 1070.4,
            "bin_end": 1204.2,
            "count": 134
           },
           {
            "bin_start": 1204.2,
            "bin_end": 1338,
            "count": 134
           }
          ]
         }
        },
        {
         "name": "Species",
         "dtype": "object",
         "stats": {
          "unique_count": 2,
          "nan_count": 0,
          "categories": [
           {
            "name": "Arabica",
            "count": 1311
           },
           {
            "name": "Robusta",
            "count": 28
           }
          ]
         }
        },
        {
         "name": "Owner",
         "dtype": "object",
         "stats": {
          "unique_count": 315,
          "nan_count": 7,
          "categories": [
           {
            "name": "juan luis alvarado romero",
            "count": 155
           },
           {
            "name": "314 others",
            "count": 1177
           },
           {
            "name": "Missing",
            "count": 7
           }
          ]
         }
        },
        {
         "name": "Country.of.Origin",
         "dtype": "object",
         "stats": {
          "unique_count": 36,
          "nan_count": 1,
          "categories": [
           {
            "name": "Mexico",
            "count": 236
           },
           {
            "name": "35 others",
            "count": 1102
           },
           {
            "name": "Missing",
            "count": 1
           }
          ]
         }
        },
        {
         "name": "Farm.Name",
         "dtype": "object",
         "stats": {
          "unique_count": 571,
          "nan_count": 359,
          "categories": [
           {
            "name": "various",
            "count": 47
           },
           {
            "name": "570 others",
            "count": 933
           },
           {
            "name": "Missing",
            "count": 359
           }
          ]
         }
        },
        {
         "name": "Lot.Number",
         "dtype": "object",
         "stats": {
          "unique_count": 227,
          "nan_count": 1063,
          "categories": [
           {
            "name": "1",
            "count": 18
           },
           {
            "name": "226 others",
            "count": 258
           },
           {
            "name": "Missing",
            "count": 1063
           }
          ]
         }
        },
        {
         "name": "Mill",
         "dtype": "object",
         "stats": {
          "unique_count": 459,
          "nan_count": 318,
          "categories": [
           {
            "name": "beneficio ixchel",
            "count": 90
           },
           {
            "name": "458 others",
            "count": 931
           },
           {
            "name": "Missing",
            "count": 318
           }
          ]
         }
        },
        {
         "name": "ICO.Number",
         "dtype": "object",
         "stats": {
          "unique_count": 847,
          "nan_count": 157,
          "categories": [
           {
            "name": "0",
            "count": 77
           },
           {
            "name": "846 others",
            "count": 1105
           },
           {
            "name": "Missing",
            "count": 157
           }
          ]
         }
        },
        {
         "name": "Company",
         "dtype": "object",
         "stats": {
          "unique_count": 281,
          "nan_count": 209,
          "categories": [
           {
            "name": "unex guatemala, s.a.",
            "count": 86
           },
           {
            "name": "280 others",
            "count": 1044
           },
           {
            "name": "Missing",
            "count": 209
           }
          ]
         }
        },
        {
         "name": "Altitude",
         "dtype": "object",
         "stats": {
          "unique_count": 396,
          "nan_count": 226,
          "categories": [
           {
            "name": "1100",
            "count": 43
           },
           {
            "name": "395 others",
            "count": 1070
           },
           {
            "name": "Missing",
            "count": 226
           }
          ]
         }
        },
        {
         "name": "Region",
         "dtype": "object",
         "stats": {
          "unique_count": 356,
          "nan_count": 59,
          "categories": [
           {
            "name": "huila",
            "count": 112
           },
           {
            "name": "355 others",
            "count": 1168
           },
           {
            "name": "Missing",
            "count": 59
           }
          ]
         }
        },
        {
         "name": "Producer",
         "dtype": "object",
         "stats": {
          "unique_count": 692,
          "nan_count": 232,
          "categories": [
           {
            "name": "La Plata",
            "count": 30
           },
           {
            "name": "691 others",
            "count": 1077
           },
           {
            "name": "Missing",
            "count": 232
           }
          ]
         }
        },
        {
         "name": "Number.of.Bags",
         "dtype": "int64",
         "stats": {
          "unique_count": 131,
          "nan_count": 0,
          "min": "0",
          "max": "1062",
          "histogram": [
           {
            "bin_start": 0,
            "bin_end": 106.2,
            "count": 621
           },
           {
            "bin_start": 106.2,
            "bin_end": 212.4,
            "count": 79
           },
           {
            "bin_start": 212.4,
            "bin_end": 318.6,
            "count": 541
           },
           {
            "bin_start": 318.6,
            "bin_end": 424.8,
            "count": 87
           },
           {
            "bin_start": 424.8,
            "bin_end": 531,
            "count": 7
           },
           {
            "bin_start": 531,
            "bin_end": 637.2,
            "count": 3
           },
           {
            "bin_start": 637.2,
            "bin_end": 743.4,
            "count": 0
           },
           {
            "bin_start": 743.4,
            "bin_end": 849.6,
            "count": 0
           },
           {
            "bin_start": 849.6,
            "bin_end": 955.8000000000001,
            "count": 0
           },
           {
            "bin_start": 955.8000000000001,
            "bin_end": 1062,
            "count": 1
           }
          ]
         }
        },
        {
         "name": "Bag.Weight",
         "dtype": "object",
         "stats": {
          "unique_count": 56,
          "nan_count": 0,
          "categories": [
           {
            "name": "1 kg",
            "count": 331
           },
           {
            "name": "60 kg",
            "count": 256
           },
           {
            "name": "54 others",
            "count": 752
           }
          ]
         }
        },
        {
         "name": "In.Country.Partner",
         "dtype": "object",
         "stats": {
          "unique_count": 27,
          "nan_count": 0,
          "categories": [
           {
            "name": "Specialty Coffee Association",
            "count": 313
           },
           {
            "name": "AMECAFE",
            "count": 205
           },
           {
            "name": "25 others",
            "count": 821
           }
          ]
         }
        },
        {
         "name": "Harvest.Year",
         "dtype": "object",
         "stats": {
          "unique_count": 46,
          "nan_count": 47,
          "categories": [
           {
            "name": "2012",
            "count": 354
           },
           {
            "name": "45 others",
            "count": 938
           },
           {
            "name": "Missing",
            "count": 47
           }
          ]
         }
        },
        {
         "name": "Grading.Date",
         "dtype": "object",
         "stats": {
          "unique_count": 567,
          "nan_count": 0,
          "categories": [
           {
            "name": "July 11th, 2012",
            "count": 25
           },
           {
            "name": "December 26th, 2013",
            "count": 24
           },
           {
            "name": "565 others",
            "count": 1290
           }
          ]
         }
        },
        {
         "name": "Owner.1",
         "dtype": "object",
         "stats": {
          "unique_count": 319,
          "nan_count": 7,
          "categories": [
           {
            "name": "Juan Luis Alvarado Romero",
            "count": 155
           },
           {
            "name": "318 others",
            "count": 1177
           },
           {
            "name": "Missing",
            "count": 7
           }
          ]
         }
        },
        {
         "name": "Variety",
         "dtype": "object",
         "stats": {
          "unique_count": 29,
          "nan_count": 226,
          "categories": [
           {
            "name": "Caturra",
            "count": 256
           },
           {
            "name": "28 others",
            "count": 857
           },
           {
            "name": "Missing",
            "count": 226
           }
          ]
         }
        },
        {
         "name": "Processing.Method",
         "dtype": "object",
         "stats": {
          "unique_count": 5,
          "nan_count": 170,
          "categories": [
           {
            "name": "Washed / Wet",
            "count": 815
           },
           {
            "name": "4 others",
            "count": 354
           },
           {
            "name": "Missing",
            "count": 170
           }
          ]
         }
        },
        {
         "name": "Aroma",
         "dtype": "float64",
         "stats": {
          "unique_count": 33,
          "nan_count": 0,
          "min": "0.0",
          "max": "8.75",
          "histogram": [
           {
            "bin_start": 0,
            "bin_end": 0.875,
            "count": 1
           },
           {
            "bin_start": 0.875,
            "bin_end": 1.75,
            "count": 0
           },
           {
            "bin_start": 1.75,
            "bin_end": 2.625,
            "count": 0
           },
           {
            "bin_start": 2.625,
            "bin_end": 3.5,
            "count": 0
           },
           {
            "bin_start": 3.5,
            "bin_end": 4.375,
            "count": 0
           },
           {
            "bin_start": 4.375,
            "bin_end": 5.25,
            "count": 1
           },
           {
            "bin_start": 5.25,
            "bin_end": 6.125,
            "count": 0
           },
           {
            "bin_start": 6.125,
            "bin_end": 7,
            "count": 38
           },
           {
            "bin_start": 7,
            "bin_end": 7.875,
            "count": 1120
           },
           {
            "bin_start": 7.875,
            "bin_end": 8.75,
            "count": 179
           }
          ]
         }
        },
        {
         "name": "Flavor",
         "dtype": "float64",
         "stats": {
          "unique_count": 35,
          "nan_count": 0,
          "min": "0.0",
          "max": "8.83",
          "histogram": [
           {
            "bin_start": 0,
            "bin_end": 0.883,
            "count": 1
           },
           {
            "bin_start": 0.883,
            "bin_end": 1.766,
            "count": 0
           },
           {
            "bin_start": 1.766,
            "bin_end": 2.649,
            "count": 0
           },
           {
            "bin_start": 2.649,
            "bin_end": 3.532,
            "count": 0
           },
           {
            "bin_start": 3.532,
            "bin_end": 4.415,
            "count": 0
           },
           {
            "bin_start": 4.415,
            "bin_end": 5.298,
            "count": 0
           },
           {
            "bin_start": 5.298,
            "bin_end": 6.181,
            "count": 3
           },
           {
            "bin_start": 6.181,
            "bin_end": 7.064,
            "count": 101
           },
           {
            "bin_start": 7.064,
            "bin_end": 7.947,
            "count": 1132
           },
           {
            "bin_start": 7.947,
            "bin_end": 8.83,
            "count": 102
           }
          ]
         }
        },
        {
         "name": "Aftertaste",
         "dtype": "float64",
         "stats": {
          "unique_count": 35,
          "nan_count": 0,
          "min": "0.0",
          "max": "8.67",
          "histogram": [
           {
            "bin_start": 0,
            "bin_end": 0.867,
            "count": 1
           },
           {
            "bin_start": 0.867,
            "bin_end": 1.734,
            "count": 0
           },
           {
            "bin_start": 1.734,
            "bin_end": 2.601,
            "count": 0
           },
           {
            "bin_start": 2.601,
            "bin_end": 3.468,
            "count": 0
           },
           {
            "bin_start": 3.468,
            "bin_end": 4.335,
            "count": 0
           },
           {
            "bin_start": 4.335,
            "bin_end": 5.202,
            "count": 0
           },
           {
            "bin_start": 5.202,
            "bin_end": 6.069,
            "count": 0
           },
           {
            "bin_start": 6.069,
            "bin_end": 6.936,
            "count": 128
           },
           {
            "bin_start": 6.936,
            "bin_end": 7.803,
            "count": 1065
           },
           {
            "bin_start": 7.803,
            "bin_end": 8.67,
            "count": 145
           }
          ]
         }
        },
        {
         "name": "Acidity",
         "dtype": "float64",
         "stats": {
          "unique_count": 31,
          "nan_count": 0,
          "min": "0.0",
          "max": "8.75",
          "histogram": [
           {
            "bin_start": 0,
            "bin_end": 0.875,
            "count": 1
           },
           {
            "bin_start": 0.875,
            "bin_end": 1.75,
            "count": 0
           },
           {
            "bin_start": 1.75,
            "bin_end": 2.625,
            "count": 0
           },
           {
            "bin_start": 2.625,
            "bin_end": 3.5,
            "count": 0
           },
           {
            "bin_start": 3.5,
            "bin_end": 4.375,
            "count": 0
           },
           {
            "bin_start": 4.375,
            "bin_end": 5.25,
            "count": 0
           },
           {
            "bin_start": 5.25,
            "bin_end": 6.125,
            "count": 2
           },
           {
            "bin_start": 6.125,
            "bin_end": 7,
            "count": 35
           },
           {
            "bin_start": 7,
            "bin_end": 7.875,
            "count": 1135
           },
           {
            "bin_start": 7.875,
            "bin_end": 8.75,
            "count": 166
           }
          ]
         }
        },
        {
         "name": "Body",
         "dtype": "float64",
         "stats": {
          "unique_count": 33,
          "nan_count": 0,
          "min": "0.0",
          "max": "8.58",
          "histogram": [
           {
            "bin_start": 0,
            "bin_end": 0.858,
            "count": 1
           },
           {
            "bin_start": 0.858,
            "bin_end": 1.716,
            "count": 0
           },
           {
            "bin_start": 1.716,
            "bin_end": 2.574,
            "count": 0
           },
           {
            "bin_start": 2.574,
            "bin_end": 3.432,
            "count": 0
           },
           {
            "bin_start": 3.432,
            "bin_end": 4.29,
            "count": 0
           },
           {
            "bin_start": 4.29,
            "bin_end": 5.148,
            "count": 1
           },
           {
            "bin_start": 5.148,
            "bin_end": 6.006,
            "count": 2
           },
           {
            "bin_start": 6.006,
            "bin_end": 6.864,
            "count": 14
           },
           {
            "bin_start": 6.864,
            "bin_end": 7.7219999999999995,
            "count": 991
           },
           {
            "bin_start": 7.7219999999999995,
            "bin_end": 8.58,
            "count": 330
           }
          ]
         }
        },
        {
         "name": "Balance",
         "dtype": "float64",
         "stats": {
          "unique_count": 33,
          "nan_count": 0,
          "min": "0.0",
          "max": "8.75",
          "histogram": [
           {
            "bin_start": 0,
            "bin_end": 0.875,
            "count": 1
           },
           {
            "bin_start": 0.875,
            "bin_end": 1.75,
            "count": 0
           },
           {
            "bin_start": 1.75,
            "bin_end": 2.625,
            "count": 0
           },
           {
            "bin_start": 2.625,
            "bin_end": 3.5,
            "count": 0
           },
           {
            "bin_start": 3.5,
            "bin_end": 4.375,
            "count": 0
           },
           {
            "bin_start": 4.375,
            "bin_end": 5.25,
            "count": 0
           },
           {
            "bin_start": 5.25,
            "bin_end": 6.125,
            "count": 2
           },
           {
            "bin_start": 6.125,
            "bin_end": 7,
            "count": 70
           },
           {
            "bin_start": 7,
            "bin_end": 7.875,
            "count": 1107
           },
           {
            "bin_start": 7.875,
            "bin_end": 8.75,
            "count": 159
           }
          ]
         }
        },
        {
         "name": "Uniformity",
         "dtype": "float64",
         "stats": {
          "unique_count": 10,
          "nan_count": 0,
          "min": "0.0",
          "max": "10.0",
          "histogram": [
           {
            "bin_start": 0,
            "bin_end": 1,
            "count": 1
           },
           {
            "bin_start": 1,
            "bin_end": 2,
            "count": 0
           },
           {
            "bin_start": 2,
            "bin_end": 3,
            "count": 0
           },
           {
            "bin_start": 3,
            "bin_end": 4,
            "count": 0
           },
           {
            "bin_start": 4,
            "bin_end": 5,
            "count": 0
           },
           {
            "bin_start": 5,
            "bin_end": 6,
            "count": 0
           },
           {
            "bin_start": 6,
            "bin_end": 7,
            "count": 10
           },
           {
            "bin_start": 7,
            "bin_end": 8,
            "count": 2
           },
           {
            "bin_start": 8,
            "bin_end": 9,
            "count": 56
           },
           {
            "bin_start": 9,
            "bin_end": 10,
            "count": 1270
           }
          ]
         }
        },
        {
         "name": "Clean.Cup",
         "dtype": "float64",
         "stats": {
          "unique_count": 11,
          "nan_count": 0,
          "min": "0.0",
          "max": "10.0",
          "histogram": [
           {
            "bin_start": 0,
            "bin_end": 1,
            "count": 2
           },
           {
            "bin_start": 1,
            "bin_end": 2,
            "count": 1
           },
           {
            "bin_start": 2,
            "bin_end": 3,
            "count": 2
           },
           {
            "bin_start": 3,
            "bin_end": 4,
            "count": 0
           },
           {
            "bin_start": 4,
            "bin_end": 5,
            "count": 0
           },
           {
            "bin_start": 5,
            "bin_end": 6,
            "count": 3
           },
           {
            "bin_start": 6,
            "bin_end": 7,
            "count": 19
           },
           {
            "bin_start": 7,
            "bin_end": 8,
            "count": 3
           },
           {
            "bin_start": 8,
            "bin_end": 9,
            "count": 29
           },
           {
            "bin_start": 9,
            "bin_end": 10,
            "count": 1280
           }
          ]
         }
        },
        {
         "name": "Sweetness",
         "dtype": "float64",
         "stats": {
          "unique_count": 17,
          "nan_count": 0,
          "min": "0.0",
          "max": "10.0",
          "histogram": [
           {
            "bin_start": 0,
            "bin_end": 1,
            "count": 1
           },
           {
            "bin_start": 1,
            "bin_end": 2,
            "count": 1
           },
           {
            "bin_start": 2,
            "bin_end": 3,
            "count": 0
           },
           {
            "bin_start": 3,
            "bin_end": 4,
            "count": 0
           },
           {
            "bin_start": 4,
            "bin_end": 5,
            "count": 0
           },
           {
            "bin_start": 5,
            "bin_end": 6,
            "count": 0
           },
           {
            "bin_start": 6,
            "bin_end": 7,
            "count": 11
           },
           {
            "bin_start": 7,
            "bin_end": 8,
            "count": 23
           },
           {
            "bin_start": 8,
            "bin_end": 9,
            "count": 24
           },
           {
            "bin_start": 9,
            "bin_end": 10,
            "count": 1279
           }
          ]
         }
        },
        {
         "name": "Cupper.Points",
         "dtype": "float64",
         "stats": {
          "unique_count": 42,
          "nan_count": 0,
          "min": "0.0",
          "max": "10.0",
          "histogram": [
           {
            "bin_start": 0,
            "bin_end": 1,
            "count": 1
           },
           {
            "bin_start": 1,
            "bin_end": 2,
            "count": 0
           },
           {
            "bin_start": 2,
            "bin_end": 3,
            "count": 0
           },
           {
            "bin_start": 3,
            "bin_end": 4,
            "count": 0
           },
           {
            "bin_start": 4,
            "bin_end": 5,
            "count": 0
           },
           {
            "bin_start": 5,
            "bin_end": 6,
            "count": 3
           },
           {
            "bin_start": 6,
            "bin_end": 7,
            "count": 99
           },
           {
            "bin_start": 7,
            "bin_end": 8,
            "count": 1092
           },
           {
            "bin_start": 8,
            "bin_end": 9,
            "count": 138
           },
           {
            "bin_start": 9,
            "bin_end": 10,
            "count": 6
           }
          ]
         }
        },
        {
         "name": "Total.Cup.Points",
         "dtype": "float64",
         "stats": {
          "unique_count": 180,
          "nan_count": 0,
          "min": "0.0",
          "max": "90.58",
          "histogram": [
           {
            "bin_start": 0,
            "bin_end": 9.058,
            "count": 1
           },
           {
            "bin_start": 9.058,
            "bin_end": 18.116,
            "count": 0
           },
           {
            "bin_start": 18.116,
            "bin_end": 27.174,
            "count": 0
           },
           {
            "bin_start": 27.174,
            "bin_end": 36.232,
            "count": 0
           },
           {
            "bin_start": 36.232,
            "bin_end": 45.29,
            "count": 0
           },
           {
            "bin_start": 45.29,
            "bin_end": 54.348,
            "count": 0
           },
           {
            "bin_start": 54.348,
            "bin_end": 63.406,
            "count": 2
           },
           {
            "bin_start": 63.406,
            "bin_end": 72.464,
            "count": 11
           },
           {
            "bin_start": 72.464,
            "bin_end": 81.52199999999999,
            "count": 402
           },
           {
            "bin_start": 81.52199999999999,
            "bin_end": 90.58,
            "count": 923
           }
          ]
         }
        },
        {
         "name": "Moisture",
         "dtype": "float64",
         "stats": {
          "unique_count": 23,
          "nan_count": 0,
          "min": "0.0",
          "max": "0.28",
          "histogram": [
           {
            "bin_start": 0,
            "bin_end": 0.028000000000000004,
            "count": 286
           },
           {
            "bin_start": 0.028000000000000004,
            "bin_end": 0.05600000000000001,
            "count": 16
           },
           {
            "bin_start": 0.05600000000000001,
            "bin_end": 0.08400000000000002,
            "count": 28
           },
           {
            "bin_start": 0.08400000000000002,
            "bin_end": 0.11200000000000002,
            "count": 592
           },
           {
            "bin_start": 0.11200000000000002,
            "bin_end": 0.14,
            "count": 370
           },
           {
            "bin_start": 0.14,
            "bin_end": 0.16800000000000004,
            "count": 36
           },
           {
            "bin_start": 0.16800000000000004,
            "bin_end": 0.19600000000000004,
            "count": 5
           },
           {
            "bin_start": 0.19600000000000004,
            "bin_end": 0.22400000000000003,
            "count": 5
           },
           {
            "bin_start": 0.22400000000000003,
            "bin_end": 0.25200000000000006,
            "count": 0
           },
           {
            "bin_start": 0.25200000000000006,
            "bin_end": 0.28,
            "count": 1
           }
          ]
         }
        },
        {
         "name": "Category.One.Defects",
         "dtype": "int64",
         "stats": {
          "unique_count": 18,
          "nan_count": 0,
          "min": "0",
          "max": "63",
          "histogram": [
           {
            "bin_start": 0,
            "bin_end": 6.3,
            "count": 1322
           },
           {
            "bin_start": 6.3,
            "bin_end": 12.6,
            "count": 11
           },
           {
            "bin_start": 12.6,
            "bin_end": 18.9,
            "count": 1
           },
           {
            "bin_start": 18.9,
            "bin_end": 25.2,
            "count": 2
           },
           {
            "bin_start": 25.2,
            "bin_end": 31.5,
            "count": 2
           },
           {
            "bin_start": 31.5,
            "bin_end": 37.8,
            "count": 0
           },
           {
            "bin_start": 37.8,
            "bin_end": 44.1,
            "count": 0
           },
           {
            "bin_start": 44.1,
            "bin_end": 50.4,
            "count": 0
           },
           {
            "bin_start": 50.4,
            "bin_end": 56.699999999999996,
            "count": 0
           },
           {
            "bin_start": 56.699999999999996,
            "bin_end": 63,
            "count": 1
           }
          ]
         }
        },
        {
         "name": "Quakers",
         "dtype": "float64",
         "stats": {
          "unique_count": 11,
          "nan_count": 1,
          "min": "0.0",
          "max": "11.0",
          "histogram": [
           {
            "bin_start": 0,
            "bin_end": 1.1,
            "count": 1283
           },
           {
            "bin_start": 1.1,
            "bin_end": 2.2,
            "count": 30
           },
           {
            "bin_start": 2.2,
            "bin_end": 3.3000000000000003,
            "count": 5
           },
           {
            "bin_start": 3.3000000000000003,
            "bin_end": 4.4,
            "count": 5
           },
           {
            "bin_start": 4.4,
            "bin_end": 5.5,
            "count": 5
           },
           {
            "bin_start": 5.5,
            "bin_end": 6.6000000000000005,
            "count": 4
           },
           {
            "bin_start": 6.6000000000000005,
            "bin_end": 7.700000000000001,
            "count": 3
           },
           {
            "bin_start": 7.700000000000001,
            "bin_end": 8.8,
            "count": 1
           },
           {
            "bin_start": 8.8,
            "bin_end": 9.9,
            "count": 1
           },
           {
            "bin_start": 9.9,
            "bin_end": 11,
            "count": 1
           }
          ]
         }
        },
        {
         "name": "Color",
         "dtype": "object",
         "stats": {
          "unique_count": 4,
          "nan_count": 218,
          "categories": [
           {
            "name": "Green",
            "count": 870
           },
           {
            "name": "3 others",
            "count": 251
           },
           {
            "name": "Missing",
            "count": 218
           }
          ]
         }
        },
        {
         "name": "Category.Two.Defects",
         "dtype": "int64",
         "stats": {
          "unique_count": 38,
          "nan_count": 0,
          "min": "0",
          "max": "55",
          "histogram": [
           {
            "bin_start": 0,
            "bin_end": 5.5,
            "count": 1087
           },
           {
            "bin_start": 5.5,
            "bin_end": 11,
            "count": 158
           },
           {
            "bin_start": 11,
            "bin_end": 16.5,
            "count": 51
           },
           {
            "bin_start": 16.5,
            "bin_end": 22,
            "count": 22
           },
           {
            "bin_start": 22,
            "bin_end": 27.5,
            "count": 8
           },
           {
            "bin_start": 27.5,
            "bin_end": 33,
            "count": 7
           },
           {
            "bin_start": 33,
            "bin_end": 38.5,
            "count": 2
           },
           {
            "bin_start": 38.5,
            "bin_end": 44,
            "count": 1
           },
           {
            "bin_start": 44,
            "bin_end": 49.5,
            "count": 2
           },
           {
            "bin_start": 49.5,
            "bin_end": 55,
            "count": 1
           }
          ]
         }
        },
        {
         "name": "Expiration",
         "dtype": "object",
         "stats": {
          "unique_count": 566,
          "nan_count": 0,
          "categories": [
           {
            "name": "July 11th, 2013",
            "count": 25
           },
           {
            "name": "December 26th, 2014",
            "count": 25
           },
           {
            "name": "564 others",
            "count": 1289
           }
          ]
         }
        },
        {
         "name": "Certification.Body",
         "dtype": "object",
         "stats": {
          "unique_count": 26,
          "nan_count": 0,
          "categories": [
           {
            "name": "Specialty Coffee Association",
            "count": 313
           },
           {
            "name": "AMECAFE",
            "count": 205
           },
           {
            "name": "24 others",
            "count": 821
           }
          ]
         }
        },
        {
         "name": "Certification.Address",
         "dtype": "object",
         "stats": {
          "unique_count": 32,
          "nan_count": 0,
          "categories": [
           {
            "name": "36d0d00a3724338ba7937c52a378d085f2172daa",
            "count": 293
           },
           {
            "name": "59e396ad6e22a1c22b248f958e1da2bd8af85272",
            "count": 204
           },
           {
            "name": "30 others",
            "count": 842
           }
          ]
         }
        },
        {
         "name": "Certification.Contact",
         "dtype": "object",
         "stats": {
          "unique_count": 29,
          "nan_count": 0,
          "categories": [
           {
            "name": "0878a7d4b9d35ddbf0fe2ce69a2062cceb45a660",
            "count": 295
           },
           {
            "name": "0eb4ee5b3f47b20b049548a2fd1e7d4a2b70d0a7",
            "count": 204
           },
           {
            "name": "27 others",
            "count": 840
           }
          ]
         }
        },
        {
         "name": "unit_of_measurement",
         "dtype": "object",
         "stats": {
          "unique_count": 2,
          "nan_count": 0,
          "categories": [
           {
            "name": "m",
            "count": 1157
           },
           {
            "name": "ft",
            "count": 182
           }
          ]
         }
        },
        {
         "name": "altitude_low_meters",
         "dtype": "float64",
         "stats": {
          "unique_count": 198,
          "nan_count": 230,
          "min": "1.0",
          "max": "190164.0",
          "histogram": [
           {
            "bin_start": 1,
            "bin_end": 19017.3,
            "count": 1106
           },
           {
            "bin_start": 19017.3,
            "bin_end": 38033.6,
            "count": 0
           },
           {
            "bin_start": 38033.6,
            "bin_end": 57049.899999999994,
            "count": 0
           },
           {
            "bin_start": 57049.899999999994,
            "bin_end": 76066.2,
            "count": 0
           },
           {
            "bin_start": 76066.2,
            "bin_end": 95082.5,
            "count": 0
           },
           {
            "bin_start": 95082.5,
            "bin_end": 114098.79999999999,
            "count": 1
           },
           {
            "bin_start": 114098.79999999999,
            "bin_end": 133115.1,
            "count": 0
           },
           {
            "bin_start": 133115.1,
            "bin_end": 152131.4,
            "count": 0
           },
           {
            "bin_start": 152131.4,
            "bin_end": 171147.69999999998,
            "count": 0
           },
           {
            "bin_start": 171147.69999999998,
            "bin_end": 190164,
            "count": 2
           }
          ]
         }
        },
        {
         "name": "altitude_high_meters",
         "dtype": "float64",
         "stats": {
          "unique_count": 198,
          "nan_count": 230,
          "min": "1.0",
          "max": "190164.0",
          "histogram": [
           {
            "bin_start": 1,
            "bin_end": 19017.3,
            "count": 1106
           },
           {
            "bin_start": 19017.3,
            "bin_end": 38033.6,
            "count": 0
           },
           {
            "bin_start": 38033.6,
            "bin_end": 57049.899999999994,
            "count": 0
           },
           {
            "bin_start": 57049.899999999994,
            "bin_end": 76066.2,
            "count": 0
           },
           {
            "bin_start": 76066.2,
            "bin_end": 95082.5,
            "count": 0
           },
           {
            "bin_start": 95082.5,
            "bin_end": 114098.79999999999,
            "count": 1
           },
           {
            "bin_start": 114098.79999999999,
            "bin_end": 133115.1,
            "count": 0
           },
           {
            "bin_start": 133115.1,
            "bin_end": 152131.4,
            "count": 0
           },
           {
            "bin_start": 152131.4,
            "bin_end": 171147.69999999998,
            "count": 0
           },
           {
            "bin_start": 171147.69999999998,
            "bin_end": 190164,
            "count": 2
           }
          ]
         }
        },
        {
         "name": "altitude_mean_meters",
         "dtype": "float64",
         "stats": {
          "unique_count": 211,
          "nan_count": 230,
          "min": "1.0",
          "max": "190164.0",
          "histogram": [
           {
            "bin_start": 1,
            "bin_end": 19017.3,
            "count": 1106
           },
           {
            "bin_start": 19017.3,
            "bin_end": 38033.6,
            "count": 0
           },
           {
            "bin_start": 38033.6,
            "bin_end": 57049.899999999994,
            "count": 0
           },
           {
            "bin_start": 57049.899999999994,
            "bin_end": 76066.2,
            "count": 0
           },
           {
            "bin_start": 76066.2,
            "bin_end": 95082.5,
            "count": 0
           },
           {
            "bin_start": 95082.5,
            "bin_end": 114098.79999999999,
            "count": 1
           },
           {
            "bin_start": 114098.79999999999,
            "bin_end": 133115.1,
            "count": 0
           },
           {
            "bin_start": 133115.1,
            "bin_end": 152131.4,
            "count": 0
           },
           {
            "bin_start": 152131.4,
            "bin_end": 171147.69999999998,
            "count": 0
           },
           {
            "bin_start": 171147.69999999998,
            "bin_end": 190164,
            "count": 2
           }
          ]
         }
        },
        {
         "name": "_deepnote_index_column",
         "dtype": "int64"
        }
       ],
       "rows_top": [
        {
         "Unnamed: 0": 0,
         "Species": "Arabica",
         "Owner": "metad plc",
         "Country.of.Origin": "Ethiopia",
         "Farm.Name": "metad plc",
         "Lot.Number": "nan",
         "Mill": "metad plc",
         "ICO.Number": "2014/2015",
         "Company": "metad agricultural developmet plc",
         "Altitude": "1950-2200",
         "Region": "guji-hambela",
         "Producer": "METAD PLC",
         "Number.of.Bags": 300,
         "Bag.Weight": "60 kg",
         "In.Country.Partner": "METAD Agricultural Development plc",
         "Harvest.Year": "2014",
         "Grading.Date": "April 4th, 2015",
         "Owner.1": "metad plc",
         "Variety": "nan",
         "Processing.Method": "Washed / Wet",
         "Aroma": 8.67,
         "Flavor": 8.83,
         "Aftertaste": 8.67,
         "Acidity": 8.75,
         "Body": 8.5,
         "Balance": 8.42,
         "Uniformity": 10,
         "Clean.Cup": 10,
         "Sweetness": 10,
         "Cupper.Points": 8.75,
         "Total.Cup.Points": 90.58,
         "Moisture": 0.12,
         "Category.One.Defects": 0,
         "Quakers": 0,
         "Color": "Green",
         "Category.Two.Defects": 0,
         "Expiration": "April 3rd, 2016",
         "Certification.Body": "METAD Agricultural Development plc",
         "Certification.Address": "309fcf77415a3661ae83e027f7e5f05dad786e44",
         "Certification.Contact": "19fef5a731de2db57d16da10287413f5f99bc2dd",
         "unit_of_measurement": "m",
         "altitude_low_meters": 1950,
         "altitude_high_meters": 2200,
         "altitude_mean_meters": 2075,
         "_deepnote_index_column": 0
        },
        {
         "Unnamed: 0": 1,
         "Species": "Arabica",
         "Owner": "metad plc",
         "Country.of.Origin": "Ethiopia",
         "Farm.Name": "metad plc",
         "Lot.Number": "nan",
         "Mill": "metad plc",
         "ICO.Number": "2014/2015",
         "Company": "metad agricultural developmet plc",
         "Altitude": "1950-2200",
         "Region": "guji-hambela",
         "Producer": "METAD PLC",
         "Number.of.Bags": 300,
         "Bag.Weight": "60 kg",
         "In.Country.Partner": "METAD Agricultural Development plc",
         "Harvest.Year": "2014",
         "Grading.Date": "April 4th, 2015",
         "Owner.1": "metad plc",
         "Variety": "Other",
         "Processing.Method": "Washed / Wet",
         "Aroma": 8.75,
         "Flavor": 8.67,
         "Aftertaste": 8.5,
         "Acidity": 8.58,
         "Body": 8.42,
         "Balance": 8.42,
         "Uniformity": 10,
         "Clean.Cup": 10,
         "Sweetness": 10,
         "Cupper.Points": 8.58,
         "Total.Cup.Points": 89.92,
         "Moisture": 0.12,
         "Category.One.Defects": 0,
         "Quakers": 0,
         "Color": "Green",
         "Category.Two.Defects": 1,
         "Expiration": "April 3rd, 2016",
         "Certification.Body": "METAD Agricultural Development plc",
         "Certification.Address": "309fcf77415a3661ae83e027f7e5f05dad786e44",
         "Certification.Contact": "19fef5a731de2db57d16da10287413f5f99bc2dd",
         "unit_of_measurement": "m",
         "altitude_low_meters": 1950,
         "altitude_high_meters": 2200,
         "altitude_mean_meters": 2075,
         "_deepnote_index_column": 1
        },
        {
         "Unnamed: 0": 2,
         "Species": "Arabica",
         "Owner": "grounds for health admin",
         "Country.of.Origin": "Guatemala",
         "Farm.Name": "san marcos barrancas \"san cristobal cuch",
         "Lot.Number": "nan",
         "Mill": "nan",
         "ICO.Number": "nan",
         "Company": "nan",
         "Altitude": "1600 - 1800 m",
         "Region": "nan",
         "Producer": "nan",
         "Number.of.Bags": 5,
         "Bag.Weight": "1",
         "In.Country.Partner": "Specialty Coffee Association",
         "Harvest.Year": "nan",
         "Grading.Date": "May 31st, 2010",
         "Owner.1": "Grounds for Health Admin",
         "Variety": "Bourbon",
         "Processing.Method": "nan",
         "Aroma": 8.42,
         "Flavor": 8.5,
         "Aftertaste": 8.42,
         "Acidity": 8.42,
         "Body": 8.33,
         "Balance": 8.42,
         "Uniformity": 10,
         "Clean.Cup": 10,
         "Sweetness": 10,
         "Cupper.Points": 9.25,
         "Total.Cup.Points": 89.75,
         "Moisture": 0,
         "Category.One.Defects": 0,
         "Quakers": 0,
         "Color": "nan",
         "Category.Two.Defects": 0,
         "Expiration": "May 31st, 2011",
         "Certification.Body": "Specialty Coffee Association",
         "Certification.Address": "36d0d00a3724338ba7937c52a378d085f2172daa",
         "Certification.Contact": "0878a7d4b9d35ddbf0fe2ce69a2062cceb45a660",
         "unit_of_measurement": "m",
         "altitude_low_meters": 1600,
         "altitude_high_meters": 1800,
         "altitude_mean_meters": 1700,
         "_deepnote_index_column": 2
        },
        {
         "Unnamed: 0": 3,
         "Species": "Arabica",
         "Owner": "yidnekachew dabessa",
         "Country.of.Origin": "Ethiopia",
         "Farm.Name": "yidnekachew dabessa coffee plantation",
         "Lot.Number": "nan",
         "Mill": "wolensu",
         "ICO.Number": "nan",
         "Company": "yidnekachew debessa coffee plantation",
         "Altitude": "1800-2200",
         "Region": "oromia",
         "Producer": "Yidnekachew Dabessa Coffee Plantation",
         "Number.of.Bags": 320,
         "Bag.Weight": "60 kg",
         "In.Country.Partner": "METAD Agricultural Development plc",
         "Harvest.Year": "2014",
         "Grading.Date": "March 26th, 2015",
         "Owner.1": "Yidnekachew Dabessa",
         "Variety": "nan",
         "Processing.Method": "Natural / Dry",
         "Aroma": 8.17,
         "Flavor": 8.58,
         "Aftertaste": 8.42,
         "Acidity": 8.42,
         "Body": 8.5,
         "Balance": 8.25,
         "Uniformity": 10,
         "Clean.Cup": 10,
         "Sweetness": 10,
         "Cupper.Points": 8.67,
         "Total.Cup.Points": 89,
         "Moisture": 0.11,
         "Category.One.Defects": 0,
         "Quakers": 0,
         "Color": "Green",
         "Category.Two.Defects": 2,
         "Expiration": "March 25th, 2016",
         "Certification.Body": "METAD Agricultural Development plc",
         "Certification.Address": "309fcf77415a3661ae83e027f7e5f05dad786e44",
         "Certification.Contact": "19fef5a731de2db57d16da10287413f5f99bc2dd",
         "unit_of_measurement": "m",
         "altitude_low_meters": 1800,
         "altitude_high_meters": 2200,
         "altitude_mean_meters": 2000,
         "_deepnote_index_column": 3
        },
        {
         "Unnamed: 0": 4,
         "Species": "Arabica",
         "Owner": "metad plc",
         "Country.of.Origin": "Ethiopia",
         "Farm.Name": "metad plc",
         "Lot.Number": "nan",
         "Mill": "metad plc",
         "ICO.Number": "2014/2015",
         "Company": "metad agricultural developmet plc",
         "Altitude": "1950-2200",
         "Region": "guji-hambela",
         "Producer": "METAD PLC",
         "Number.of.Bags": 300,
         "Bag.Weight": "60 kg",
         "In.Country.Partner": "METAD Agricultural Development plc",
         "Harvest.Year": "2014",
         "Grading.Date": "April 4th, 2015",
         "Owner.1": "metad plc",
         "Variety": "Other",
         "Processing.Method": "Washed / Wet",
         "Aroma": 8.25,
         "Flavor": 8.5,
         "Aftertaste": 8.25,
         "Acidity": 8.5,
         "Body": 8.42,
         "Balance": 8.33,
         "Uniformity": 10,
         "Clean.Cup": 10,
         "Sweetness": 10,
         "Cupper.Points": 8.58,
         "Total.Cup.Points": 88.83,
         "Moisture": 0.12,
         "Category.One.Defects": 0,
         "Quakers": 0,
         "Color": "Green",
         "Category.Two.Defects": 2,
         "Expiration": "April 3rd, 2016",
         "Certification.Body": "METAD Agricultural Development plc",
         "Certification.Address": "309fcf77415a3661ae83e027f7e5f05dad786e44",
         "Certification.Contact": "19fef5a731de2db57d16da10287413f5f99bc2dd",
         "unit_of_measurement": "m",
         "altitude_low_meters": 1950,
         "altitude_high_meters": 2200,
         "altitude_mean_meters": 2075,
         "_deepnote_index_column": 4
        },
        {
         "Unnamed: 0": 5,
         "Species": "Arabica",
         "Owner": "ji-ae ahn",
         "Country.of.Origin": "Brazil",
         "Farm.Name": "nan",
         "Lot.Number": "nan",
         "Mill": "nan",
         "ICO.Number": "nan",
         "Company": "nan",
         "Altitude": "nan",
         "Region": "nan",
         "Producer": "nan",
         "Number.of.Bags": 100,
         "Bag.Weight": "30 kg",
         "In.Country.Partner": "Specialty Coffee Institute of Asia",
         "Harvest.Year": "2013",
         "Grading.Date": "September 3rd, 2013",
         "Owner.1": "Ji-Ae Ahn",
         "Variety": "nan",
         "Processing.Method": "Natural / Dry",
         "Aroma": 8.58,
         "Flavor": 8.42,
         "Aftertaste": 8.42,
         "Acidity": 8.5,
         "Body": 8.25,
         "Balance": 8.33,
         "Uniformity": 10,
         "Clean.Cup": 10,
         "Sweetness": 10,
         "Cupper.Points": 8.33,
         "Total.Cup.Points": 88.83,
         "Moisture": 0.11,
         "Category.One.Defects": 0,
         "Quakers": 0,
         "Color": "Bluish-Green",
         "Category.Two.Defects": 1,
         "Expiration": "September 3rd, 2014",
         "Certification.Body": "Specialty Coffee Institute of Asia",
         "Certification.Address": "726e4891cf2c9a4848768bd34b668124d12c4224",
         "Certification.Contact": "b70da261fcc84831e3e9620c30a8701540abc200",
         "unit_of_measurement": "m",
         "altitude_low_meters": "nan",
         "altitude_high_meters": "nan",
         "altitude_mean_meters": "nan",
         "_deepnote_index_column": 5
        },
        {
         "Unnamed: 0": 6,
         "Species": "Arabica",
         "Owner": "hugo valdivia",
         "Country.of.Origin": "Peru",
         "Farm.Name": "nan",
         "Lot.Number": "nan",
         "Mill": "hvc",
         "ICO.Number": "nan",
         "Company": "richmond investment-coffee department",
         "Altitude": "nan",
         "Region": "nan",
         "Producer": "HVC",
         "Number.of.Bags": 100,
         "Bag.Weight": "69 kg",
         "In.Country.Partner": "Specialty Coffee Institute of Asia",
         "Harvest.Year": "2012",
         "Grading.Date": "September 17th, 2012",
         "Owner.1": "Hugo Valdivia",
         "Variety": "Other",
         "Processing.Method": "Washed / Wet",
         "Aroma": 8.42,
         "Flavor": 8.5,
         "Aftertaste": 8.33,
         "Acidity": 8.5,
         "Body": 8.25,
         "Balance": 8.25,
         "Uniformity": 10,
         "Clean.Cup": 10,
         "Sweetness": 10,
         "Cupper.Points": 8.5,
         "Total.Cup.Points": 88.75,
         "Moisture": 0.11,
         "Category.One.Defects": 0,
         "Quakers": 0,
         "Color": "Bluish-Green",
         "Category.Two.Defects": 0,
         "Expiration": "September 17th, 2013",
         "Certification.Body": "Specialty Coffee Institute of Asia",
         "Certification.Address": "726e4891cf2c9a4848768bd34b668124d12c4224",
         "Certification.Contact": "b70da261fcc84831e3e9620c30a8701540abc200",
         "unit_of_measurement": "m",
         "altitude_low_meters": "nan",
         "altitude_high_meters": "nan",
         "altitude_mean_meters": "nan",
         "_deepnote_index_column": 6
        },
        {
         "Unnamed: 0": 7,
         "Species": "Arabica",
         "Owner": "ethiopia commodity exchange",
         "Country.of.Origin": "Ethiopia",
         "Farm.Name": "aolme",
         "Lot.Number": "nan",
         "Mill": "c.p.w.e",
         "ICO.Number": "010/0338",
         "Company": "nan",
         "Altitude": "1570-1700",
         "Region": "oromia",
         "Producer": "Bazen Agricultural & Industrial Dev't Plc",
         "Number.of.Bags": 300,
         "Bag.Weight": "60 kg",
         "In.Country.Partner": "Ethiopia Commodity Exchange",
         "Harvest.Year": "March 2010",
         "Grading.Date": "September 2nd, 2010",
         "Owner.1": "Ethiopia Commodity Exchange",
         "Variety": "nan",
         "Processing.Method": "nan",
         "Aroma": 8.25,
         "Flavor": 8.33,
         "Aftertaste": 8.5,
         "Acidity": 8.42,
         "Body": 8.33,
         "Balance": 8.5,
         "Uniformity": 10,
         "Clean.Cup": 10,
         "Sweetness": 9.33,
         "Cupper.Points": 9,
         "Total.Cup.Points": 88.67,
         "Moisture": 0.03,
         "Category.One.Defects": 0,
         "Quakers": 0,
         "Color": "nan",
         "Category.Two.Defects": 0,
         "Expiration": "September 2nd, 2011",
         "Certification.Body": "Ethiopia Commodity Exchange",
         "Certification.Address": "a176532400aebdc345cf3d870f84ed3ecab6249e",
         "Certification.Contact": "61bbaf6a9f341e5782b8e7bd3ebf76aac89fe24b",
         "unit_of_measurement": "m",
         "altitude_low_meters": 1570,
         "altitude_high_meters": 1700,
         "altitude_mean_meters": 1635,
         "_deepnote_index_column": 7
        },
        {
         "Unnamed: 0": 8,
         "Species": "Arabica",
         "Owner": "ethiopia commodity exchange",
         "Country.of.Origin": "Ethiopia",
         "Farm.Name": "aolme",
         "Lot.Number": "nan",
         "Mill": "c.p.w.e",
         "ICO.Number": "010/0338",
         "Company": "nan",
         "Altitude": "1570-1700",
         "Region": "oromiya",
         "Producer": "Bazen Agricultural & Industrial Dev't Plc",
         "Number.of.Bags": 300,
         "Bag.Weight": "60 kg",
         "In.Country.Partner": "Ethiopia Commodity Exchange",
         "Harvest.Year": "March 2010",
         "Grading.Date": "September 2nd, 2010",
         "Owner.1": "Ethiopia Commodity Exchange",
         "Variety": "nan",
         "Processing.Method": "nan",
         "Aroma": 8.67,
         "Flavor": 8.67,
         "Aftertaste": 8.58,
         "Acidity": 8.42,
         "Body": 8.33,
         "Balance": 8.42,
         "Uniformity": 9.33,
         "Clean.Cup": 10,
         "Sweetness": 9.33,
         "Cupper.Points": 8.67,
         "Total.Cup.Points": 88.42,
         "Moisture": 0.03,
         "Category.One.Defects": 0,
         "Quakers": 0,
         "Color": "nan",
         "Category.Two.Defects": 0,
         "Expiration": "September 2nd, 2011",
         "Certification.Body": "Ethiopia Commodity Exchange",
         "Certification.Address": "a176532400aebdc345cf3d870f84ed3ecab6249e",
         "Certification.Contact": "61bbaf6a9f341e5782b8e7bd3ebf76aac89fe24b",
         "unit_of_measurement": "m",
         "altitude_low_meters": 1570,
         "altitude_high_meters": 1700,
         "altitude_mean_meters": 1635,
         "_deepnote_index_column": 8
        },
        {
         "Unnamed: 0": 9,
         "Species": "Arabica",
         "Owner": "diamond enterprise plc",
         "Country.of.Origin": "Ethiopia",
         "Farm.Name": "tulla coffee farm",
         "Lot.Number": "nan",
         "Mill": "tulla coffee farm",
         "ICO.Number": "2014/15",
         "Company": "diamond enterprise plc",
         "Altitude": "1795-1850",
         "Region": "snnp/kaffa zone,gimbowereda",
         "Producer": "Diamond Enterprise Plc",
         "Number.of.Bags": 50,
         "Bag.Weight": "60 kg",
         "In.Country.Partner": "METAD Agricultural Development plc",
         "Harvest.Year": "2014",
         "Grading.Date": "March 30th, 2015",
         "Owner.1": "Diamond Enterprise Plc",
         "Variety": "Other",
         "Processing.Method": "Natural / Dry",
         "Aroma": 8.08,
         "Flavor": 8.58,
         "Aftertaste": 8.5,
         "Acidity": 8.5,
         "Body": 7.67,
         "Balance": 8.42,
         "Uniformity": 10,
         "Clean.Cup": 10,
         "Sweetness": 10,
         "Cupper.Points": 8.5,
         "Total.Cup.Points": 88.25,
         "Moisture": 0.1,
         "Category.One.Defects": 0,
         "Quakers": 0,
         "Color": "Green",
         "Category.Two.Defects": 4,
         "Expiration": "March 29th, 2016",
         "Certification.Body": "METAD Agricultural Development plc",
         "Certification.Address": "309fcf77415a3661ae83e027f7e5f05dad786e44",
         "Certification.Contact": "19fef5a731de2db57d16da10287413f5f99bc2dd",
         "unit_of_measurement": "m",
         "altitude_low_meters": 1795,
         "altitude_high_meters": 1850,
         "altitude_mean_meters": 1822.5,
         "_deepnote_index_column": 9
        },
        {
         "Unnamed: 0": 10,
         "Species": "Arabica",
         "Owner": "mohammed lalo",
         "Country.of.Origin": "Ethiopia",
         "Farm.Name": "fahem coffee plantation",
         "Lot.Number": "nan",
         "Mill": "nan",
         "ICO.Number": "nan",
         "Company": "fahem coffee plantation",
         "Altitude": "1855-1955",
         "Region": "oromia",
         "Producer": "Fahem Coffee Plantation",
         "Number.of.Bags": 300,
         "Bag.Weight": "60 kg",
         "In.Country.Partner": "METAD Agricultural Development plc",
         "Harvest.Year": "2014",
         "Grading.Date": "March 27th, 2015",
         "Owner.1": "Mohammed Lalo",
         "Variety": "nan",
         "Processing.Method": "Natural / Dry",
         "Aroma": 8.17,
         "Flavor": 8.67,
         "Aftertaste": 8.25,
         "Acidity": 8.5,
         "Body": 7.75,
         "Balance": 8.17,
         "Uniformity": 10,
         "Clean.Cup": 10,
         "Sweetness": 10,
         "Cupper.Points": 8.58,
         "Total.Cup.Points": 88.08,
         "Moisture": 0.1,
         "Category.One.Defects": 0,
         "Quakers": 0,
         "Color": "nan",
         "Category.Two.Defects": 1,
         "Expiration": "March 26th, 2016",
         "Certification.Body": "METAD Agricultural Development plc",
         "Certification.Address": "309fcf77415a3661ae83e027f7e5f05dad786e44",
         "Certification.Contact": "19fef5a731de2db57d16da10287413f5f99bc2dd",
         "unit_of_measurement": "m",
         "altitude_low_meters": 1855,
         "altitude_high_meters": 1955,
         "altitude_mean_meters": 1905,
         "_deepnote_index_column": 10
        }
       ],
       "rows_bottom": [
        {
         "Unnamed: 0": 1328,
         "Species": "Robusta",
         "Owner": "kawacom uganda ltd",
         "Country.of.Origin": "Uganda",
         "Farm.Name": "bushenyi",
         "Lot.Number": "nan",
         "Mill": "kawacom",
         "ICO.Number": "0",
         "Company": "kawacom uganda ltd",
         "Altitude": "1600",
         "Region": "western",
         "Producer": "Kawacom uganda ltd",
         "Number.of.Bags": 1,
         "Bag.Weight": "60 kg",
         "In.Country.Partner": "Uganda Coffee Development Authority",
         "Harvest.Year": "2013",
         "Grading.Date": "June 27th, 2014",
         "Owner.1": "Kawacom Uganda LTD",
         "Variety": "nan",
         "Processing.Method": "nan",
         "Aroma": 7.33,
         "Flavor": 7.58,
         "Aftertaste": 7.5,
         "Acidity": 7.75,
         "Body": 7.75,
         "Balance": 7.67,
         "Uniformity": 10,
         "Clean.Cup": 10,
         "Sweetness": 7.75,
         "Cupper.Points": 7.58,
         "Total.Cup.Points": 80.92,
         "Moisture": 0.12,
         "Category.One.Defects": 0,
         "Quakers": 0,
         "Color": "Green",
         "Category.Two.Defects": 1,
         "Expiration": "June 27th, 2015",
         "Certification.Body": "Uganda Coffee Development Authority",
         "Certification.Address": "e36d0270932c3b657e96b7b0278dfd85dc0fe743",
         "Certification.Contact": "03077a1c6bac60e6f514691634a7f6eb5c85aae8",
         "unit_of_measurement": "m",
         "altitude_low_meters": 1600,
         "altitude_high_meters": 1600,
         "altitude_mean_meters": 1600,
         "_deepnote_index_column": 1328
        },
        {
         "Unnamed: 0": 1329,
         "Species": "Robusta",
         "Owner": "nitubaasa ltd",
         "Country.of.Origin": "Uganda",
         "Farm.Name": "kigezi coffee farmers association",
         "Lot.Number": "nan",
         "Mill": "nitubaasa",
         "ICO.Number": "0",
         "Company": "nitubaasa ltd",
         "Altitude": "1745",
         "Region": "western",
         "Producer": "Kigezi Coffee Farmers Association",
         "Number.of.Bags": 20,
         "Bag.Weight": "60 kg",
         "In.Country.Partner": "Uganda Coffee Development Authority",
         "Harvest.Year": "2013",
         "Grading.Date": "June 27th, 2014",
         "Owner.1": "Nitubaasa Ltd",
         "Variety": "nan",
         "Processing.Method": "nan",
         "Aroma": 7.83,
         "Flavor": 7.58,
         "Aftertaste": 7.33,
         "Acidity": 7.67,
         "Body": 7.5,
         "Balance": 7.5,
         "Uniformity": 10,
         "Clean.Cup": 10,
         "Sweetness": 7.75,
         "Cupper.Points": 7.42,
         "Total.Cup.Points": 80.58,
         "Moisture": 0.12,
         "Category.One.Defects": 0,
         "Quakers": 0,
         "Color": "Green",
         "Category.Two.Defects": 2,
         "Expiration": "June 27th, 2015",
         "Certification.Body": "Uganda Coffee Development Authority",
         "Certification.Address": "e36d0270932c3b657e96b7b0278dfd85dc0fe743",
         "Certification.Contact": "03077a1c6bac60e6f514691634a7f6eb5c85aae8",
         "unit_of_measurement": "m",
         "altitude_low_meters": 1745,
         "altitude_high_meters": 1745,
         "altitude_mean_meters": 1745,
         "_deepnote_index_column": 1329
        },
        {
         "Unnamed: 0": 1330,
         "Species": "Robusta",
         "Owner": "mannya coffee project",
         "Country.of.Origin": "Uganda",
         "Farm.Name": "mannya coffee project",
         "Lot.Number": "nan",
         "Mill": "mannya coffee project",
         "ICO.Number": "0",
         "Company": "mannya coffee project",
         "Altitude": "1200",
         "Region": "southern",
         "Producer": "Mannya coffee project",
         "Number.of.Bags": 6,
         "Bag.Weight": "60 kg",
         "In.Country.Partner": "Uganda Coffee Development Authority",
         "Harvest.Year": "2013",
         "Grading.Date": "June 27th, 2014",
         "Owner.1": "Mannya coffee project",
         "Variety": "nan",
         "Processing.Method": "nan",
         "Aroma": 7.75,
         "Flavor": 7.42,
         "Aftertaste": 7.33,
         "Acidity": 7.58,
         "Body": 7.67,
         "Balance": 7.58,
         "Uniformity": 10,
         "Clean.Cup": 10,
         "Sweetness": 7.67,
         "Cupper.Points": 7.5,
         "Total.Cup.Points": 80.5,
         "Moisture": 0.12,
         "Category.One.Defects": 0,
         "Quakers": 0,
         "Color": "Green",
         "Category.Two.Defects": 1,
         "Expiration": "June 27th, 2015",
         "Certification.Body": "Uganda Coffee Development Authority",
         "Certification.Address": "e36d0270932c3b657e96b7b0278dfd85dc0fe743",
         "Certification.Contact": "03077a1c6bac60e6f514691634a7f6eb5c85aae8",
         "unit_of_measurement": "m",
         "altitude_low_meters": 1200,
         "altitude_high_meters": 1200,
         "altitude_mean_meters": 1200,
         "_deepnote_index_column": 1330
        },
        {
         "Unnamed: 0": 1331,
         "Species": "Robusta",
         "Owner": "andrew hetzel",
         "Country.of.Origin": "India",
         "Farm.Name": "sethuraman estates",
         "Lot.Number": "nan",
         "Mill": "nan",
         "ICO.Number": "nan",
         "Company": "cafemakers",
         "Altitude": "750m",
         "Region": "chikmagalur",
         "Producer": "Nishant Gurjer",
         "Number.of.Bags": 100,
         "Bag.Weight": "2 kg",
         "In.Country.Partner": "Specialty Coffee Association",
         "Harvest.Year": "2014",
         "Grading.Date": "May 19th, 2014",
         "Owner.1": "Andrew Hetzel",
         "Variety": "nan",
         "Processing.Method": "nan",
         "Aroma": 7.67,
         "Flavor": 7.67,
         "Aftertaste": 7.5,
         "Acidity": 7.33,
         "Body": 7.58,
         "Balance": 7.5,
         "Uniformity": 10,
         "Clean.Cup": 10,
         "Sweetness": 7.42,
         "Cupper.Points": 7.5,
         "Total.Cup.Points": 80.17,
         "Moisture": 0,
         "Category.One.Defects": 0,
         "Quakers": 0,
         "Color": "Bluish-Green",
         "Category.Two.Defects": 1,
         "Expiration": "May 19th, 2015",
         "Certification.Body": "Specialty Coffee Association",
         "Certification.Address": "ff7c18ad303d4b603ac3f8cff7e611ffc735e720",
         "Certification.Contact": "352d0cf7f3e9be14dad7df644ad65efc27605ae2",
         "unit_of_measurement": "m",
         "altitude_low_meters": 750,
         "altitude_high_meters": 750,
         "altitude_mean_meters": 750,
         "_deepnote_index_column": 1331
        },
        {
         "Unnamed: 0": 1332,
         "Species": "Robusta",
         "Owner": "andrew hetzel",
         "Country.of.Origin": "India",
         "Farm.Name": "sethuraman estates",
         "Lot.Number": "nan",
         "Mill": "sethuraman estates",
         "ICO.Number": "nan",
         "Company": "cafemakers, llc",
         "Altitude": "750m",
         "Region": "chikmagalur",
         "Producer": "Nishant Gurjer",
         "Number.of.Bags": 250,
         "Bag.Weight": "2 kg",
         "In.Country.Partner": "Specialty Coffee Association",
         "Harvest.Year": "2013",
         "Grading.Date": "June 20th, 2013",
         "Owner.1": "Andrew Hetzel",
         "Variety": "nan",
         "Processing.Method": "Natural / Dry",
         "Aroma": 7.58,
         "Flavor": 7.42,
         "Aftertaste": 7.42,
         "Acidity": 7.83,
         "Body": 7.42,
         "Balance": 7.5,
         "Uniformity": 10,
         "Clean.Cup": 10,
         "Sweetness": 7.42,
         "Cupper.Points": 7.58,
         "Total.Cup.Points": 80.17,
         "Moisture": 0,
         "Category.One.Defects": 0,
         "Quakers": 0,
         "Color": "Green",
         "Category.Two.Defects": 0,
         "Expiration": "June 20th, 2014",
         "Certification.Body": "Specialty Coffee Association",
         "Certification.Address": "ff7c18ad303d4b603ac3f8cff7e611ffc735e720",
         "Certification.Contact": "352d0cf7f3e9be14dad7df644ad65efc27605ae2",
         "unit_of_measurement": "m",
         "altitude_low_meters": 750,
         "altitude_high_meters": 750,
         "altitude_mean_meters": 750,
         "_deepnote_index_column": 1332
        },
        {
         "Unnamed: 0": 1333,
         "Species": "Robusta",
         "Owner": "andrew hetzel",
         "Country.of.Origin": "United States",
         "Farm.Name": "sethuraman estates",
         "Lot.Number": "nan",
         "Mill": "sethuraman estates",
         "ICO.Number": "nan",
         "Company": "cafemakers, llc",
         "Altitude": "3000'",
         "Region": "chikmagalur",
         "Producer": "Sethuraman Estates",
         "Number.of.Bags": 100,
         "Bag.Weight": "1 kg",
         "In.Country.Partner": "Specialty Coffee Association",
         "Harvest.Year": "2012",
         "Grading.Date": "February 29th, 2012",
         "Owner.1": "Andrew Hetzel",
         "Variety": "Arusha",
         "Processing.Method": "Natural / Dry",
         "Aroma": 7.92,
         "Flavor": 7.5,
         "Aftertaste": 7.42,
         "Acidity": 7.42,
         "Body": 7.42,
         "Balance": 7.42,
         "Uniformity": 9.33,
         "Clean.Cup": 10,
         "Sweetness": 7.58,
         "Cupper.Points": 7.33,
         "Total.Cup.Points": 79.33,
         "Moisture": 0,
         "Category.One.Defects": 0,
         "Quakers": 0,
         "Color": "Green",
         "Category.Two.Defects": 0,
         "Expiration": "February 28th, 2013",
         "Certification.Body": "Specialty Coffee Association",
         "Certification.Address": "ff7c18ad303d4b603ac3f8cff7e611ffc735e720",
         "Certification.Contact": "352d0cf7f3e9be14dad7df644ad65efc27605ae2",
         "unit_of_measurement": "m",
         "altitude_low_meters": 3000,
         "altitude_high_meters": 3000,
         "altitude_mean_meters": 3000,
         "_deepnote_index_column": 1333
        },
        {
         "Unnamed: 0": 1334,
         "Species": "Robusta",
         "Owner": "luis robles",
         "Country.of.Origin": "Ecuador",
         "Farm.Name": "robustasa",
         "Lot.Number": "Lavado 1",
         "Mill": "our own lab",
         "ICO.Number": "nan",
         "Company": "robustasa",
         "Altitude": "nan",
         "Region": "san juan, playas",
         "Producer": "Café Robusta del Ecuador S.A.",
         "Number.of.Bags": 1,
         "Bag.Weight": "2 kg",
         "In.Country.Partner": "Specialty Coffee Association",
         "Harvest.Year": "2016",
         "Grading.Date": "January 19th, 2016",
         "Owner.1": "Luis Robles",
         "Variety": "nan",
         "Processing.Method": "nan",
         "Aroma": 7.75,
         "Flavor": 7.58,
         "Aftertaste": 7.33,
         "Acidity": 7.58,
         "Body": 5.08,
         "Balance": 7.83,
         "Uniformity": 10,
         "Clean.Cup": 10,
         "Sweetness": 7.75,
         "Cupper.Points": 7.83,
         "Total.Cup.Points": 78.75,
         "Moisture": 0,
         "Category.One.Defects": 0,
         "Quakers": 0,
         "Color": "Blue-Green",
         "Category.Two.Defects": 1,
         "Expiration": "January 18th, 2017",
         "Certification.Body": "Specialty Coffee Association",
         "Certification.Address": "ff7c18ad303d4b603ac3f8cff7e611ffc735e720",
         "Certification.Contact": "352d0cf7f3e9be14dad7df644ad65efc27605ae2",
         "unit_of_measurement": "m",
         "altitude_low_meters": "nan",
         "altitude_high_meters": "nan",
         "altitude_mean_meters": "nan",
         "_deepnote_index_column": 1334
        },
        {
         "Unnamed: 0": 1335,
         "Species": "Robusta",
         "Owner": "luis robles",
         "Country.of.Origin": "Ecuador",
         "Farm.Name": "robustasa",
         "Lot.Number": "Lavado 3",
         "Mill": "own laboratory",
         "ICO.Number": "nan",
         "Company": "robustasa",
         "Altitude": "40",
         "Region": "san juan, playas",
         "Producer": "Café Robusta del Ecuador S.A.",
         "Number.of.Bags": 1,
         "Bag.Weight": "2 kg",
         "In.Country.Partner": "Specialty Coffee Association",
         "Harvest.Year": "2016",
         "Grading.Date": "January 19th, 2016",
         "Owner.1": "Luis Robles",
         "Variety": "nan",
         "Processing.Method": "nan",
         "Aroma": 7.5,
         "Flavor": 7.67,
         "Aftertaste": 7.75,
         "Acidity": 7.75,
         "Body": 5.17,
         "Balance": 5.25,
         "Uniformity": 10,
         "Clean.Cup": 10,
         "Sweetness": 8.42,
         "Cupper.Points": 8.58,
         "Total.Cup.Points": 78.08,
         "Moisture": 0,
         "Category.One.Defects": 0,
         "Quakers": 0,
         "Color": "Blue-Green",
         "Category.Two.Defects": 0,
         "Expiration": "January 18th, 2017",
         "Certification.Body": "Specialty Coffee Association",
         "Certification.Address": "ff7c18ad303d4b603ac3f8cff7e611ffc735e720",
         "Certification.Contact": "352d0cf7f3e9be14dad7df644ad65efc27605ae2",
         "unit_of_measurement": "m",
         "altitude_low_meters": 40,
         "altitude_high_meters": 40,
         "altitude_mean_meters": 40,
         "_deepnote_index_column": 1335
        },
        {
         "Unnamed: 0": 1336,
         "Species": "Robusta",
         "Owner": "james moore",
         "Country.of.Origin": "United States",
         "Farm.Name": "fazenda cazengo",
         "Lot.Number": "nan",
         "Mill": "cafe cazengo",
         "ICO.Number": "nan",
         "Company": "global opportunity fund",
         "Altitude": "795 meters",
         "Region": "kwanza norte province, angola",
         "Producer": "Cafe Cazengo",
         "Number.of.Bags": 1,
         "Bag.Weight": "1 kg",
         "In.Country.Partner": "Specialty Coffee Association",
         "Harvest.Year": "2014",
         "Grading.Date": "December 23rd, 2014",
         "Owner.1": "James Moore",
         "Variety": "nan",
         "Processing.Method": "Natural / Dry",
         "Aroma": 7.33,
         "Flavor": 7.33,
         "Aftertaste": 7.17,
         "Acidity": 7.42,
         "Body": 7.5,
         "Balance": 7.17,
         "Uniformity": 9.33,
         "Clean.Cup": 9.33,
         "Sweetness": 7.42,
         "Cupper.Points": 7.17,
         "Total.Cup.Points": 77.17,
         "Moisture": 0,
         "Category.One.Defects": 0,
         "Quakers": 0,
         "Color": "nan",
         "Category.Two.Defects": 6,
         "Expiration": "December 23rd, 2015",
         "Certification.Body": "Specialty Coffee Association",
         "Certification.Address": "ff7c18ad303d4b603ac3f8cff7e611ffc735e720",
         "Certification.Contact": "352d0cf7f3e9be14dad7df644ad65efc27605ae2",
         "unit_of_measurement": "m",
         "altitude_low_meters": 795,
         "altitude_high_meters": 795,
         "altitude_mean_meters": 795,
         "_deepnote_index_column": 1336
        },
        {
         "Unnamed: 0": 1337,
         "Species": "Robusta",
         "Owner": "cafe politico",
         "Country.of.Origin": "India",
         "Farm.Name": "nan",
         "Lot.Number": "nan",
         "Mill": "nan",
         "ICO.Number": "14-1118-2014-0087",
         "Company": "cafe politico",
         "Altitude": "nan",
         "Region": "nan",
         "Producer": "nan",
         "Number.of.Bags": 1,
         "Bag.Weight": "5 lbs",
         "In.Country.Partner": "Specialty Coffee Association",
         "Harvest.Year": "2013",
         "Grading.Date": "August 25th, 2014",
         "Owner.1": "Cafe Politico",
         "Variety": "nan",
         "Processing.Method": "Natural / Dry",
         "Aroma": 7.42,
         "Flavor": 6.83,
         "Aftertaste": 6.75,
         "Acidity": 7.17,
         "Body": 7.25,
         "Balance": 7,
         "Uniformity": 9.33,
         "Clean.Cup": 9.33,
         "Sweetness": 7.08,
         "Cupper.Points": 6.92,
         "Total.Cup.Points": 75.08,
         "Moisture": 0.1,
         "Category.One.Defects": 20,
         "Quakers": 0,
         "Color": "Green",
         "Category.Two.Defects": 1,
         "Expiration": "August 25th, 2015",
         "Certification.Body": "Specialty Coffee Association",
         "Certification.Address": "ff7c18ad303d4b603ac3f8cff7e611ffc735e720",
         "Certification.Contact": "352d0cf7f3e9be14dad7df644ad65efc27605ae2",
         "unit_of_measurement": "m",
         "altitude_low_meters": "nan",
         "altitude_high_meters": "nan",
         "altitude_mean_meters": "nan",
         "_deepnote_index_column": 1337
        },
        {
         "Unnamed: 0": 1338,
         "Species": "Robusta",
         "Owner": "cafe politico",
         "Country.of.Origin": "Vietnam",
         "Farm.Name": "nan",
         "Lot.Number": "nan",
         "Mill": "nan",
         "ICO.Number": "nan",
         "Company": "cafe politico",
         "Altitude": "nan",
         "Region": "nan",
         "Producer": "nan",
         "Number.of.Bags": 1,
         "Bag.Weight": "5 lbs",
         "In.Country.Partner": "Specialty Coffee Association",
         "Harvest.Year": "2013",
         "Grading.Date": "August 25th, 2014",
         "Owner.1": "Cafe Politico",
         "Variety": "nan",
         "Processing.Method": "Natural / Dry",
         "Aroma": 6.75,
         "Flavor": 6.67,
         "Aftertaste": 6.5,
         "Acidity": 6.83,
         "Body": 6.92,
         "Balance": 6.83,
         "Uniformity": 9.33,
         "Clean.Cup": 9.33,
         "Sweetness": 6.67,
         "Cupper.Points": 7.92,
         "Total.Cup.Points": 73.75,
         "Moisture": 0.12,
         "Category.One.Defects": 63,
         "Quakers": 0,
         "Color": "None",
         "Category.Two.Defects": 9,
         "Expiration": "August 25th, 2015",
         "Certification.Body": "Specialty Coffee Association",
         "Certification.Address": "ff7c18ad303d4b603ac3f8cff7e611ffc735e720",
         "Certification.Contact": "352d0cf7f3e9be14dad7df644ad65efc27605ae2",
         "unit_of_measurement": "m",
         "altitude_low_meters": "nan",
         "altitude_high_meters": "nan",
         "altitude_mean_meters": "nan",
         "_deepnote_index_column": 1338
        }
       ]
      },
      "text/plain": "      Unnamed: 0  Species                     Owner Country.of.Origin  \\\n0              0  Arabica                 metad plc          Ethiopia   \n1              1  Arabica                 metad plc          Ethiopia   \n2              2  Arabica  grounds for health admin         Guatemala   \n3              3  Arabica       yidnekachew dabessa          Ethiopia   \n4              4  Arabica                 metad plc          Ethiopia   \n...          ...      ...                       ...               ...   \n1334        1334  Robusta               luis robles           Ecuador   \n1335        1335  Robusta               luis robles           Ecuador   \n1336        1336  Robusta               james moore     United States   \n1337        1337  Robusta             cafe politico             India   \n1338        1338  Robusta             cafe politico           Vietnam   \n\n                                     Farm.Name Lot.Number            Mill  \\\n0                                    metad plc        NaN       metad plc   \n1                                    metad plc        NaN       metad plc   \n2     san marcos barrancas \"san cristobal cuch        NaN             NaN   \n3        yidnekachew dabessa coffee plantation        NaN         wolensu   \n4                                    metad plc        NaN       metad plc   \n...                                        ...        ...             ...   \n1334                                 robustasa   Lavado 1     our own lab   \n1335                                 robustasa   Lavado 3  own laboratory   \n1336                           fazenda cazengo        NaN    cafe cazengo   \n1337                                       NaN        NaN             NaN   \n1338                                       NaN        NaN             NaN   \n\n             ICO.Number                                Company       Altitude  \\\n0             2014/2015      metad agricultural developmet plc      1950-2200   \n1             2014/2015      metad agricultural developmet plc      1950-2200   \n2                   NaN                                    NaN  1600 - 1800 m   \n3                   NaN  yidnekachew debessa coffee plantation      1800-2200   \n4             2014/2015      metad agricultural developmet plc      1950-2200   \n...                 ...                                    ...            ...   \n1334                NaN                              robustasa            NaN   \n1335                NaN                              robustasa             40   \n1336                NaN                global opportunity fund     795 meters   \n1337  14-1118-2014-0087                          cafe politico            NaN   \n1338                NaN                          cafe politico            NaN   \n\n      ...       Color Category.Two.Defects           Expiration  \\\n0     ...       Green                    0      April 3rd, 2016   \n1     ...       Green                    1      April 3rd, 2016   \n2     ...         NaN                    0       May 31st, 2011   \n3     ...       Green                    2     March 25th, 2016   \n4     ...       Green                    2      April 3rd, 2016   \n...   ...         ...                  ...                  ...   \n1334  ...  Blue-Green                    1   January 18th, 2017   \n1335  ...  Blue-Green                    0   January 18th, 2017   \n1336  ...         NaN                    6  December 23rd, 2015   \n1337  ...       Green                    1    August 25th, 2015   \n1338  ...        None                    9    August 25th, 2015   \n\n                      Certification.Body  \\\n0     METAD Agricultural Development plc   \n1     METAD Agricultural Development plc   \n2           Specialty Coffee Association   \n3     METAD Agricultural Development plc   \n4     METAD Agricultural Development plc   \n...                                  ...   \n1334        Specialty Coffee Association   \n1335        Specialty Coffee Association   \n1336        Specialty Coffee Association   \n1337        Specialty Coffee Association   \n1338        Specialty Coffee Association   \n\n                         Certification.Address  \\\n0     309fcf77415a3661ae83e027f7e5f05dad786e44   \n1     309fcf77415a3661ae83e027f7e5f05dad786e44   \n2     36d0d00a3724338ba7937c52a378d085f2172daa   \n3     309fcf77415a3661ae83e027f7e5f05dad786e44   \n4     309fcf77415a3661ae83e027f7e5f05dad786e44   \n...                                        ...   \n1334  ff7c18ad303d4b603ac3f8cff7e611ffc735e720   \n1335  ff7c18ad303d4b603ac3f8cff7e611ffc735e720   \n1336  ff7c18ad303d4b603ac3f8cff7e611ffc735e720   \n1337  ff7c18ad303d4b603ac3f8cff7e611ffc735e720   \n1338  ff7c18ad303d4b603ac3f8cff7e611ffc735e720   \n\n                         Certification.Contact unit_of_measurement  \\\n0     19fef5a731de2db57d16da10287413f5f99bc2dd                   m   \n1     19fef5a731de2db57d16da10287413f5f99bc2dd                   m   \n2     0878a7d4b9d35ddbf0fe2ce69a2062cceb45a660                   m   \n3     19fef5a731de2db57d16da10287413f5f99bc2dd                   m   \n4     19fef5a731de2db57d16da10287413f5f99bc2dd                   m   \n...                                        ...                 ...   \n1334  352d0cf7f3e9be14dad7df644ad65efc27605ae2                   m   \n1335  352d0cf7f3e9be14dad7df644ad65efc27605ae2                   m   \n1336  352d0cf7f3e9be14dad7df644ad65efc27605ae2                   m   \n1337  352d0cf7f3e9be14dad7df644ad65efc27605ae2                   m   \n1338  352d0cf7f3e9be14dad7df644ad65efc27605ae2                   m   \n\n     altitude_low_meters altitude_high_meters altitude_mean_meters  \n0                 1950.0               2200.0               2075.0  \n1                 1950.0               2200.0               2075.0  \n2                 1600.0               1800.0               1700.0  \n3                 1800.0               2200.0               2000.0  \n4                 1950.0               2200.0               2075.0  \n...                  ...                  ...                  ...  \n1334                 NaN                  NaN                  NaN  \n1335                40.0                 40.0                 40.0  \n1336               795.0                795.0                795.0  \n1337                 NaN                  NaN                  NaN  \n1338                 NaN                  NaN                  NaN  \n\n[1339 rows x 44 columns]",
      "text/html": "<div>\n<style scoped>\n    .dataframe tbody tr th:only-of-type {\n        vertical-align: middle;\n    }\n\n    .dataframe tbody tr th {\n        vertical-align: top;\n    }\n\n    .dataframe thead th {\n        text-align: right;\n    }\n</style>\n<table border=\"1\" class=\"dataframe\">\n  <thead>\n    <tr style=\"text-align: right;\">\n      <th></th>\n      <th>Unnamed: 0</th>\n      <th>Species</th>\n      <th>Owner</th>\n      <th>Country.of.Origin</th>\n      <th>Farm.Name</th>\n      <th>Lot.Number</th>\n      <th>Mill</th>\n      <th>ICO.Number</th>\n      <th>Company</th>\n      <th>Altitude</th>\n      <th>...</th>\n      <th>Color</th>\n      <th>Category.Two.Defects</th>\n      <th>Expiration</th>\n      <th>Certification.Body</th>\n      <th>Certification.Address</th>\n      <th>Certification.Contact</th>\n      <th>unit_of_measurement</th>\n      <th>altitude_low_meters</th>\n      <th>altitude_high_meters</th>\n      <th>altitude_mean_meters</th>\n    </tr>\n  </thead>\n  <tbody>\n    <tr>\n      <th>0</th>\n      <td>0</td>\n      <td>Arabica</td>\n      <td>metad plc</td>\n      <td>Ethiopia</td>\n      <td>metad plc</td>\n      <td>NaN</td>\n      <td>metad plc</td>\n      <td>2014/2015</td>\n      <td>metad agricultural developmet plc</td>\n      <td>1950-2200</td>\n      <td>...</td>\n      <td>Green</td>\n      <td>0</td>\n      <td>April 3rd, 2016</td>\n      <td>METAD Agricultural Development plc</td>\n      <td>309fcf77415a3661ae83e027f7e5f05dad786e44</td>\n      <td>19fef5a731de2db57d16da10287413f5f99bc2dd</td>\n      <td>m</td>\n      <td>1950.0</td>\n      <td>2200.0</td>\n      <td>2075.0</td>\n    </tr>\n    <tr>\n      <th>1</th>\n      <td>1</td>\n      <td>Arabica</td>\n      <td>metad plc</td>\n      <td>Ethiopia</td>\n      <td>metad plc</td>\n      <td>NaN</td>\n      <td>metad plc</td>\n      <td>2014/2015</td>\n      <td>metad agricultural developmet plc</td>\n      <td>1950-2200</td>\n      <td>...</td>\n      <td>Green</td>\n      <td>1</td>\n      <td>April 3rd, 2016</td>\n      <td>METAD Agricultural Development plc</td>\n      <td>309fcf77415a3661ae83e027f7e5f05dad786e44</td>\n      <td>19fef5a731de2db57d16da10287413f5f99bc2dd</td>\n      <td>m</td>\n      <td>1950.0</td>\n      <td>2200.0</td>\n      <td>2075.0</td>\n    </tr>\n    <tr>\n      <th>2</th>\n      <td>2</td>\n      <td>Arabica</td>\n      <td>grounds for health admin</td>\n      <td>Guatemala</td>\n      <td>san marcos barrancas \"san cristobal cuch</td>\n      <td>NaN</td>\n      <td>NaN</td>\n      <td>NaN</td>\n      <td>NaN</td>\n      <td>1600 - 1800 m</td>\n      <td>...</td>\n      <td>NaN</td>\n      <td>0</td>\n      <td>May 31st, 2011</td>\n      <td>Specialty Coffee Association</td>\n      <td>36d0d00a3724338ba7937c52a378d085f2172daa</td>\n      <td>0878a7d4b9d35ddbf0fe2ce69a2062cceb45a660</td>\n      <td>m</td>\n      <td>1600.0</td>\n      <td>1800.0</td>\n      <td>1700.0</td>\n    </tr>\n    <tr>\n      <th>3</th>\n      <td>3</td>\n      <td>Arabica</td>\n      <td>yidnekachew dabessa</td>\n      <td>Ethiopia</td>\n      <td>yidnekachew dabessa coffee plantation</td>\n      <td>NaN</td>\n      <td>wolensu</td>\n      <td>NaN</td>\n      <td>yidnekachew debessa coffee plantation</td>\n      <td>1800-2200</td>\n      <td>...</td>\n      <td>Green</td>\n      <td>2</td>\n      <td>March 25th, 2016</td>\n      <td>METAD Agricultural Development plc</td>\n      <td>309fcf77415a3661ae83e027f7e5f05dad786e44</td>\n      <td>19fef5a731de2db57d16da10287413f5f99bc2dd</td>\n      <td>m</td>\n      <td>1800.0</td>\n      <td>2200.0</td>\n      <td>2000.0</td>\n    </tr>\n    <tr>\n      <th>4</th>\n      <td>4</td>\n      <td>Arabica</td>\n      <td>metad plc</td>\n      <td>Ethiopia</td>\n      <td>metad plc</td>\n      <td>NaN</td>\n      <td>metad plc</td>\n      <td>2014/2015</td>\n      <td>metad agricultural developmet plc</td>\n      <td>1950-2200</td>\n      <td>...</td>\n      <td>Green</td>\n      <td>2</td>\n      <td>April 3rd, 2016</td>\n      <td>METAD Agricultural Development plc</td>\n      <td>309fcf77415a3661ae83e027f7e5f05dad786e44</td>\n      <td>19fef5a731de2db57d16da10287413f5f99bc2dd</td>\n      <td>m</td>\n      <td>1950.0</td>\n      <td>2200.0</td>\n      <td>2075.0</td>\n    </tr>\n    <tr>\n      <th>...</th>\n      <td>...</td>\n      <td>...</td>\n      <td>...</td>\n      <td>...</td>\n      <td>...</td>\n      <td>...</td>\n      <td>...</td>\n      <td>...</td>\n      <td>...</td>\n      <td>...</td>\n      <td>...</td>\n      <td>...</td>\n      <td>...</td>\n      <td>...</td>\n      <td>...</td>\n      <td>...</td>\n      <td>...</td>\n      <td>...</td>\n      <td>...</td>\n      <td>...</td>\n      <td>...</td>\n    </tr>\n    <tr>\n      <th>1334</th>\n      <td>1334</td>\n      <td>Robusta</td>\n      <td>luis robles</td>\n      <td>Ecuador</td>\n      <td>robustasa</td>\n      <td>Lavado 1</td>\n      <td>our own lab</td>\n      <td>NaN</td>\n      <td>robustasa</td>\n      <td>NaN</td>\n      <td>...</td>\n      <td>Blue-Green</td>\n      <td>1</td>\n      <td>January 18th, 2017</td>\n      <td>Specialty Coffee Association</td>\n      <td>ff7c18ad303d4b603ac3f8cff7e611ffc735e720</td>\n      <td>352d0cf7f3e9be14dad7df644ad65efc27605ae2</td>\n      <td>m</td>\n      <td>NaN</td>\n      <td>NaN</td>\n      <td>NaN</td>\n    </tr>\n    <tr>\n      <th>1335</th>\n      <td>1335</td>\n      <td>Robusta</td>\n      <td>luis robles</td>\n      <td>Ecuador</td>\n      <td>robustasa</td>\n      <td>Lavado 3</td>\n      <td>own laboratory</td>\n      <td>NaN</td>\n      <td>robustasa</td>\n      <td>40</td>\n      <td>...</td>\n      <td>Blue-Green</td>\n      <td>0</td>\n      <td>January 18th, 2017</td>\n      <td>Specialty Coffee Association</td>\n      <td>ff7c18ad303d4b603ac3f8cff7e611ffc735e720</td>\n      <td>352d0cf7f3e9be14dad7df644ad65efc27605ae2</td>\n      <td>m</td>\n      <td>40.0</td>\n      <td>40.0</td>\n      <td>40.0</td>\n    </tr>\n    <tr>\n      <th>1336</th>\n      <td>1336</td>\n      <td>Robusta</td>\n      <td>james moore</td>\n      <td>United States</td>\n      <td>fazenda cazengo</td>\n      <td>NaN</td>\n      <td>cafe cazengo</td>\n      <td>NaN</td>\n      <td>global opportunity fund</td>\n      <td>795 meters</td>\n      <td>...</td>\n      <td>NaN</td>\n      <td>6</td>\n      <td>December 23rd, 2015</td>\n      <td>Specialty Coffee Association</td>\n      <td>ff7c18ad303d4b603ac3f8cff7e611ffc735e720</td>\n      <td>352d0cf7f3e9be14dad7df644ad65efc27605ae2</td>\n      <td>m</td>\n      <td>795.0</td>\n      <td>795.0</td>\n      <td>795.0</td>\n    </tr>\n    <tr>\n      <th>1337</th>\n      <td>1337</td>\n      <td>Robusta</td>\n      <td>cafe politico</td>\n      <td>India</td>\n      <td>NaN</td>\n      <td>NaN</td>\n      <td>NaN</td>\n      <td>14-1118-2014-0087</td>\n      <td>cafe politico</td>\n      <td>NaN</td>\n      <td>...</td>\n      <td>Green</td>\n      <td>1</td>\n      <td>August 25th, 2015</td>\n      <td>Specialty Coffee Association</td>\n      <td>ff7c18ad303d4b603ac3f8cff7e611ffc735e720</td>\n      <td>352d0cf7f3e9be14dad7df644ad65efc27605ae2</td>\n      <td>m</td>\n      <td>NaN</td>\n      <td>NaN</td>\n      <td>NaN</td>\n    </tr>\n    <tr>\n      <th>1338</th>\n      <td>1338</td>\n      <td>Robusta</td>\n      <td>cafe politico</td>\n      <td>Vietnam</td>\n      <td>NaN</td>\n      <td>NaN</td>\n      <td>NaN</td>\n      <td>NaN</td>\n      <td>cafe politico</td>\n      <td>NaN</td>\n      <td>...</td>\n      <td>None</td>\n      <td>9</td>\n      <td>August 25th, 2015</td>\n      <td>Specialty Coffee Association</td>\n      <td>ff7c18ad303d4b603ac3f8cff7e611ffc735e720</td>\n      <td>352d0cf7f3e9be14dad7df644ad65efc27605ae2</td>\n      <td>m</td>\n      <td>NaN</td>\n      <td>NaN</td>\n      <td>NaN</td>\n    </tr>\n  </tbody>\n</table>\n<p>1339 rows × 44 columns</p>\n</div>"
     },
     "metadata": {}
    }
   ]
  },
  {
   "cell_type": "code",
   "metadata": {
    "tags": [],
    "cell_id": "00003-a4aa888b-5f0e-48d2-aa5d-21ce1bf7814e",
    "deepnote_to_be_reexecuted": false,
    "source_hash": "9a36d4b1",
    "execution_start": 1627567174403,
    "execution_millis": 5,
    "deepnote_cell_type": "code"
   },
   "source": "df_cafe.columns",
   "execution_count": null,
   "outputs": [
    {
     "output_type": "execute_result",
     "execution_count": 3,
     "data": {
      "text/plain": "Index(['Unnamed: 0', 'Species', 'Owner', 'Country.of.Origin', 'Farm.Name',\n       'Lot.Number', 'Mill', 'ICO.Number', 'Company', 'Altitude', 'Region',\n       'Producer', 'Number.of.Bags', 'Bag.Weight', 'In.Country.Partner',\n       'Harvest.Year', 'Grading.Date', 'Owner.1', 'Variety',\n       'Processing.Method', 'Aroma', 'Flavor', 'Aftertaste', 'Acidity', 'Body',\n       'Balance', 'Uniformity', 'Clean.Cup', 'Sweetness', 'Cupper.Points',\n       'Total.Cup.Points', 'Moisture', 'Category.One.Defects', 'Quakers',\n       'Color', 'Category.Two.Defects', 'Expiration', 'Certification.Body',\n       'Certification.Address', 'Certification.Contact', 'unit_of_measurement',\n       'altitude_low_meters', 'altitude_high_meters', 'altitude_mean_meters'],\n      dtype='object')"
     },
     "metadata": {}
    }
   ]
  },
  {
   "cell_type": "code",
   "metadata": {
    "tags": [],
    "cell_id": "00004-764125c7-53dd-4989-a74a-6ae947ad38c2",
    "deepnote_to_be_reexecuted": false,
    "source_hash": "a8488c31",
    "execution_start": 1627568742940,
    "execution_millis": 6,
    "deepnote_cell_type": "code"
   },
   "source": "# Tomares algunas columnas para nuestro analisis\ndf = df_cafe[['Owner', 'Species', 'Country.of.Origin', 'Region','Number.of.Bags', 'Bag.Weight', 'Variety',\n       'Processing.Method', 'Aroma', 'Flavor', 'Aftertaste', 'Acidity', 'Body',\n       'Balance', 'Uniformity', 'Clean.Cup', 'Sweetness', 'Cupper.Points',\n       'Total.Cup.Points', 'Moisture', 'Category.One.Defects', 'Quakers',\n       'Color', 'Category.Two.Defects', 'unit_of_measurement',\n       'altitude_low_meters', 'altitude_high_meters', 'altitude_mean_meters']]\ndf.shape",
   "execution_count": null,
   "outputs": [
    {
     "output_type": "execute_result",
     "execution_count": 29,
     "data": {
      "text/plain": "(1339, 28)"
     },
     "metadata": {}
    }
   ]
  },
  {
   "cell_type": "code",
   "metadata": {
    "tags": [],
    "cell_id": "00005-912338ac-8194-4ddc-a55d-117699be0aac",
    "deepnote_to_be_reexecuted": false,
    "source_hash": "245876d0",
    "execution_start": 1627567174570,
    "execution_millis": 947,
    "deepnote_cell_type": "code"
   },
   "source": "df.head(5)",
   "execution_count": null,
   "outputs": [
    {
     "output_type": "execute_result",
     "execution_count": 5,
     "data": {
      "application/vnd.deepnote.dataframe.v2+json": {
       "row_count": 5,
       "column_count": 28,
       "columns": [
        {
         "name": "Owner",
         "dtype": "object",
         "stats": {
          "unique_count": 3,
          "nan_count": 0,
          "categories": [
           {
            "name": "metad plc",
            "count": 3
           },
           {
            "name": "grounds for health admin",
            "count": 1
           },
           {
            "name": "yidnekachew dabessa",
            "count": 1
           }
          ]
         }
        },
        {
         "name": "Species",
         "dtype": "object",
         "stats": {
          "unique_count": 1,
          "nan_count": 0,
          "categories": [
           {
            "name": "Arabica",
            "count": 5
           }
          ]
         }
        },
        {
         "name": "Country.of.Origin",
         "dtype": "object",
         "stats": {
          "unique_count": 2,
          "nan_count": 0,
          "categories": [
           {
            "name": "Ethiopia",
            "count": 4
           },
           {
            "name": "Guatemala",
            "count": 1
           }
          ]
         }
        },
        {
         "name": "Region",
         "dtype": "object",
         "stats": {
          "unique_count": 2,
          "nan_count": 1,
          "categories": [
           {
            "name": "guji-hambela",
            "count": 3
           },
           {
            "name": "oromia",
            "count": 1
           },
           {
            "name": "Missing",
            "count": 1
           }
          ]
         }
        },
        {
         "name": "Number.of.Bags",
         "dtype": "int64",
         "stats": {
          "unique_count": 3,
          "nan_count": 0,
          "min": "5",
          "max": "320",
          "histogram": [
           {
            "bin_start": 5,
            "bin_end": 36.5,
            "count": 1
           },
           {
            "bin_start": 36.5,
            "bin_end": 68,
            "count": 0
           },
           {
            "bin_start": 68,
            "bin_end": 99.5,
            "count": 0
           },
           {
            "bin_start": 99.5,
            "bin_end": 131,
            "count": 0
           },
           {
            "bin_start": 131,
            "bin_end": 162.5,
            "count": 0
           },
           {
            "bin_start": 162.5,
            "bin_end": 194,
            "count": 0
           },
           {
            "bin_start": 194,
            "bin_end": 225.5,
            "count": 0
           },
           {
            "bin_start": 225.5,
            "bin_end": 257,
            "count": 0
           },
           {
            "bin_start": 257,
            "bin_end": 288.5,
            "count": 0
           },
           {
            "bin_start": 288.5,
            "bin_end": 320,
            "count": 4
           }
          ]
         }
        },
        {
         "name": "Bag.Weight",
         "dtype": "object",
         "stats": {
          "unique_count": 2,
          "nan_count": 0,
          "categories": [
           {
            "name": "60 kg",
            "count": 4
           },
           {
            "name": "1",
            "count": 1
           }
          ]
         }
        },
        {
         "name": "Variety",
         "dtype": "object",
         "stats": {
          "unique_count": 2,
          "nan_count": 2,
          "categories": [
           {
            "name": "Other",
            "count": 2
           },
           {
            "name": "Bourbon",
            "count": 1
           },
           {
            "name": "Missing",
            "count": 2
           }
          ]
         }
        },
        {
         "name": "Processing.Method",
         "dtype": "object",
         "stats": {
          "unique_count": 2,
          "nan_count": 1,
          "categories": [
           {
            "name": "Washed / Wet",
            "count": 3
           },
           {
            "name": "Natural / Dry",
            "count": 1
           },
           {
            "name": "Missing",
            "count": 1
           }
          ]
         }
        },
        {
         "name": "Aroma",
         "dtype": "float64",
         "stats": {
          "unique_count": 5,
          "nan_count": 0,
          "min": "8.17",
          "max": "8.75",
          "histogram": [
           {
            "bin_start": 8.17,
            "bin_end": 8.228,
            "count": 1
           },
           {
            "bin_start": 8.228,
            "bin_end": 8.286,
            "count": 1
           },
           {
            "bin_start": 8.286,
            "bin_end": 8.344,
            "count": 0
           },
           {
            "bin_start": 8.344,
            "bin_end": 8.402,
            "count": 0
           },
           {
            "bin_start": 8.402,
            "bin_end": 8.46,
            "count": 1
           },
           {
            "bin_start": 8.46,
            "bin_end": 8.518,
            "count": 0
           },
           {
            "bin_start": 8.518,
            "bin_end": 8.576,
            "count": 0
           },
           {
            "bin_start": 8.576,
            "bin_end": 8.634,
            "count": 0
           },
           {
            "bin_start": 8.634,
            "bin_end": 8.692,
            "count": 1
           },
           {
            "bin_start": 8.692,
            "bin_end": 8.75,
            "count": 1
           }
          ]
         }
        },
        {
         "name": "Flavor",
         "dtype": "float64",
         "stats": {
          "unique_count": 4,
          "nan_count": 0,
          "min": "8.5",
          "max": "8.83",
          "histogram": [
           {
            "bin_start": 8.5,
            "bin_end": 8.533,
            "count": 2
           },
           {
            "bin_start": 8.533,
            "bin_end": 8.566,
            "count": 0
           },
           {
            "bin_start": 8.566,
            "bin_end": 8.599,
            "count": 1
           },
           {
            "bin_start": 8.599,
            "bin_end": 8.632,
            "count": 0
           },
           {
            "bin_start": 8.632,
            "bin_end": 8.665,
            "count": 0
           },
           {
            "bin_start": 8.665,
            "bin_end": 8.698,
            "count": 1
           },
           {
            "bin_start": 8.698,
            "bin_end": 8.731,
            "count": 0
           },
           {
            "bin_start": 8.731,
            "bin_end": 8.764,
            "count": 0
           },
           {
            "bin_start": 8.764,
            "bin_end": 8.797,
            "count": 0
           },
           {
            "bin_start": 8.797,
            "bin_end": 8.83,
            "count": 1
           }
          ]
         }
        },
        {
         "name": "Aftertaste",
         "dtype": "float64",
         "stats": {
          "unique_count": 4,
          "nan_count": 0,
          "min": "8.25",
          "max": "8.67",
          "histogram": [
           {
            "bin_start": 8.25,
            "bin_end": 8.292,
            "count": 1
           },
           {
            "bin_start": 8.292,
            "bin_end": 8.334,
            "count": 0
           },
           {
            "bin_start": 8.334,
            "bin_end": 8.376,
            "count": 0
           },
           {
            "bin_start": 8.376,
            "bin_end": 8.418,
            "count": 0
           },
           {
            "bin_start": 8.418,
            "bin_end": 8.46,
            "count": 2
           },
           {
            "bin_start": 8.46,
            "bin_end": 8.502,
            "count": 1
           },
           {
            "bin_start": 8.502,
            "bin_end": 8.544,
            "count": 0
           },
           {
            "bin_start": 8.544,
            "bin_end": 8.586,
            "count": 0
           },
           {
            "bin_start": 8.586,
            "bin_end": 8.628,
            "count": 0
           },
           {
            "bin_start": 8.628,
            "bin_end": 8.67,
            "count": 1
           }
          ]
         }
        },
        {
         "name": "Acidity",
         "dtype": "float64",
         "stats": {
          "unique_count": 4,
          "nan_count": 0,
          "min": "8.42",
          "max": "8.75",
          "histogram": [
           {
            "bin_start": 8.42,
            "bin_end": 8.453,
            "count": 2
           },
           {
            "bin_start": 8.453,
            "bin_end": 8.486,
            "count": 0
           },
           {
            "bin_start": 8.486,
            "bin_end": 8.519,
            "count": 1
           },
           {
            "bin_start": 8.519,
            "bin_end": 8.552,
            "count": 0
           },
           {
            "bin_start": 8.552,
            "bin_end": 8.585,
            "count": 1
           },
           {
            "bin_start": 8.585,
            "bin_end": 8.618,
            "count": 0
           },
           {
            "bin_start": 8.618,
            "bin_end": 8.651,
            "count": 0
           },
           {
            "bin_start": 8.651,
            "bin_end": 8.684,
            "count": 0
           },
           {
            "bin_start": 8.684,
            "bin_end": 8.717,
            "count": 0
           },
           {
            "bin_start": 8.717,
            "bin_end": 8.75,
            "count": 1
           }
          ]
         }
        },
        {
         "name": "Body",
         "dtype": "float64",
         "stats": {
          "unique_count": 3,
          "nan_count": 0,
          "min": "8.33",
          "max": "8.5",
          "histogram": [
           {
            "bin_start": 8.33,
            "bin_end": 8.347,
            "count": 1
           },
           {
            "bin_start": 8.347,
            "bin_end": 8.364,
            "count": 0
           },
           {
            "bin_start": 8.364,
            "bin_end": 8.381,
            "count": 0
           },
           {
            "bin_start": 8.381,
            "bin_end": 8.398,
            "count": 0
           },
           {
            "bin_start": 8.398,
            "bin_end": 8.415,
            "count": 0
           },
           {
            "bin_start": 8.415,
            "bin_end": 8.432,
            "count": 2
           },
           {
            "bin_start": 8.432,
            "bin_end": 8.449,
            "count": 0
           },
           {
            "bin_start": 8.449,
            "bin_end": 8.466,
            "count": 0
           },
           {
            "bin_start": 8.466,
            "bin_end": 8.483,
            "count": 0
           },
           {
            "bin_start": 8.483,
            "bin_end": 8.5,
            "count": 2
           }
          ]
         }
        },
        {
         "name": "Balance",
         "dtype": "float64",
         "stats": {
          "unique_count": 3,
          "nan_count": 0,
          "min": "8.25",
          "max": "8.42",
          "histogram": [
           {
            "bin_start": 8.25,
            "bin_end": 8.267,
            "count": 1
           },
           {
            "bin_start": 8.267,
            "bin_end": 8.284,
            "count": 0
           },
           {
            "bin_start": 8.284,
            "bin_end": 8.301,
            "count": 0
           },
           {
            "bin_start": 8.301,
            "bin_end": 8.318,
            "count": 0
           },
           {
            "bin_start": 8.318,
            "bin_end": 8.335,
            "count": 1
           },
           {
            "bin_start": 8.335,
            "bin_end": 8.352,
            "count": 0
           },
           {
            "bin_start": 8.352,
            "bin_end": 8.369,
            "count": 0
           },
           {
            "bin_start": 8.369,
            "bin_end": 8.386,
            "count": 0
           },
           {
            "bin_start": 8.386,
            "bin_end": 8.403,
            "count": 0
           },
           {
            "bin_start": 8.403,
            "bin_end": 8.42,
            "count": 3
           }
          ]
         }
        },
        {
         "name": "Uniformity",
         "dtype": "float64",
         "stats": {
          "unique_count": 1,
          "nan_count": 0,
          "min": "10.0",
          "max": "10.0",
          "histogram": [
           {
            "bin_start": 9.5,
            "bin_end": 9.6,
            "count": 0
           },
           {
            "bin_start": 9.6,
            "bin_end": 9.7,
            "count": 0
           },
           {
            "bin_start": 9.7,
            "bin_end": 9.8,
            "count": 0
           },
           {
            "bin_start": 9.8,
            "bin_end": 9.9,
            "count": 0
           },
           {
            "bin_start": 9.9,
            "bin_end": 10,
            "count": 0
           },
           {
            "bin_start": 10,
            "bin_end": 10.1,
            "count": 5
           },
           {
            "bin_start": 10.1,
            "bin_end": 10.2,
            "count": 0
           },
           {
            "bin_start": 10.2,
            "bin_end": 10.3,
            "count": 0
           },
           {
            "bin_start": 10.3,
            "bin_end": 10.4,
            "count": 0
           },
           {
            "bin_start": 10.4,
            "bin_end": 10.5,
            "count": 0
           }
          ]
         }
        },
        {
         "name": "Clean.Cup",
         "dtype": "float64",
         "stats": {
          "unique_count": 1,
          "nan_count": 0,
          "min": "10.0",
          "max": "10.0",
          "histogram": [
           {
            "bin_start": 9.5,
            "bin_end": 9.6,
            "count": 0
           },
           {
            "bin_start": 9.6,
            "bin_end": 9.7,
            "count": 0
           },
           {
            "bin_start": 9.7,
            "bin_end": 9.8,
            "count": 0
           },
           {
            "bin_start": 9.8,
            "bin_end": 9.9,
            "count": 0
           },
           {
            "bin_start": 9.9,
            "bin_end": 10,
            "count": 0
           },
           {
            "bin_start": 10,
            "bin_end": 10.1,
            "count": 5
           },
           {
            "bin_start": 10.1,
            "bin_end": 10.2,
            "count": 0
           },
           {
            "bin_start": 10.2,
            "bin_end": 10.3,
            "count": 0
           },
           {
            "bin_start": 10.3,
            "bin_end": 10.4,
            "count": 0
           },
           {
            "bin_start": 10.4,
            "bin_end": 10.5,
            "count": 0
           }
          ]
         }
        },
        {
         "name": "Sweetness",
         "dtype": "float64",
         "stats": {
          "unique_count": 1,
          "nan_count": 0,
          "min": "10.0",
          "max": "10.0",
          "histogram": [
           {
            "bin_start": 9.5,
            "bin_end": 9.6,
            "count": 0
           },
           {
            "bin_start": 9.6,
            "bin_end": 9.7,
            "count": 0
           },
           {
            "bin_start": 9.7,
            "bin_end": 9.8,
            "count": 0
           },
           {
            "bin_start": 9.8,
            "bin_end": 9.9,
            "count": 0
           },
           {
            "bin_start": 9.9,
            "bin_end": 10,
            "count": 0
           },
           {
            "bin_start": 10,
            "bin_end": 10.1,
            "count": 5
           },
           {
            "bin_start": 10.1,
            "bin_end": 10.2,
            "count": 0
           },
           {
            "bin_start": 10.2,
            "bin_end": 10.3,
            "count": 0
           },
           {
            "bin_start": 10.3,
            "bin_end": 10.4,
            "count": 0
           },
           {
            "bin_start": 10.4,
            "bin_end": 10.5,
            "count": 0
           }
          ]
         }
        },
        {
         "name": "Cupper.Points",
         "dtype": "float64",
         "stats": {
          "unique_count": 4,
          "nan_count": 0,
          "min": "8.58",
          "max": "9.25",
          "histogram": [
           {
            "bin_start": 8.58,
            "bin_end": 8.647,
            "count": 2
           },
           {
            "bin_start": 8.647,
            "bin_end": 8.714,
            "count": 1
           },
           {
            "bin_start": 8.714,
            "bin_end": 8.781,
            "count": 1
           },
           {
            "bin_start": 8.781,
            "bin_end": 8.848,
            "count": 0
           },
           {
            "bin_start": 8.848,
            "bin_end": 8.915,
            "count": 0
           },
           {
            "bin_start": 8.915,
            "bin_end": 8.982,
            "count": 0
           },
           {
            "bin_start": 8.982,
            "bin_end": 9.049,
            "count": 0
           },
           {
            "bin_start": 9.049,
            "bin_end": 9.116,
            "count": 0
           },
           {
            "bin_start": 9.116,
            "bin_end": 9.183,
            "count": 0
           },
           {
            "bin_start": 9.183,
            "bin_end": 9.25,
            "count": 1
           }
          ]
         }
        },
        {
         "name": "Total.Cup.Points",
         "dtype": "float64",
         "stats": {
          "unique_count": 5,
          "nan_count": 0,
          "min": "88.83",
          "max": "90.58",
          "histogram": [
           {
            "bin_start": 88.83,
            "bin_end": 89.005,
            "count": 2
           },
           {
            "bin_start": 89.005,
            "bin_end": 89.17999999999999,
            "count": 0
           },
           {
            "bin_start": 89.17999999999999,
            "bin_end": 89.355,
            "count": 0
           },
           {
            "bin_start": 89.355,
            "bin_end": 89.53,
            "count": 0
           },
           {
            "bin_start": 89.53,
            "bin_end": 89.705,
            "count": 0
           },
           {
            "bin_start": 89.705,
            "bin_end": 89.88,
            "count": 1
           },
           {
            "bin_start": 89.88,
            "bin_end": 90.05499999999999,
            "count": 1
           },
           {
            "bin_start": 90.05499999999999,
            "bin_end": 90.23,
            "count": 0
           },
           {
            "bin_start": 90.23,
            "bin_end": 90.405,
            "count": 0
           },
           {
            "bin_start": 90.405,
            "bin_end": 90.58,
            "count": 1
           }
          ]
         }
        },
        {
         "name": "Moisture",
         "dtype": "float64",
         "stats": {
          "unique_count": 3,
          "nan_count": 0,
          "min": "0.0",
          "max": "0.12",
          "histogram": [
           {
            "bin_start": 0,
            "bin_end": 0.012,
            "count": 1
           },
           {
            "bin_start": 0.012,
            "bin_end": 0.024,
            "count": 0
           },
           {
            "bin_start": 0.024,
            "bin_end": 0.036000000000000004,
            "count": 0
           },
           {
            "bin_start": 0.036000000000000004,
            "bin_end": 0.048,
            "count": 0
           },
           {
            "bin_start": 0.048,
            "bin_end": 0.06,
            "count": 0
           },
           {
            "bin_start": 0.06,
            "bin_end": 0.07200000000000001,
            "count": 0
           },
           {
            "bin_start": 0.07200000000000001,
            "bin_end": 0.084,
            "count": 0
           },
           {
            "bin_start": 0.084,
            "bin_end": 0.096,
            "count": 0
           },
           {
            "bin_start": 0.096,
            "bin_end": 0.108,
            "count": 0
           },
           {
            "bin_start": 0.108,
            "bin_end": 0.12,
            "count": 4
           }
          ]
         }
        },
        {
         "name": "Category.One.Defects",
         "dtype": "int64",
         "stats": {
          "unique_count": 1,
          "nan_count": 0,
          "min": "0",
          "max": "0",
          "histogram": [
           {
            "bin_start": -0.5,
            "bin_end": -0.4,
            "count": 0
           },
           {
            "bin_start": -0.4,
            "bin_end": -0.3,
            "count": 0
           },
           {
            "bin_start": -0.3,
            "bin_end": -0.19999999999999996,
            "count": 0
           },
           {
            "bin_start": -0.19999999999999996,
            "bin_end": -0.09999999999999998,
            "count": 0
           },
           {
            "bin_start": -0.09999999999999998,
            "bin_end": 0,
            "count": 0
           },
           {
            "bin_start": 0,
            "bin_end": 0.10000000000000009,
            "count": 5
           },
           {
            "bin_start": 0.10000000000000009,
            "bin_end": 0.20000000000000007,
            "count": 0
           },
           {
            "bin_start": 0.20000000000000007,
            "bin_end": 0.30000000000000004,
            "count": 0
           },
           {
            "bin_start": 0.30000000000000004,
            "bin_end": 0.4,
            "count": 0
           },
           {
            "bin_start": 0.4,
            "bin_end": 0.5,
            "count": 0
           }
          ]
         }
        },
        {
         "name": "Quakers",
         "dtype": "float64",
         "stats": {
          "unique_count": 1,
          "nan_count": 0,
          "min": "0.0",
          "max": "0.0",
          "histogram": [
           {
            "bin_start": -0.5,
            "bin_end": -0.4,
            "count": 0
           },
           {
            "bin_start": -0.4,
            "bin_end": -0.3,
            "count": 0
           },
           {
            "bin_start": -0.3,
            "bin_end": -0.19999999999999996,
            "count": 0
           },
           {
            "bin_start": -0.19999999999999996,
            "bin_end": -0.09999999999999998,
            "count": 0
           },
           {
            "bin_start": -0.09999999999999998,
            "bin_end": 0,
            "count": 0
           },
           {
            "bin_start": 0,
            "bin_end": 0.10000000000000009,
            "count": 5
           },
           {
            "bin_start": 0.10000000000000009,
            "bin_end": 0.20000000000000007,
            "count": 0
           },
           {
            "bin_start": 0.20000000000000007,
            "bin_end": 0.30000000000000004,
            "count": 0
           },
           {
            "bin_start": 0.30000000000000004,
            "bin_end": 0.4,
            "count": 0
           },
           {
            "bin_start": 0.4,
            "bin_end": 0.5,
            "count": 0
           }
          ]
         }
        },
        {
         "name": "Color",
         "dtype": "object",
         "stats": {
          "unique_count": 1,
          "nan_count": 1,
          "categories": [
           {
            "name": "Green",
            "count": 4
           },
           {
            "name": "Missing",
            "count": 1
           }
          ]
         }
        },
        {
         "name": "Category.Two.Defects",
         "dtype": "int64",
         "stats": {
          "unique_count": 3,
          "nan_count": 0,
          "min": "0",
          "max": "2",
          "histogram": [
           {
            "bin_start": 0,
            "bin_end": 0.2,
            "count": 2
           },
           {
            "bin_start": 0.2,
            "bin_end": 0.4,
            "count": 0
           },
           {
            "bin_start": 0.4,
            "bin_end": 0.6000000000000001,
            "count": 0
           },
           {
            "bin_start": 0.6000000000000001,
            "bin_end": 0.8,
            "count": 0
           },
           {
            "bin_start": 0.8,
            "bin_end": 1,
            "count": 0
           },
           {
            "bin_start": 1,
            "bin_end": 1.2000000000000002,
            "count": 1
           },
           {
            "bin_start": 1.2000000000000002,
            "bin_end": 1.4000000000000001,
            "count": 0
           },
           {
            "bin_start": 1.4000000000000001,
            "bin_end": 1.6,
            "count": 0
           },
           {
            "bin_start": 1.6,
            "bin_end": 1.8,
            "count": 0
           },
           {
            "bin_start": 1.8,
            "bin_end": 2,
            "count": 2
           }
          ]
         }
        },
        {
         "name": "unit_of_measurement",
         "dtype": "object",
         "stats": {
          "unique_count": 1,
          "nan_count": 0,
          "categories": [
           {
            "name": "m",
            "count": 5
           }
          ]
         }
        },
        {
         "name": "altitude_low_meters",
         "dtype": "float64",
         "stats": {
          "unique_count": 3,
          "nan_count": 0,
          "min": "1600.0",
          "max": "1950.0",
          "histogram": [
           {
            "bin_start": 1600,
            "bin_end": 1635,
            "count": 1
           },
           {
            "bin_start": 1635,
            "bin_end": 1670,
            "count": 0
           },
           {
            "bin_start": 1670,
            "bin_end": 1705,
            "count": 0
           },
           {
            "bin_start": 1705,
            "bin_end": 1740,
            "count": 0
           },
           {
            "bin_start": 1740,
            "bin_end": 1775,
            "count": 0
           },
           {
            "bin_start": 1775,
            "bin_end": 1810,
            "count": 1
           },
           {
            "bin_start": 1810,
            "bin_end": 1845,
            "count": 0
           },
           {
            "bin_start": 1845,
            "bin_end": 1880,
            "count": 0
           },
           {
            "bin_start": 1880,
            "bin_end": 1915,
            "count": 0
           },
           {
            "bin_start": 1915,
            "bin_end": 1950,
            "count": 3
           }
          ]
         }
        },
        {
         "name": "altitude_high_meters",
         "dtype": "float64",
         "stats": {
          "unique_count": 2,
          "nan_count": 0,
          "min": "1800.0",
          "max": "2200.0",
          "histogram": [
           {
            "bin_start": 1800,
            "bin_end": 1840,
            "count": 1
           },
           {
            "bin_start": 1840,
            "bin_end": 1880,
            "count": 0
           },
           {
            "bin_start": 1880,
            "bin_end": 1920,
            "count": 0
           },
           {
            "bin_start": 1920,
            "bin_end": 1960,
            "count": 0
           },
           {
            "bin_start": 1960,
            "bin_end": 2000,
            "count": 0
           },
           {
            "bin_start": 2000,
            "bin_end": 2040,
            "count": 0
           },
           {
            "bin_start": 2040,
            "bin_end": 2080,
            "count": 0
           },
           {
            "bin_start": 2080,
            "bin_end": 2120,
            "count": 0
           },
           {
            "bin_start": 2120,
            "bin_end": 2160,
            "count": 0
           },
           {
            "bin_start": 2160,
            "bin_end": 2200,
            "count": 4
           }
          ]
         }
        },
        {
         "name": "altitude_mean_meters",
         "dtype": "float64",
         "stats": {
          "unique_count": 3,
          "nan_count": 0,
          "min": "1700.0",
          "max": "2075.0",
          "histogram": [
           {
            "bin_start": 1700,
            "bin_end": 1737.5,
            "count": 1
           },
           {
            "bin_start": 1737.5,
            "bin_end": 1775,
            "count": 0
           },
           {
            "bin_start": 1775,
            "bin_end": 1812.5,
            "count": 0
           },
           {
            "bin_start": 1812.5,
            "bin_end": 1850,
            "count": 0
           },
           {
            "bin_start": 1850,
            "bin_end": 1887.5,
            "count": 0
           },
           {
            "bin_start": 1887.5,
            "bin_end": 1925,
            "count": 0
           },
           {
            "bin_start": 1925,
            "bin_end": 1962.5,
            "count": 0
           },
           {
            "bin_start": 1962.5,
            "bin_end": 2000,
            "count": 0
           },
           {
            "bin_start": 2000,
            "bin_end": 2037.5,
            "count": 1
           },
           {
            "bin_start": 2037.5,
            "bin_end": 2075,
            "count": 3
           }
          ]
         }
        },
        {
         "name": "_deepnote_index_column",
         "dtype": "int64"
        }
       ],
       "rows_top": [
        {
         "Owner": "metad plc",
         "Species": "Arabica",
         "Country.of.Origin": "Ethiopia",
         "Region": "guji-hambela",
         "Number.of.Bags": 300,
         "Bag.Weight": "60 kg",
         "Variety": "nan",
         "Processing.Method": "Washed / Wet",
         "Aroma": 8.67,
         "Flavor": 8.83,
         "Aftertaste": 8.67,
         "Acidity": 8.75,
         "Body": 8.5,
         "Balance": 8.42,
         "Uniformity": 10,
         "Clean.Cup": 10,
         "Sweetness": 10,
         "Cupper.Points": 8.75,
         "Total.Cup.Points": 90.58,
         "Moisture": 0.12,
         "Category.One.Defects": 0,
         "Quakers": 0,
         "Color": "Green",
         "Category.Two.Defects": 0,
         "unit_of_measurement": "m",
         "altitude_low_meters": 1950,
         "altitude_high_meters": 2200,
         "altitude_mean_meters": 2075,
         "_deepnote_index_column": 0
        },
        {
         "Owner": "metad plc",
         "Species": "Arabica",
         "Country.of.Origin": "Ethiopia",
         "Region": "guji-hambela",
         "Number.of.Bags": 300,
         "Bag.Weight": "60 kg",
         "Variety": "Other",
         "Processing.Method": "Washed / Wet",
         "Aroma": 8.75,
         "Flavor": 8.67,
         "Aftertaste": 8.5,
         "Acidity": 8.58,
         "Body": 8.42,
         "Balance": 8.42,
         "Uniformity": 10,
         "Clean.Cup": 10,
         "Sweetness": 10,
         "Cupper.Points": 8.58,
         "Total.Cup.Points": 89.92,
         "Moisture": 0.12,
         "Category.One.Defects": 0,
         "Quakers": 0,
         "Color": "Green",
         "Category.Two.Defects": 1,
         "unit_of_measurement": "m",
         "altitude_low_meters": 1950,
         "altitude_high_meters": 2200,
         "altitude_mean_meters": 2075,
         "_deepnote_index_column": 1
        },
        {
         "Owner": "grounds for health admin",
         "Species": "Arabica",
         "Country.of.Origin": "Guatemala",
         "Region": "nan",
         "Number.of.Bags": 5,
         "Bag.Weight": "1",
         "Variety": "Bourbon",
         "Processing.Method": "nan",
         "Aroma": 8.42,
         "Flavor": 8.5,
         "Aftertaste": 8.42,
         "Acidity": 8.42,
         "Body": 8.33,
         "Balance": 8.42,
         "Uniformity": 10,
         "Clean.Cup": 10,
         "Sweetness": 10,
         "Cupper.Points": 9.25,
         "Total.Cup.Points": 89.75,
         "Moisture": 0,
         "Category.One.Defects": 0,
         "Quakers": 0,
         "Color": "nan",
         "Category.Two.Defects": 0,
         "unit_of_measurement": "m",
         "altitude_low_meters": 1600,
         "altitude_high_meters": 1800,
         "altitude_mean_meters": 1700,
         "_deepnote_index_column": 2
        },
        {
         "Owner": "yidnekachew dabessa",
         "Species": "Arabica",
         "Country.of.Origin": "Ethiopia",
         "Region": "oromia",
         "Number.of.Bags": 320,
         "Bag.Weight": "60 kg",
         "Variety": "nan",
         "Processing.Method": "Natural / Dry",
         "Aroma": 8.17,
         "Flavor": 8.58,
         "Aftertaste": 8.42,
         "Acidity": 8.42,
         "Body": 8.5,
         "Balance": 8.25,
         "Uniformity": 10,
         "Clean.Cup": 10,
         "Sweetness": 10,
         "Cupper.Points": 8.67,
         "Total.Cup.Points": 89,
         "Moisture": 0.11,
         "Category.One.Defects": 0,
         "Quakers": 0,
         "Color": "Green",
         "Category.Two.Defects": 2,
         "unit_of_measurement": "m",
         "altitude_low_meters": 1800,
         "altitude_high_meters": 2200,
         "altitude_mean_meters": 2000,
         "_deepnote_index_column": 3
        },
        {
         "Owner": "metad plc",
         "Species": "Arabica",
         "Country.of.Origin": "Ethiopia",
         "Region": "guji-hambela",
         "Number.of.Bags": 300,
         "Bag.Weight": "60 kg",
         "Variety": "Other",
         "Processing.Method": "Washed / Wet",
         "Aroma": 8.25,
         "Flavor": 8.5,
         "Aftertaste": 8.25,
         "Acidity": 8.5,
         "Body": 8.42,
         "Balance": 8.33,
         "Uniformity": 10,
         "Clean.Cup": 10,
         "Sweetness": 10,
         "Cupper.Points": 8.58,
         "Total.Cup.Points": 88.83,
         "Moisture": 0.12,
         "Category.One.Defects": 0,
         "Quakers": 0,
         "Color": "Green",
         "Category.Two.Defects": 2,
         "unit_of_measurement": "m",
         "altitude_low_meters": 1950,
         "altitude_high_meters": 2200,
         "altitude_mean_meters": 2075,
         "_deepnote_index_column": 4
        }
       ],
       "rows_bottom": null
      },
      "text/plain": "                      Owner  Species Country.of.Origin        Region  \\\n0                 metad plc  Arabica          Ethiopia  guji-hambela   \n1                 metad plc  Arabica          Ethiopia  guji-hambela   \n2  grounds for health admin  Arabica         Guatemala           NaN   \n3       yidnekachew dabessa  Arabica          Ethiopia        oromia   \n4                 metad plc  Arabica          Ethiopia  guji-hambela   \n\n   Number.of.Bags Bag.Weight  Variety Processing.Method  Aroma  Flavor  ...  \\\n0             300      60 kg      NaN      Washed / Wet   8.67    8.83  ...   \n1             300      60 kg    Other      Washed / Wet   8.75    8.67  ...   \n2               5          1  Bourbon               NaN   8.42    8.50  ...   \n3             320      60 kg      NaN     Natural / Dry   8.17    8.58  ...   \n4             300      60 kg    Other      Washed / Wet   8.25    8.50  ...   \n\n   Total.Cup.Points  Moisture  Category.One.Defects  Quakers  Color  \\\n0             90.58      0.12                     0      0.0  Green   \n1             89.92      0.12                     0      0.0  Green   \n2             89.75      0.00                     0      0.0    NaN   \n3             89.00      0.11                     0      0.0  Green   \n4             88.83      0.12                     0      0.0  Green   \n\n   Category.Two.Defects  unit_of_measurement  altitude_low_meters  \\\n0                     0                    m               1950.0   \n1                     1                    m               1950.0   \n2                     0                    m               1600.0   \n3                     2                    m               1800.0   \n4                     2                    m               1950.0   \n\n   altitude_high_meters  altitude_mean_meters  \n0                2200.0                2075.0  \n1                2200.0                2075.0  \n2                1800.0                1700.0  \n3                2200.0                2000.0  \n4                2200.0                2075.0  \n\n[5 rows x 28 columns]",
      "text/html": "<div>\n<style scoped>\n    .dataframe tbody tr th:only-of-type {\n        vertical-align: middle;\n    }\n\n    .dataframe tbody tr th {\n        vertical-align: top;\n    }\n\n    .dataframe thead th {\n        text-align: right;\n    }\n</style>\n<table border=\"1\" class=\"dataframe\">\n  <thead>\n    <tr style=\"text-align: right;\">\n      <th></th>\n      <th>Owner</th>\n      <th>Species</th>\n      <th>Country.of.Origin</th>\n      <th>Region</th>\n      <th>Number.of.Bags</th>\n      <th>Bag.Weight</th>\n      <th>Variety</th>\n      <th>Processing.Method</th>\n      <th>Aroma</th>\n      <th>Flavor</th>\n      <th>...</th>\n      <th>Total.Cup.Points</th>\n      <th>Moisture</th>\n      <th>Category.One.Defects</th>\n      <th>Quakers</th>\n      <th>Color</th>\n      <th>Category.Two.Defects</th>\n      <th>unit_of_measurement</th>\n      <th>altitude_low_meters</th>\n      <th>altitude_high_meters</th>\n      <th>altitude_mean_meters</th>\n    </tr>\n  </thead>\n  <tbody>\n    <tr>\n      <th>0</th>\n      <td>metad plc</td>\n      <td>Arabica</td>\n      <td>Ethiopia</td>\n      <td>guji-hambela</td>\n      <td>300</td>\n      <td>60 kg</td>\n      <td>NaN</td>\n      <td>Washed / Wet</td>\n      <td>8.67</td>\n      <td>8.83</td>\n      <td>...</td>\n      <td>90.58</td>\n      <td>0.12</td>\n      <td>0</td>\n      <td>0.0</td>\n      <td>Green</td>\n      <td>0</td>\n      <td>m</td>\n      <td>1950.0</td>\n      <td>2200.0</td>\n      <td>2075.0</td>\n    </tr>\n    <tr>\n      <th>1</th>\n      <td>metad plc</td>\n      <td>Arabica</td>\n      <td>Ethiopia</td>\n      <td>guji-hambela</td>\n      <td>300</td>\n      <td>60 kg</td>\n      <td>Other</td>\n      <td>Washed / Wet</td>\n      <td>8.75</td>\n      <td>8.67</td>\n      <td>...</td>\n      <td>89.92</td>\n      <td>0.12</td>\n      <td>0</td>\n      <td>0.0</td>\n      <td>Green</td>\n      <td>1</td>\n      <td>m</td>\n      <td>1950.0</td>\n      <td>2200.0</td>\n      <td>2075.0</td>\n    </tr>\n    <tr>\n      <th>2</th>\n      <td>grounds for health admin</td>\n      <td>Arabica</td>\n      <td>Guatemala</td>\n      <td>NaN</td>\n      <td>5</td>\n      <td>1</td>\n      <td>Bourbon</td>\n      <td>NaN</td>\n      <td>8.42</td>\n      <td>8.50</td>\n      <td>...</td>\n      <td>89.75</td>\n      <td>0.00</td>\n      <td>0</td>\n      <td>0.0</td>\n      <td>NaN</td>\n      <td>0</td>\n      <td>m</td>\n      <td>1600.0</td>\n      <td>1800.0</td>\n      <td>1700.0</td>\n    </tr>\n    <tr>\n      <th>3</th>\n      <td>yidnekachew dabessa</td>\n      <td>Arabica</td>\n      <td>Ethiopia</td>\n      <td>oromia</td>\n      <td>320</td>\n      <td>60 kg</td>\n      <td>NaN</td>\n      <td>Natural / Dry</td>\n      <td>8.17</td>\n      <td>8.58</td>\n      <td>...</td>\n      <td>89.00</td>\n      <td>0.11</td>\n      <td>0</td>\n      <td>0.0</td>\n      <td>Green</td>\n      <td>2</td>\n      <td>m</td>\n      <td>1800.0</td>\n      <td>2200.0</td>\n      <td>2000.0</td>\n    </tr>\n    <tr>\n      <th>4</th>\n      <td>metad plc</td>\n      <td>Arabica</td>\n      <td>Ethiopia</td>\n      <td>guji-hambela</td>\n      <td>300</td>\n      <td>60 kg</td>\n      <td>Other</td>\n      <td>Washed / Wet</td>\n      <td>8.25</td>\n      <td>8.50</td>\n      <td>...</td>\n      <td>88.83</td>\n      <td>0.12</td>\n      <td>0</td>\n      <td>0.0</td>\n      <td>Green</td>\n      <td>2</td>\n      <td>m</td>\n      <td>1950.0</td>\n      <td>2200.0</td>\n      <td>2075.0</td>\n    </tr>\n  </tbody>\n</table>\n<p>5 rows × 28 columns</p>\n</div>"
     },
     "metadata": {}
    }
   ]
  },
  {
   "cell_type": "code",
   "metadata": {
    "tags": [],
    "cell_id": "00006-6acf3c92-75e9-4af7-abd6-a7738d7c9f6c",
    "deepnote_to_be_reexecuted": false,
    "source_hash": "eaa1e2e4",
    "execution_start": 1627567175549,
    "execution_millis": 1429,
    "deepnote_cell_type": "code"
   },
   "source": "df.describe(include='all')\n# Vemos que es el que mas frecuencia se encuentra en nuestro dataframe",
   "execution_count": null,
   "outputs": [
    {
     "output_type": "execute_result",
     "execution_count": 6,
     "data": {
      "application/vnd.deepnote.dataframe.v2+json": {
       "row_count": 11,
       "column_count": 28,
       "columns": [
        {
         "name": "Owner",
         "dtype": "object",
         "stats": {
          "unique_count": 4,
          "nan_count": 7,
          "categories": [
           {
            "name": "1332",
            "count": 1
           },
           {
            "name": "3 others",
            "count": 3
           },
           {
            "name": "Missing",
            "count": 7
           }
          ]
         }
        },
        {
         "name": "Species",
         "dtype": "object",
         "stats": {
          "unique_count": 4,
          "nan_count": 7,
          "categories": [
           {
            "name": "1339",
            "count": 1
           },
           {
            "name": "3 others",
            "count": 3
           },
           {
            "name": "Missing",
            "count": 7
           }
          ]
         }
        },
        {
         "name": "Country.of.Origin",
         "dtype": "object",
         "stats": {
          "unique_count": 4,
          "nan_count": 7,
          "categories": [
           {
            "name": "1338",
            "count": 1
           },
           {
            "name": "3 others",
            "count": 3
           },
           {
            "name": "Missing",
            "count": 7
           }
          ]
         }
        },
        {
         "name": "Region",
         "dtype": "object",
         "stats": {
          "unique_count": 4,
          "nan_count": 7,
          "categories": [
           {
            "name": "1280",
            "count": 1
           },
           {
            "name": "3 others",
            "count": 3
           },
           {
            "name": "Missing",
            "count": 7
           }
          ]
         }
        },
        {
         "name": "Number.of.Bags",
         "dtype": "float64",
         "stats": {
          "unique_count": 8,
          "nan_count": 3,
          "min": "0.0",
          "max": "1339.0",
          "histogram": [
           {
            "bin_start": 0,
            "bin_end": 133.9,
            "count": 3
           },
           {
            "bin_start": 133.9,
            "bin_end": 267.8,
            "count": 2
           },
           {
            "bin_start": 267.8,
            "bin_end": 401.70000000000005,
            "count": 1
           },
           {
            "bin_start": 401.70000000000005,
            "bin_end": 535.6,
            "count": 0
           },
           {
            "bin_start": 535.6,
            "bin_end": 669.5,
            "count": 0
           },
           {
            "bin_start": 669.5,
            "bin_end": 803.4000000000001,
            "count": 0
           },
           {
            "bin_start": 803.4000000000001,
            "bin_end": 937.3000000000001,
            "count": 0
           },
           {
            "bin_start": 937.3000000000001,
            "bin_end": 1071.2,
            "count": 1
           },
           {
            "bin_start": 1071.2,
            "bin_end": 1205.1000000000001,
            "count": 0
           },
           {
            "bin_start": 1205.1000000000001,
            "bin_end": 1339,
            "count": 1
           }
          ]
         }
        },
        {
         "name": "Bag.Weight",
         "dtype": "object",
         "stats": {
          "unique_count": 4,
          "nan_count": 7,
          "categories": [
           {
            "name": "1339",
            "count": 1
           },
           {
            "name": "3 others",
            "count": 3
           },
           {
            "name": "Missing",
            "count": 7
           }
          ]
         }
        },
        {
         "name": "Variety",
         "dtype": "object",
         "stats": {
          "unique_count": 4,
          "nan_count": 7,
          "categories": [
           {
            "name": "1113",
            "count": 1
           },
           {
            "name": "3 others",
            "count": 3
           },
           {
            "name": "Missing",
            "count": 7
           }
          ]
         }
        },
        {
         "name": "Processing.Method",
         "dtype": "object",
         "stats": {
          "unique_count": 4,
          "nan_count": 7,
          "categories": [
           {
            "name": "1169",
            "count": 1
           },
           {
            "name": "3 others",
            "count": 3
           },
           {
            "name": "Missing",
            "count": 7
           }
          ]
         }
        },
        {
         "name": "Aroma",
         "dtype": "float64",
         "stats": {
          "unique_count": 8,
          "nan_count": 3,
          "min": "0.0",
          "max": "1339.0",
          "histogram": [
           {
            "bin_start": 0,
            "bin_end": 133.9,
            "count": 7
           },
           {
            "bin_start": 133.9,
            "bin_end": 267.8,
            "count": 0
           },
           {
            "bin_start": 267.8,
            "bin_end": 401.70000000000005,
            "count": 0
           },
           {
            "bin_start": 401.70000000000005,
            "bin_end": 535.6,
            "count": 0
           },
           {
            "bin_start": 535.6,
            "bin_end": 669.5,
            "count": 0
           },
           {
            "bin_start": 669.5,
            "bin_end": 803.4000000000001,
            "count": 0
           },
           {
            "bin_start": 803.4000000000001,
            "bin_end": 937.3000000000001,
            "count": 0
           },
           {
            "bin_start": 937.3000000000001,
            "bin_end": 1071.2,
            "count": 0
           },
           {
            "bin_start": 1071.2,
            "bin_end": 1205.1000000000001,
            "count": 0
           },
           {
            "bin_start": 1205.1000000000001,
            "bin_end": 1339,
            "count": 1
           }
          ]
         }
        },
        {
         "name": "Flavor",
         "dtype": "float64",
         "stats": {
          "unique_count": 8,
          "nan_count": 3,
          "min": "0.0",
          "max": "1339.0",
          "histogram": [
           {
            "bin_start": 0,
            "bin_end": 133.9,
            "count": 7
           },
           {
            "bin_start": 133.9,
            "bin_end": 267.8,
            "count": 0
           },
           {
            "bin_start": 267.8,
            "bin_end": 401.70000000000005,
            "count": 0
           },
           {
            "bin_start": 401.70000000000005,
            "bin_end": 535.6,
            "count": 0
           },
           {
            "bin_start": 535.6,
            "bin_end": 669.5,
            "count": 0
           },
           {
            "bin_start": 669.5,
            "bin_end": 803.4000000000001,
            "count": 0
           },
           {
            "bin_start": 803.4000000000001,
            "bin_end": 937.3000000000001,
            "count": 0
           },
           {
            "bin_start": 937.3000000000001,
            "bin_end": 1071.2,
            "count": 0
           },
           {
            "bin_start": 1071.2,
            "bin_end": 1205.1000000000001,
            "count": 0
           },
           {
            "bin_start": 1205.1000000000001,
            "bin_end": 1339,
            "count": 1
           }
          ]
         }
        },
        {
         "name": "Aftertaste",
         "dtype": "float64",
         "stats": {
          "unique_count": 8,
          "nan_count": 3,
          "min": "0.0",
          "max": "1339.0",
          "histogram": [
           {
            "bin_start": 0,
            "bin_end": 133.9,
            "count": 7
           },
           {
            "bin_start": 133.9,
            "bin_end": 267.8,
            "count": 0
           },
           {
            "bin_start": 267.8,
            "bin_end": 401.70000000000005,
            "count": 0
           },
           {
            "bin_start": 401.70000000000005,
            "bin_end": 535.6,
            "count": 0
           },
           {
            "bin_start": 535.6,
            "bin_end": 669.5,
            "count": 0
           },
           {
            "bin_start": 669.5,
            "bin_end": 803.4000000000001,
            "count": 0
           },
           {
            "bin_start": 803.4000000000001,
            "bin_end": 937.3000000000001,
            "count": 0
           },
           {
            "bin_start": 937.3000000000001,
            "bin_end": 1071.2,
            "count": 0
           },
           {
            "bin_start": 1071.2,
            "bin_end": 1205.1000000000001,
            "count": 0
           },
           {
            "bin_start": 1205.1000000000001,
            "bin_end": 1339,
            "count": 1
           }
          ]
         }
        },
        {
         "name": "Acidity",
         "dtype": "float64",
         "stats": {
          "unique_count": 8,
          "nan_count": 3,
          "min": "0.0",
          "max": "1339.0",
          "histogram": [
           {
            "bin_start": 0,
            "bin_end": 133.9,
            "count": 7
           },
           {
            "bin_start": 133.9,
            "bin_end": 267.8,
            "count": 0
           },
           {
            "bin_start": 267.8,
            "bin_end": 401.70000000000005,
            "count": 0
           },
           {
            "bin_start": 401.70000000000005,
            "bin_end": 535.6,
            "count": 0
           },
           {
            "bin_start": 535.6,
            "bin_end": 669.5,
            "count": 0
           },
           {
            "bin_start": 669.5,
            "bin_end": 803.4000000000001,
            "count": 0
           },
           {
            "bin_start": 803.4000000000001,
            "bin_end": 937.3000000000001,
            "count": 0
           },
           {
            "bin_start": 937.3000000000001,
            "bin_end": 1071.2,
            "count": 0
           },
           {
            "bin_start": 1071.2,
            "bin_end": 1205.1000000000001,
            "count": 0
           },
           {
            "bin_start": 1205.1000000000001,
            "bin_end": 1339,
            "count": 1
           }
          ]
         }
        },
        {
         "name": "Body",
         "dtype": "float64",
         "stats": {
          "unique_count": 8,
          "nan_count": 3,
          "min": "0.0",
          "max": "1339.0",
          "histogram": [
           {
            "bin_start": 0,
            "bin_end": 133.9,
            "count": 7
           },
           {
            "bin_start": 133.9,
            "bin_end": 267.8,
            "count": 0
           },
           {
            "bin_start": 267.8,
            "bin_end": 401.70000000000005,
            "count": 0
           },
           {
            "bin_start": 401.70000000000005,
            "bin_end": 535.6,
            "count": 0
           },
           {
            "bin_start": 535.6,
            "bin_end": 669.5,
            "count": 0
           },
           {
            "bin_start": 669.5,
            "bin_end": 803.4000000000001,
            "count": 0
           },
           {
            "bin_start": 803.4000000000001,
            "bin_end": 937.3000000000001,
            "count": 0
           },
           {
            "bin_start": 937.3000000000001,
            "bin_end": 1071.2,
            "count": 0
           },
           {
            "bin_start": 1071.2,
            "bin_end": 1205.1000000000001,
            "count": 0
           },
           {
            "bin_start": 1205.1000000000001,
            "bin_end": 1339,
            "count": 1
           }
          ]
         }
        },
        {
         "name": "Balance",
         "dtype": "float64",
         "stats": {
          "unique_count": 8,
          "nan_count": 3,
          "min": "0.0",
          "max": "1339.0",
          "histogram": [
           {
            "bin_start": 0,
            "bin_end": 133.9,
            "count": 7
           },
           {
            "bin_start": 133.9,
            "bin_end": 267.8,
            "count": 0
           },
           {
            "bin_start": 267.8,
            "bin_end": 401.70000000000005,
            "count": 0
           },
           {
            "bin_start": 401.70000000000005,
            "bin_end": 535.6,
            "count": 0
           },
           {
            "bin_start": 535.6,
            "bin_end": 669.5,
            "count": 0
           },
           {
            "bin_start": 669.5,
            "bin_end": 803.4000000000001,
            "count": 0
           },
           {
            "bin_start": 803.4000000000001,
            "bin_end": 937.3000000000001,
            "count": 0
           },
           {
            "bin_start": 937.3000000000001,
            "bin_end": 1071.2,
            "count": 0
           },
           {
            "bin_start": 1071.2,
            "bin_end": 1205.1000000000001,
            "count": 0
           },
           {
            "bin_start": 1205.1000000000001,
            "bin_end": 1339,
            "count": 1
           }
          ]
         }
        },
        {
         "name": "Uniformity",
         "dtype": "float64",
         "stats": {
          "unique_count": 5,
          "nan_count": 3,
          "min": "0.0",
          "max": "1339.0",
          "histogram": [
           {
            "bin_start": 0,
            "bin_end": 133.9,
            "count": 7
           },
           {
            "bin_start": 133.9,
            "bin_end": 267.8,
            "count": 0
           },
           {
            "bin_start": 267.8,
            "bin_end": 401.70000000000005,
            "count": 0
           },
           {
            "bin_start": 401.70000000000005,
            "bin_end": 535.6,
            "count": 0
           },
           {
            "bin_start": 535.6,
            "bin_end": 669.5,
            "count": 0
           },
           {
            "bin_start": 669.5,
            "bin_end": 803.4000000000001,
            "count": 0
           },
           {
            "bin_start": 803.4000000000001,
            "bin_end": 937.3000000000001,
            "count": 0
           },
           {
            "bin_start": 937.3000000000001,
            "bin_end": 1071.2,
            "count": 0
           },
           {
            "bin_start": 1071.2,
            "bin_end": 1205.1000000000001,
            "count": 0
           },
           {
            "bin_start": 1205.1000000000001,
            "bin_end": 1339,
            "count": 1
           }
          ]
         }
        },
        {
         "name": "Clean.Cup",
         "dtype": "float64",
         "stats": {
          "unique_count": 5,
          "nan_count": 3,
          "min": "0.0",
          "max": "1339.0",
          "histogram": [
           {
            "bin_start": 0,
            "bin_end": 133.9,
            "count": 7
           },
           {
            "bin_start": 133.9,
            "bin_end": 267.8,
            "count": 0
           },
           {
            "bin_start": 267.8,
            "bin_end": 401.70000000000005,
            "count": 0
           },
           {
            "bin_start": 401.70000000000005,
            "bin_end": 535.6,
            "count": 0
           },
           {
            "bin_start": 535.6,
            "bin_end": 669.5,
            "count": 0
           },
           {
            "bin_start": 669.5,
            "bin_end": 803.4000000000001,
            "count": 0
           },
           {
            "bin_start": 803.4000000000001,
            "bin_end": 937.3000000000001,
            "count": 0
           },
           {
            "bin_start": 937.3000000000001,
            "bin_end": 1071.2,
            "count": 0
           },
           {
            "bin_start": 1071.2,
            "bin_end": 1205.1000000000001,
            "count": 0
           },
           {
            "bin_start": 1205.1000000000001,
            "bin_end": 1339,
            "count": 1
           }
          ]
         }
        },
        {
         "name": "Sweetness",
         "dtype": "float64",
         "stats": {
          "unique_count": 5,
          "nan_count": 3,
          "min": "0.0",
          "max": "1339.0",
          "histogram": [
           {
            "bin_start": 0,
            "bin_end": 133.9,
            "count": 7
           },
           {
            "bin_start": 133.9,
            "bin_end": 267.8,
            "count": 0
           },
           {
            "bin_start": 267.8,
            "bin_end": 401.70000000000005,
            "count": 0
           },
           {
            "bin_start": 401.70000000000005,
            "bin_end": 535.6,
            "count": 0
           },
           {
            "bin_start": 535.6,
            "bin_end": 669.5,
            "count": 0
           },
           {
            "bin_start": 669.5,
            "bin_end": 803.4000000000001,
            "count": 0
           },
           {
            "bin_start": 803.4000000000001,
            "bin_end": 937.3000000000001,
            "count": 0
           },
           {
            "bin_start": 937.3000000000001,
            "bin_end": 1071.2,
            "count": 0
           },
           {
            "bin_start": 1071.2,
            "bin_end": 1205.1000000000001,
            "count": 0
           },
           {
            "bin_start": 1205.1000000000001,
            "bin_end": 1339,
            "count": 1
           }
          ]
         }
        },
        {
         "name": "Cupper.Points",
         "dtype": "float64",
         "stats": {
          "unique_count": 8,
          "nan_count": 3,
          "min": "0.0",
          "max": "1339.0",
          "histogram": [
           {
            "bin_start": 0,
            "bin_end": 133.9,
            "count": 7
           },
           {
            "bin_start": 133.9,
            "bin_end": 267.8,
            "count": 0
           },
           {
            "bin_start": 267.8,
            "bin_end": 401.70000000000005,
            "count": 0
           },
           {
            "bin_start": 401.70000000000005,
            "bin_end": 535.6,
            "count": 0
           },
           {
            "bin_start": 535.6,
            "bin_end": 669.5,
            "count": 0
           },
           {
            "bin_start": 669.5,
            "bin_end": 803.4000000000001,
            "count": 0
           },
           {
            "bin_start": 803.4000000000001,
            "bin_end": 937.3000000000001,
            "count": 0
           },
           {
            "bin_start": 937.3000000000001,
            "bin_end": 1071.2,
            "count": 0
           },
           {
            "bin_start": 1071.2,
            "bin_end": 1205.1000000000001,
            "count": 0
           },
           {
            "bin_start": 1205.1000000000001,
            "bin_end": 1339,
            "count": 1
           }
          ]
         }
        },
        {
         "name": "Total.Cup.Points",
         "dtype": "float64",
         "stats": {
          "unique_count": 8,
          "nan_count": 3,
          "min": "0.0",
          "max": "1339.0",
          "histogram": [
           {
            "bin_start": 0,
            "bin_end": 133.9,
            "count": 7
           },
           {
            "bin_start": 133.9,
            "bin_end": 267.8,
            "count": 0
           },
           {
            "bin_start": 267.8,
            "bin_end": 401.70000000000005,
            "count": 0
           },
           {
            "bin_start": 401.70000000000005,
            "bin_end": 535.6,
            "count": 0
           },
           {
            "bin_start": 535.6,
            "bin_end": 669.5,
            "count": 0
           },
           {
            "bin_start": 669.5,
            "bin_end": 803.4000000000001,
            "count": 0
           },
           {
            "bin_start": 803.4000000000001,
            "bin_end": 937.3000000000001,
            "count": 0
           },
           {
            "bin_start": 937.3000000000001,
            "bin_end": 1071.2,
            "count": 0
           },
           {
            "bin_start": 1071.2,
            "bin_end": 1205.1000000000001,
            "count": 0
           },
           {
            "bin_start": 1205.1000000000001,
            "bin_end": 1339,
            "count": 1
           }
          ]
         }
        },
        {
         "name": "Moisture",
         "dtype": "float64",
         "stats": {
          "unique_count": 8,
          "nan_count": 3,
          "min": "0.0",
          "max": "1339.0",
          "histogram": [
           {
            "bin_start": 0,
            "bin_end": 133.9,
            "count": 7
           },
           {
            "bin_start": 133.9,
            "bin_end": 267.8,
            "count": 0
           },
           {
            "bin_start": 267.8,
            "bin_end": 401.70000000000005,
            "count": 0
           },
           {
            "bin_start": 401.70000000000005,
            "bin_end": 535.6,
            "count": 0
           },
           {
            "bin_start": 535.6,
            "bin_end": 669.5,
            "count": 0
           },
           {
            "bin_start": 669.5,
            "bin_end": 803.4000000000001,
            "count": 0
           },
           {
            "bin_start": 803.4000000000001,
            "bin_end": 937.3000000000001,
            "count": 0
           },
           {
            "bin_start": 937.3000000000001,
            "bin_end": 1071.2,
            "count": 0
           },
           {
            "bin_start": 1071.2,
            "bin_end": 1205.1000000000001,
            "count": 0
           },
           {
            "bin_start": 1205.1000000000001,
            "bin_end": 1339,
            "count": 1
           }
          ]
         }
        },
        {
         "name": "Category.One.Defects",
         "dtype": "float64",
         "stats": {
          "unique_count": 5,
          "nan_count": 3,
          "min": "0.0",
          "max": "1339.0",
          "histogram": [
           {
            "bin_start": 0,
            "bin_end": 133.9,
            "count": 7
           },
           {
            "bin_start": 133.9,
            "bin_end": 267.8,
            "count": 0
           },
           {
            "bin_start": 267.8,
            "bin_end": 401.70000000000005,
            "count": 0
           },
           {
            "bin_start": 401.70000000000005,
            "bin_end": 535.6,
            "count": 0
           },
           {
            "bin_start": 535.6,
            "bin_end": 669.5,
            "count": 0
           },
           {
            "bin_start": 669.5,
            "bin_end": 803.4000000000001,
            "count": 0
           },
           {
            "bin_start": 803.4000000000001,
            "bin_end": 937.3000000000001,
            "count": 0
           },
           {
            "bin_start": 937.3000000000001,
            "bin_end": 1071.2,
            "count": 0
           },
           {
            "bin_start": 1071.2,
            "bin_end": 1205.1000000000001,
            "count": 0
           },
           {
            "bin_start": 1205.1000000000001,
            "bin_end": 1339,
            "count": 1
           }
          ]
         }
        },
        {
         "name": "Quakers",
         "dtype": "float64",
         "stats": {
          "unique_count": 5,
          "nan_count": 3,
          "min": "0.0",
          "max": "1338.0",
          "histogram": [
           {
            "bin_start": 0,
            "bin_end": 133.8,
            "count": 7
           },
           {
            "bin_start": 133.8,
            "bin_end": 267.6,
            "count": 0
           },
           {
            "bin_start": 267.6,
            "bin_end": 401.40000000000003,
            "count": 0
           },
           {
            "bin_start": 401.40000000000003,
            "bin_end": 535.2,
            "count": 0
           },
           {
            "bin_start": 535.2,
            "bin_end": 669,
            "count": 0
           },
           {
            "bin_start": 669,
            "bin_end": 802.8000000000001,
            "count": 0
           },
           {
            "bin_start": 802.8000000000001,
            "bin_end": 936.6000000000001,
            "count": 0
           },
           {
            "bin_start": 936.6000000000001,
            "bin_end": 1070.4,
            "count": 0
           },
           {
            "bin_start": 1070.4,
            "bin_end": 1204.2,
            "count": 0
           },
           {
            "bin_start": 1204.2,
            "bin_end": 1338,
            "count": 1
           }
          ]
         }
        },
        {
         "name": "Color",
         "dtype": "object",
         "stats": {
          "unique_count": 4,
          "nan_count": 7,
          "categories": [
           {
            "name": "1121",
            "count": 1
           },
           {
            "name": "3 others",
            "count": 3
           },
           {
            "name": "Missing",
            "count": 7
           }
          ]
         }
        },
        {
         "name": "Category.Two.Defects",
         "dtype": "float64",
         "stats": {
          "unique_count": 7,
          "nan_count": 3,
          "min": "0.0",
          "max": "1339.0",
          "histogram": [
           {
            "bin_start": 0,
            "bin_end": 133.9,
            "count": 7
           },
           {
            "bin_start": 133.9,
            "bin_end": 267.8,
            "count": 0
           },
           {
            "bin_start": 267.8,
            "bin_end": 401.70000000000005,
            "count": 0
           },
           {
            "bin_start": 401.70000000000005,
            "bin_end": 535.6,
            "count": 0
           },
           {
            "bin_start": 535.6,
            "bin_end": 669.5,
            "count": 0
           },
           {
            "bin_start": 669.5,
            "bin_end": 803.4000000000001,
            "count": 0
           },
           {
            "bin_start": 803.4000000000001,
            "bin_end": 937.3000000000001,
            "count": 0
           },
           {
            "bin_start": 937.3000000000001,
            "bin_end": 1071.2,
            "count": 0
           },
           {
            "bin_start": 1071.2,
            "bin_end": 1205.1000000000001,
            "count": 0
           },
           {
            "bin_start": 1205.1000000000001,
            "bin_end": 1339,
            "count": 1
           }
          ]
         }
        },
        {
         "name": "unit_of_measurement",
         "dtype": "object",
         "stats": {
          "unique_count": 4,
          "nan_count": 7,
          "categories": [
           {
            "name": "1339",
            "count": 1
           },
           {
            "name": "3 others",
            "count": 3
           },
           {
            "name": "Missing",
            "count": 7
           }
          ]
         }
        },
        {
         "name": "altitude_low_meters",
         "dtype": "float64",
         "stats": {
          "unique_count": 8,
          "nan_count": 3,
          "min": "1.0",
          "max": "190164.0",
          "histogram": [
           {
            "bin_start": 1,
            "bin_end": 19017.3,
            "count": 7
           },
           {
            "bin_start": 19017.3,
            "bin_end": 38033.6,
            "count": 0
           },
           {
            "bin_start": 38033.6,
            "bin_end": 57049.899999999994,
            "count": 0
           },
           {
            "bin_start": 57049.899999999994,
            "bin_end": 76066.2,
            "count": 0
           },
           {
            "bin_start": 76066.2,
            "bin_end": 95082.5,
            "count": 0
           },
           {
            "bin_start": 95082.5,
            "bin_end": 114098.79999999999,
            "count": 0
           },
           {
            "bin_start": 114098.79999999999,
            "bin_end": 133115.1,
            "count": 0
           },
           {
            "bin_start": 133115.1,
            "bin_end": 152131.4,
            "count": 0
           },
           {
            "bin_start": 152131.4,
            "bin_end": 171147.69999999998,
            "count": 0
           },
           {
            "bin_start": 171147.69999999998,
            "bin_end": 190164,
            "count": 1
           }
          ]
         }
        },
        {
         "name": "altitude_high_meters",
         "dtype": "float64",
         "stats": {
          "unique_count": 8,
          "nan_count": 3,
          "min": "1.0",
          "max": "190164.0",
          "histogram": [
           {
            "bin_start": 1,
            "bin_end": 19017.3,
            "count": 7
           },
           {
            "bin_start": 19017.3,
            "bin_end": 38033.6,
            "count": 0
           },
           {
            "bin_start": 38033.6,
            "bin_end": 57049.899999999994,
            "count": 0
           },
           {
            "bin_start": 57049.899999999994,
            "bin_end": 76066.2,
            "count": 0
           },
           {
            "bin_start": 76066.2,
            "bin_end": 95082.5,
            "count": 0
           },
           {
            "bin_start": 95082.5,
            "bin_end": 114098.79999999999,
            "count": 0
           },
           {
            "bin_start": 114098.79999999999,
            "bin_end": 133115.1,
            "count": 0
           },
           {
            "bin_start": 133115.1,
            "bin_end": 152131.4,
            "count": 0
           },
           {
            "bin_start": 152131.4,
            "bin_end": 171147.69999999998,
            "count": 0
           },
           {
            "bin_start": 171147.69999999998,
            "bin_end": 190164,
            "count": 1
           }
          ]
         }
        },
        {
         "name": "altitude_mean_meters",
         "dtype": "float64",
         "stats": {
          "unique_count": 8,
          "nan_count": 3,
          "min": "1.0",
          "max": "190164.0",
          "histogram": [
           {
            "bin_start": 1,
            "bin_end": 19017.3,
            "count": 7
           },
           {
            "bin_start": 19017.3,
            "bin_end": 38033.6,
            "count": 0
           },
           {
            "bin_start": 38033.6,
            "bin_end": 57049.899999999994,
            "count": 0
           },
           {
            "bin_start": 57049.899999999994,
            "bin_end": 76066.2,
            "count": 0
           },
           {
            "bin_start": 76066.2,
            "bin_end": 95082.5,
            "count": 0
           },
           {
            "bin_start": 95082.5,
            "bin_end": 114098.79999999999,
            "count": 0
           },
           {
            "bin_start": 114098.79999999999,
            "bin_end": 133115.1,
            "count": 0
           },
           {
            "bin_start": 133115.1,
            "bin_end": 152131.4,
            "count": 0
           },
           {
            "bin_start": 152131.4,
            "bin_end": 171147.69999999998,
            "count": 0
           },
           {
            "bin_start": 171147.69999999998,
            "bin_end": 190164,
            "count": 1
           }
          ]
         }
        },
        {
         "name": "_deepnote_index_column",
         "dtype": "object"
        }
       ],
       "rows_top": [
        {
         "Owner": "1332",
         "Species": "1339",
         "Country.of.Origin": "1338",
         "Region": "1280",
         "Number.of.Bags": 1339,
         "Bag.Weight": "1339",
         "Variety": "1113",
         "Processing.Method": "1169",
         "Aroma": 1339,
         "Flavor": 1339,
         "Aftertaste": 1339,
         "Acidity": 1339,
         "Body": 1339,
         "Balance": 1339,
         "Uniformity": 1339,
         "Clean.Cup": 1339,
         "Sweetness": 1339,
         "Cupper.Points": 1339,
         "Total.Cup.Points": 1339,
         "Moisture": 1339,
         "Category.One.Defects": 1339,
         "Quakers": 1338,
         "Color": "1121",
         "Category.Two.Defects": 1339,
         "unit_of_measurement": "1339",
         "altitude_low_meters": 1109,
         "altitude_high_meters": 1109,
         "altitude_mean_meters": 1109,
         "_deepnote_index_column": "count"
        },
        {
         "Owner": "315",
         "Species": "2",
         "Country.of.Origin": "36",
         "Region": "356",
         "Number.of.Bags": "nan",
         "Bag.Weight": "56",
         "Variety": "29",
         "Processing.Method": "5",
         "Aroma": "nan",
         "Flavor": "nan",
         "Aftertaste": "nan",
         "Acidity": "nan",
         "Body": "nan",
         "Balance": "nan",
         "Uniformity": "nan",
         "Clean.Cup": "nan",
         "Sweetness": "nan",
         "Cupper.Points": "nan",
         "Total.Cup.Points": "nan",
         "Moisture": "nan",
         "Category.One.Defects": "nan",
         "Quakers": "nan",
         "Color": "4",
         "Category.Two.Defects": "nan",
         "unit_of_measurement": "2",
         "altitude_low_meters": "nan",
         "altitude_high_meters": "nan",
         "altitude_mean_meters": "nan",
         "_deepnote_index_column": "unique"
        },
        {
         "Owner": "juan luis alvarado romero",
         "Species": "Arabica",
         "Country.of.Origin": "Mexico",
         "Region": "huila",
         "Number.of.Bags": "nan",
         "Bag.Weight": "1 kg",
         "Variety": "Caturra",
         "Processing.Method": "Washed / Wet",
         "Aroma": "nan",
         "Flavor": "nan",
         "Aftertaste": "nan",
         "Acidity": "nan",
         "Body": "nan",
         "Balance": "nan",
         "Uniformity": "nan",
         "Clean.Cup": "nan",
         "Sweetness": "nan",
         "Cupper.Points": "nan",
         "Total.Cup.Points": "nan",
         "Moisture": "nan",
         "Category.One.Defects": "nan",
         "Quakers": "nan",
         "Color": "Green",
         "Category.Two.Defects": "nan",
         "unit_of_measurement": "m",
         "altitude_low_meters": "nan",
         "altitude_high_meters": "nan",
         "altitude_mean_meters": "nan",
         "_deepnote_index_column": "top"
        },
        {
         "Owner": "155",
         "Species": "1311",
         "Country.of.Origin": "236",
         "Region": "112",
         "Number.of.Bags": "nan",
         "Bag.Weight": "331",
         "Variety": "256",
         "Processing.Method": "815",
         "Aroma": "nan",
         "Flavor": "nan",
         "Aftertaste": "nan",
         "Acidity": "nan",
         "Body": "nan",
         "Balance": "nan",
         "Uniformity": "nan",
         "Clean.Cup": "nan",
         "Sweetness": "nan",
         "Cupper.Points": "nan",
         "Total.Cup.Points": "nan",
         "Moisture": "nan",
         "Category.One.Defects": "nan",
         "Quakers": "nan",
         "Color": "870",
         "Category.Two.Defects": "nan",
         "unit_of_measurement": "1157",
         "altitude_low_meters": "nan",
         "altitude_high_meters": "nan",
         "altitude_mean_meters": "nan",
         "_deepnote_index_column": "freq"
        },
        {
         "Owner": "nan",
         "Species": "nan",
         "Country.of.Origin": "nan",
         "Region": "nan",
         "Number.of.Bags": 154.1829723674384,
         "Bag.Weight": "nan",
         "Variety": "nan",
         "Processing.Method": "nan",
         "Aroma": 7.566706497386109,
         "Flavor": 7.520425690814041,
         "Aftertaste": 7.40108289768484,
         "Acidity": 7.535705750560121,
         "Body": 7.517498132935026,
         "Balance": 7.5180134428678125,
         "Uniformity": 9.834876773711727,
         "Clean.Cup": 9.835108289768483,
         "Sweetness": 9.856691560866318,
         "Cupper.Points": 7.503375653472741,
         "Total.Cup.Points": 82.08985063480209,
         "Moisture": 0.08837938760268857,
         "Category.One.Defects": 0.479462285287528,
         "Quakers": 0.17339312406576982,
         "Color": "nan",
         "Category.Two.Defects": 3.5563853622106048,
         "unit_of_measurement": "nan",
         "altitude_low_meters": 1750.7133150586112,
         "altitude_high_meters": 1799.3477749323713,
         "altitude_mean_meters": 1775.0305449954915,
         "_deepnote_index_column": "mean"
        },
        {
         "Owner": "nan",
         "Species": "nan",
         "Country.of.Origin": "nan",
         "Region": "nan",
         "Number.of.Bags": 129.9871620997239,
         "Bag.Weight": "nan",
         "Variety": "nan",
         "Processing.Method": "nan",
         "Aroma": 0.37755999696805503,
         "Flavor": 0.39844208698228806,
         "Aftertaste": 0.404463447012059,
         "Acidity": 0.3798266932957721,
         "Body": 0.37006394505139883,
         "Balance": 0.40894329150103237,
         "Uniformity": 0.5545906088267731,
         "Clean.Cup": 0.763945906302495,
         "Sweetness": 0.6161019777168915,
         "Cupper.Points": 0.4734642722264955,
         "Total.Cup.Points": 3.50057545665682,
         "Moisture": 0.04828743713715725,
         "Category.One.Defects": 2.5496834723748556,
         "Quakers": 0.8321210407685347,
         "Color": "nan",
         "Category.Two.Defects": 5.31254071681596,
         "unit_of_measurement": "nan",
         "altitude_low_meters": 8669.440544568493,
         "altitude_high_meters": 8668.805771117879,
         "altitude_mean_meters": 8668.626079847185,
         "_deepnote_index_column": "std"
        },
        {
         "Owner": "nan",
         "Species": "nan",
         "Country.of.Origin": "nan",
         "Region": "nan",
         "Number.of.Bags": 0,
         "Bag.Weight": "nan",
         "Variety": "nan",
         "Processing.Method": "nan",
         "Aroma": 0,
         "Flavor": 0,
         "Aftertaste": 0,
         "Acidity": 0,
         "Body": 0,
         "Balance": 0,
         "Uniformity": 0,
         "Clean.Cup": 0,
         "Sweetness": 0,
         "Cupper.Points": 0,
         "Total.Cup.Points": 0,
         "Moisture": 0,
         "Category.One.Defects": 0,
         "Quakers": 0,
         "Color": "nan",
         "Category.Two.Defects": 0,
         "unit_of_measurement": "nan",
         "altitude_low_meters": 1,
         "altitude_high_meters": 1,
         "altitude_mean_meters": 1,
         "_deepnote_index_column": "min"
        },
        {
         "Owner": "nan",
         "Species": "nan",
         "Country.of.Origin": "nan",
         "Region": "nan",
         "Number.of.Bags": 14,
         "Bag.Weight": "nan",
         "Variety": "nan",
         "Processing.Method": "nan",
         "Aroma": 7.42,
         "Flavor": 7.33,
         "Aftertaste": 7.25,
         "Acidity": 7.33,
         "Body": 7.33,
         "Balance": 7.33,
         "Uniformity": 10,
         "Clean.Cup": 10,
         "Sweetness": 10,
         "Cupper.Points": 7.25,
         "Total.Cup.Points": 81.08,
         "Moisture": 0.09,
         "Category.One.Defects": 0,
         "Quakers": 0,
         "Color": "nan",
         "Category.Two.Defects": 0,
         "unit_of_measurement": "nan",
         "altitude_low_meters": 1100,
         "altitude_high_meters": 1100,
         "altitude_mean_meters": 1100,
         "_deepnote_index_column": "25%"
        },
        {
         "Owner": "nan",
         "Species": "nan",
         "Country.of.Origin": "nan",
         "Region": "nan",
         "Number.of.Bags": 175,
         "Bag.Weight": "nan",
         "Variety": "nan",
         "Processing.Method": "nan",
         "Aroma": 7.58,
         "Flavor": 7.58,
         "Aftertaste": 7.42,
         "Acidity": 7.58,
         "Body": 7.5,
         "Balance": 7.5,
         "Uniformity": 10,
         "Clean.Cup": 10,
         "Sweetness": 10,
         "Cupper.Points": 7.5,
         "Total.Cup.Points": 82.5,
         "Moisture": 0.11,
         "Category.One.Defects": 0,
         "Quakers": 0,
         "Color": "nan",
         "Category.Two.Defects": 2,
         "unit_of_measurement": "nan",
         "altitude_low_meters": 1310.64,
         "altitude_high_meters": 1350,
         "altitude_mean_meters": 1310.64,
         "_deepnote_index_column": "50%"
        },
        {
         "Owner": "nan",
         "Species": "nan",
         "Country.of.Origin": "nan",
         "Region": "nan",
         "Number.of.Bags": 275,
         "Bag.Weight": "nan",
         "Variety": "nan",
         "Processing.Method": "nan",
         "Aroma": 7.75,
         "Flavor": 7.75,
         "Aftertaste": 7.58,
         "Acidity": 7.75,
         "Body": 7.67,
         "Balance": 7.75,
         "Uniformity": 10,
         "Clean.Cup": 10,
         "Sweetness": 10,
         "Cupper.Points": 7.75,
         "Total.Cup.Points": 83.67,
         "Moisture": 0.12,
         "Category.One.Defects": 0,
         "Quakers": 0,
         "Color": "nan",
         "Category.Two.Defects": 4,
         "unit_of_measurement": "nan",
         "altitude_low_meters": 1600,
         "altitude_high_meters": 1650,
         "altitude_mean_meters": 1600,
         "_deepnote_index_column": "75%"
        },
        {
         "Owner": "nan",
         "Species": "nan",
         "Country.of.Origin": "nan",
         "Region": "nan",
         "Number.of.Bags": 1062,
         "Bag.Weight": "nan",
         "Variety": "nan",
         "Processing.Method": "nan",
         "Aroma": 8.75,
         "Flavor": 8.83,
         "Aftertaste": 8.67,
         "Acidity": 8.75,
         "Body": 8.58,
         "Balance": 8.75,
         "Uniformity": 10,
         "Clean.Cup": 10,
         "Sweetness": 10,
         "Cupper.Points": 10,
         "Total.Cup.Points": 90.58,
         "Moisture": 0.28,
         "Category.One.Defects": 63,
         "Quakers": 11,
         "Color": "nan",
         "Category.Two.Defects": 55,
         "unit_of_measurement": "nan",
         "altitude_low_meters": 190164,
         "altitude_high_meters": 190164,
         "altitude_mean_meters": 190164,
         "_deepnote_index_column": "max"
        }
       ],
       "rows_bottom": null
      },
      "text/plain": "                            Owner  Species Country.of.Origin Region  \\\ncount                        1332     1339              1338   1280   \nunique                        315        2                36    356   \ntop     juan luis alvarado romero  Arabica            Mexico  huila   \nfreq                          155     1311               236    112   \nmean                          NaN      NaN               NaN    NaN   \nstd                           NaN      NaN               NaN    NaN   \nmin                           NaN      NaN               NaN    NaN   \n25%                           NaN      NaN               NaN    NaN   \n50%                           NaN      NaN               NaN    NaN   \n75%                           NaN      NaN               NaN    NaN   \nmax                           NaN      NaN               NaN    NaN   \n\n        Number.of.Bags Bag.Weight  Variety Processing.Method        Aroma  \\\ncount      1339.000000       1339     1113              1169  1339.000000   \nunique             NaN         56       29                 5          NaN   \ntop                NaN       1 kg  Caturra      Washed / Wet          NaN   \nfreq               NaN        331      256               815          NaN   \nmean        154.182972        NaN      NaN               NaN     7.566706   \nstd         129.987162        NaN      NaN               NaN     0.377560   \nmin           0.000000        NaN      NaN               NaN     0.000000   \n25%          14.000000        NaN      NaN               NaN     7.420000   \n50%         175.000000        NaN      NaN               NaN     7.580000   \n75%         275.000000        NaN      NaN               NaN     7.750000   \nmax        1062.000000        NaN      NaN               NaN     8.750000   \n\n             Flavor  ...  Total.Cup.Points     Moisture  Category.One.Defects  \\\ncount   1339.000000  ...       1339.000000  1339.000000           1339.000000   \nunique          NaN  ...               NaN          NaN                   NaN   \ntop             NaN  ...               NaN          NaN                   NaN   \nfreq            NaN  ...               NaN          NaN                   NaN   \nmean       7.520426  ...         82.089851     0.088379              0.479462   \nstd        0.398442  ...          3.500575     0.048287              2.549683   \nmin        0.000000  ...          0.000000     0.000000              0.000000   \n25%        7.330000  ...         81.080000     0.090000              0.000000   \n50%        7.580000  ...         82.500000     0.110000              0.000000   \n75%        7.750000  ...         83.670000     0.120000              0.000000   \nmax        8.830000  ...         90.580000     0.280000             63.000000   \n\n            Quakers  Color  Category.Two.Defects  unit_of_measurement  \\\ncount   1338.000000   1121           1339.000000                 1339   \nunique          NaN      4                   NaN                    2   \ntop             NaN  Green                   NaN                    m   \nfreq            NaN    870                   NaN                 1157   \nmean       0.173393    NaN              3.556385                  NaN   \nstd        0.832121    NaN              5.312541                  NaN   \nmin        0.000000    NaN              0.000000                  NaN   \n25%        0.000000    NaN              0.000000                  NaN   \n50%        0.000000    NaN              2.000000                  NaN   \n75%        0.000000    NaN              4.000000                  NaN   \nmax       11.000000    NaN             55.000000                  NaN   \n\n        altitude_low_meters  altitude_high_meters  altitude_mean_meters  \ncount           1109.000000           1109.000000           1109.000000  \nunique                  NaN                   NaN                   NaN  \ntop                     NaN                   NaN                   NaN  \nfreq                    NaN                   NaN                   NaN  \nmean            1750.713315           1799.347775           1775.030545  \nstd             8669.440545           8668.805771           8668.626080  \nmin                1.000000              1.000000              1.000000  \n25%             1100.000000           1100.000000           1100.000000  \n50%             1310.640000           1350.000000           1310.640000  \n75%             1600.000000           1650.000000           1600.000000  \nmax           190164.000000         190164.000000         190164.000000  \n\n[11 rows x 28 columns]",
      "text/html": "<div>\n<style scoped>\n    .dataframe tbody tr th:only-of-type {\n        vertical-align: middle;\n    }\n\n    .dataframe tbody tr th {\n        vertical-align: top;\n    }\n\n    .dataframe thead th {\n        text-align: right;\n    }\n</style>\n<table border=\"1\" class=\"dataframe\">\n  <thead>\n    <tr style=\"text-align: right;\">\n      <th></th>\n      <th>Owner</th>\n      <th>Species</th>\n      <th>Country.of.Origin</th>\n      <th>Region</th>\n      <th>Number.of.Bags</th>\n      <th>Bag.Weight</th>\n      <th>Variety</th>\n      <th>Processing.Method</th>\n      <th>Aroma</th>\n      <th>Flavor</th>\n      <th>...</th>\n      <th>Total.Cup.Points</th>\n      <th>Moisture</th>\n      <th>Category.One.Defects</th>\n      <th>Quakers</th>\n      <th>Color</th>\n      <th>Category.Two.Defects</th>\n      <th>unit_of_measurement</th>\n      <th>altitude_low_meters</th>\n      <th>altitude_high_meters</th>\n      <th>altitude_mean_meters</th>\n    </tr>\n  </thead>\n  <tbody>\n    <tr>\n      <th>count</th>\n      <td>1332</td>\n      <td>1339</td>\n      <td>1338</td>\n      <td>1280</td>\n      <td>1339.000000</td>\n      <td>1339</td>\n      <td>1113</td>\n      <td>1169</td>\n      <td>1339.000000</td>\n      <td>1339.000000</td>\n      <td>...</td>\n      <td>1339.000000</td>\n      <td>1339.000000</td>\n      <td>1339.000000</td>\n      <td>1338.000000</td>\n      <td>1121</td>\n      <td>1339.000000</td>\n      <td>1339</td>\n      <td>1109.000000</td>\n      <td>1109.000000</td>\n      <td>1109.000000</td>\n    </tr>\n    <tr>\n      <th>unique</th>\n      <td>315</td>\n      <td>2</td>\n      <td>36</td>\n      <td>356</td>\n      <td>NaN</td>\n      <td>56</td>\n      <td>29</td>\n      <td>5</td>\n      <td>NaN</td>\n      <td>NaN</td>\n      <td>...</td>\n      <td>NaN</td>\n      <td>NaN</td>\n      <td>NaN</td>\n      <td>NaN</td>\n      <td>4</td>\n      <td>NaN</td>\n      <td>2</td>\n      <td>NaN</td>\n      <td>NaN</td>\n      <td>NaN</td>\n    </tr>\n    <tr>\n      <th>top</th>\n      <td>juan luis alvarado romero</td>\n      <td>Arabica</td>\n      <td>Mexico</td>\n      <td>huila</td>\n      <td>NaN</td>\n      <td>1 kg</td>\n      <td>Caturra</td>\n      <td>Washed / Wet</td>\n      <td>NaN</td>\n      <td>NaN</td>\n      <td>...</td>\n      <td>NaN</td>\n      <td>NaN</td>\n      <td>NaN</td>\n      <td>NaN</td>\n      <td>Green</td>\n      <td>NaN</td>\n      <td>m</td>\n      <td>NaN</td>\n      <td>NaN</td>\n      <td>NaN</td>\n    </tr>\n    <tr>\n      <th>freq</th>\n      <td>155</td>\n      <td>1311</td>\n      <td>236</td>\n      <td>112</td>\n      <td>NaN</td>\n      <td>331</td>\n      <td>256</td>\n      <td>815</td>\n      <td>NaN</td>\n      <td>NaN</td>\n      <td>...</td>\n      <td>NaN</td>\n      <td>NaN</td>\n      <td>NaN</td>\n      <td>NaN</td>\n      <td>870</td>\n      <td>NaN</td>\n      <td>1157</td>\n      <td>NaN</td>\n      <td>NaN</td>\n      <td>NaN</td>\n    </tr>\n    <tr>\n      <th>mean</th>\n      <td>NaN</td>\n      <td>NaN</td>\n      <td>NaN</td>\n      <td>NaN</td>\n      <td>154.182972</td>\n      <td>NaN</td>\n      <td>NaN</td>\n      <td>NaN</td>\n      <td>7.566706</td>\n      <td>7.520426</td>\n      <td>...</td>\n      <td>82.089851</td>\n      <td>0.088379</td>\n      <td>0.479462</td>\n      <td>0.173393</td>\n      <td>NaN</td>\n      <td>3.556385</td>\n      <td>NaN</td>\n      <td>1750.713315</td>\n      <td>1799.347775</td>\n      <td>1775.030545</td>\n    </tr>\n    <tr>\n      <th>std</th>\n      <td>NaN</td>\n      <td>NaN</td>\n      <td>NaN</td>\n      <td>NaN</td>\n      <td>129.987162</td>\n      <td>NaN</td>\n      <td>NaN</td>\n      <td>NaN</td>\n      <td>0.377560</td>\n      <td>0.398442</td>\n      <td>...</td>\n      <td>3.500575</td>\n      <td>0.048287</td>\n      <td>2.549683</td>\n      <td>0.832121</td>\n      <td>NaN</td>\n      <td>5.312541</td>\n      <td>NaN</td>\n      <td>8669.440545</td>\n      <td>8668.805771</td>\n      <td>8668.626080</td>\n    </tr>\n    <tr>\n      <th>min</th>\n      <td>NaN</td>\n      <td>NaN</td>\n      <td>NaN</td>\n      <td>NaN</td>\n      <td>0.000000</td>\n      <td>NaN</td>\n      <td>NaN</td>\n      <td>NaN</td>\n      <td>0.000000</td>\n      <td>0.000000</td>\n      <td>...</td>\n      <td>0.000000</td>\n      <td>0.000000</td>\n      <td>0.000000</td>\n      <td>0.000000</td>\n      <td>NaN</td>\n      <td>0.000000</td>\n      <td>NaN</td>\n      <td>1.000000</td>\n      <td>1.000000</td>\n      <td>1.000000</td>\n    </tr>\n    <tr>\n      <th>25%</th>\n      <td>NaN</td>\n      <td>NaN</td>\n      <td>NaN</td>\n      <td>NaN</td>\n      <td>14.000000</td>\n      <td>NaN</td>\n      <td>NaN</td>\n      <td>NaN</td>\n      <td>7.420000</td>\n      <td>7.330000</td>\n      <td>...</td>\n      <td>81.080000</td>\n      <td>0.090000</td>\n      <td>0.000000</td>\n      <td>0.000000</td>\n      <td>NaN</td>\n      <td>0.000000</td>\n      <td>NaN</td>\n      <td>1100.000000</td>\n      <td>1100.000000</td>\n      <td>1100.000000</td>\n    </tr>\n    <tr>\n      <th>50%</th>\n      <td>NaN</td>\n      <td>NaN</td>\n      <td>NaN</td>\n      <td>NaN</td>\n      <td>175.000000</td>\n      <td>NaN</td>\n      <td>NaN</td>\n      <td>NaN</td>\n      <td>7.580000</td>\n      <td>7.580000</td>\n      <td>...</td>\n      <td>82.500000</td>\n      <td>0.110000</td>\n      <td>0.000000</td>\n      <td>0.000000</td>\n      <td>NaN</td>\n      <td>2.000000</td>\n      <td>NaN</td>\n      <td>1310.640000</td>\n      <td>1350.000000</td>\n      <td>1310.640000</td>\n    </tr>\n    <tr>\n      <th>75%</th>\n      <td>NaN</td>\n      <td>NaN</td>\n      <td>NaN</td>\n      <td>NaN</td>\n      <td>275.000000</td>\n      <td>NaN</td>\n      <td>NaN</td>\n      <td>NaN</td>\n      <td>7.750000</td>\n      <td>7.750000</td>\n      <td>...</td>\n      <td>83.670000</td>\n      <td>0.120000</td>\n      <td>0.000000</td>\n      <td>0.000000</td>\n      <td>NaN</td>\n      <td>4.000000</td>\n      <td>NaN</td>\n      <td>1600.000000</td>\n      <td>1650.000000</td>\n      <td>1600.000000</td>\n    </tr>\n    <tr>\n      <th>max</th>\n      <td>NaN</td>\n      <td>NaN</td>\n      <td>NaN</td>\n      <td>NaN</td>\n      <td>1062.000000</td>\n      <td>NaN</td>\n      <td>NaN</td>\n      <td>NaN</td>\n      <td>8.750000</td>\n      <td>8.830000</td>\n      <td>...</td>\n      <td>90.580000</td>\n      <td>0.280000</td>\n      <td>63.000000</td>\n      <td>11.000000</td>\n      <td>NaN</td>\n      <td>55.000000</td>\n      <td>NaN</td>\n      <td>190164.000000</td>\n      <td>190164.000000</td>\n      <td>190164.000000</td>\n    </tr>\n  </tbody>\n</table>\n<p>11 rows × 28 columns</p>\n</div>"
     },
     "metadata": {}
    }
   ]
  },
  {
   "cell_type": "code",
   "metadata": {
    "tags": [],
    "cell_id": "00007-10491a41-15b8-4619-be55-402744cedff7",
    "deepnote_to_be_reexecuted": false,
    "source_hash": "66f3d1ae",
    "execution_start": 1627568755545,
    "execution_millis": 14,
    "deepnote_cell_type": "code"
   },
   "source": "# Vamos a ver la cantidad de datos faltantes\nprint(df.isna().sum().sort_values(ascending = False))\nprint('La cantidad de datos faltantes es: ',sum(df.isna().sum()) )",
   "execution_count": null,
   "outputs": [
    {
     "name": "stdout",
     "text": "altitude_mean_meters    230\naltitude_high_meters    230\naltitude_low_meters     230\nVariety                 226\nColor                   218\nProcessing.Method       170\nRegion                   59\nOwner                     7\nCountry.of.Origin         1\nQuakers                   1\nAroma                     0\nFlavor                    0\nNumber.of.Bags            0\nunit_of_measurement       0\nCategory.Two.Defects      0\nBag.Weight                0\nCategory.One.Defects      0\nMoisture                  0\nTotal.Cup.Points          0\nCupper.Points             0\nSweetness                 0\nClean.Cup                 0\nSpecies                   0\nBalance                   0\nBody                      0\nAcidity                   0\nAftertaste                0\nUniformity                0\ndtype: int64\nLa cantidad de datos faltantes es:  1372\n",
     "output_type": "stream"
    }
   ]
  },
  {
   "cell_type": "markdown",
   "source": "# Data Cleaning",
   "metadata": {
    "tags": [],
    "cell_id": "00008-ee0dadcb-ceff-4411-9c07-a12c0d930c66",
    "is_collapsed": false,
    "deepnote_cell_type": "text-cell-h1"
   }
  },
  {
   "cell_type": "markdown",
   "source": "Analisemos algunas varibales con los faltantes",
   "metadata": {
    "tags": [],
    "cell_id": "00009-546fd856-0fc8-4281-b445-d3db3b08def7",
    "deepnote_cell_type": "markdown"
   }
  },
  {
   "cell_type": "code",
   "metadata": {
    "tags": [],
    "cell_id": "00010-5c763780-a73d-46e6-bcf0-390ab5c22d0c",
    "deepnote_to_be_reexecuted": false,
    "source_hash": "35f38e7b",
    "execution_start": 1627568760517,
    "execution_millis": 1,
    "deepnote_cell_type": "code"
   },
   "source": "# Iniciamos haciendo una copia de nuestro df original\ndf_to_clean = df.copy(deep= True)",
   "execution_count": null,
   "outputs": []
  },
  {
   "cell_type": "code",
   "metadata": {
    "tags": [],
    "cell_id": "00011-d4801c7f-3a5e-45e4-8ad7-62d353b44376",
    "deepnote_to_be_reexecuted": false,
    "source_hash": "fed68269",
    "execution_start": 1627568764364,
    "execution_millis": 192,
    "deepnote_cell_type": "code"
   },
   "source": "# Vamos a ver los datos null de la altura si estos tienen que ver con los faltantes de las demas \n# variables \ndf[df['altitude_mean_meters'].isna()].describe(include = 'all')",
   "execution_count": null,
   "outputs": [
    {
     "output_type": "execute_result",
     "execution_count": 32,
     "data": {
      "application/vnd.deepnote.dataframe.v2+json": {
       "row_count": 11,
       "column_count": 28,
       "columns": [
        {
         "name": "Owner",
         "dtype": "object",
         "stats": {
          "unique_count": 3,
          "nan_count": 7,
          "categories": [
           {
            "name": "52",
            "count": 2
           },
           {
            "name": "2 others",
            "count": 2
           },
           {
            "name": "Missing",
            "count": 7
           }
          ]
         }
        },
        {
         "name": "Species",
         "dtype": "object",
         "stats": {
          "unique_count": 4,
          "nan_count": 7,
          "categories": [
           {
            "name": "230",
            "count": 1
           },
           {
            "name": "3 others",
            "count": 3
           },
           {
            "name": "Missing",
            "count": 7
           }
          ]
         }
        },
        {
         "name": "Country.of.Origin",
         "dtype": "object",
         "stats": {
          "unique_count": 4,
          "nan_count": 7,
          "categories": [
           {
            "name": "229",
            "count": 1
           },
           {
            "name": "3 others",
            "count": 3
           },
           {
            "name": "Missing",
            "count": 7
           }
          ]
         }
        },
        {
         "name": "Region",
         "dtype": "object",
         "stats": {
          "unique_count": 4,
          "nan_count": 7,
          "categories": [
           {
            "name": "175",
            "count": 1
           },
           {
            "name": "3 others",
            "count": 3
           },
           {
            "name": "Missing",
            "count": 7
           }
          ]
         }
        },
        {
         "name": "Number.of.Bags",
         "dtype": "float64",
         "stats": {
          "unique_count": 8,
          "nan_count": 3,
          "min": "1.0",
          "max": "440.0",
          "histogram": [
           {
            "bin_start": 1,
            "bin_end": 44.9,
            "count": 2
           },
           {
            "bin_start": 44.9,
            "bin_end": 88.8,
            "count": 1
           },
           {
            "bin_start": 88.8,
            "bin_end": 132.7,
            "count": 1
           },
           {
            "bin_start": 132.7,
            "bin_end": 176.6,
            "count": 1
           },
           {
            "bin_start": 176.6,
            "bin_end": 220.5,
            "count": 0
           },
           {
            "bin_start": 220.5,
            "bin_end": 264.4,
            "count": 1
           },
           {
            "bin_start": 264.4,
            "bin_end": 308.3,
            "count": 1
           },
           {
            "bin_start": 308.3,
            "bin_end": 352.2,
            "count": 0
           },
           {
            "bin_start": 352.2,
            "bin_end": 396.09999999999997,
            "count": 0
           },
           {
            "bin_start": 396.09999999999997,
            "bin_end": 440,
            "count": 1
           }
          ]
         }
        },
        {
         "name": "Bag.Weight",
         "dtype": "object",
         "stats": {
          "unique_count": 4,
          "nan_count": 7,
          "categories": [
           {
            "name": "230",
            "count": 1
           },
           {
            "name": "3 others",
            "count": 3
           },
           {
            "name": "Missing",
            "count": 7
           }
          ]
         }
        },
        {
         "name": "Variety",
         "dtype": "object",
         "stats": {
          "unique_count": 4,
          "nan_count": 7,
          "categories": [
           {
            "name": "116",
            "count": 1
           },
           {
            "name": "3 others",
            "count": 3
           },
           {
            "name": "Missing",
            "count": 7
           }
          ]
         }
        },
        {
         "name": "Processing.Method",
         "dtype": "object",
         "stats": {
          "unique_count": 4,
          "nan_count": 7,
          "categories": [
           {
            "name": "156",
            "count": 1
           },
           {
            "name": "3 others",
            "count": 3
           },
           {
            "name": "Missing",
            "count": 7
           }
          ]
         }
        },
        {
         "name": "Aroma",
         "dtype": "float64",
         "stats": {
          "unique_count": 8,
          "nan_count": 3,
          "min": "0.3468021066230056",
          "max": "230.0",
          "histogram": [
           {
            "bin_start": 0.3468021066230056,
            "bin_end": 23.312121895960704,
            "count": 7
           },
           {
            "bin_start": 23.312121895960704,
            "bin_end": 46.2774416852984,
            "count": 0
           },
           {
            "bin_start": 46.2774416852984,
            "bin_end": 69.2427614746361,
            "count": 0
           },
           {
            "bin_start": 69.2427614746361,
            "bin_end": 92.2080812639738,
            "count": 0
           },
           {
            "bin_start": 92.2080812639738,
            "bin_end": 115.1734010533115,
            "count": 0
           },
           {
            "bin_start": 115.1734010533115,
            "bin_end": 138.1387208426492,
            "count": 0
           },
           {
            "bin_start": 138.1387208426492,
            "bin_end": 161.10404063198692,
            "count": 0
           },
           {
            "bin_start": 161.10404063198692,
            "bin_end": 184.0693604213246,
            "count": 0
           },
           {
            "bin_start": 184.0693604213246,
            "bin_end": 207.0346802106623,
            "count": 0
           },
           {
            "bin_start": 207.0346802106623,
            "bin_end": 230,
            "count": 1
           }
          ]
         }
        },
        {
         "name": "Flavor",
         "dtype": "float64",
         "stats": {
          "unique_count": 8,
          "nan_count": 3,
          "min": "0.38954920810157123",
          "max": "230.0",
          "histogram": [
           {
            "bin_start": 0.38954920810157123,
            "bin_end": 23.35059428729141,
            "count": 7
           },
           {
            "bin_start": 23.35059428729141,
            "bin_end": 46.31163936648125,
            "count": 0
           },
           {
            "bin_start": 46.31163936648125,
            "bin_end": 69.27268444567109,
            "count": 0
           },
           {
            "bin_start": 69.27268444567109,
            "bin_end": 92.23372952486093,
            "count": 0
           },
           {
            "bin_start": 92.23372952486093,
            "bin_end": 115.19477460405078,
            "count": 0
           },
           {
            "bin_start": 115.19477460405078,
            "bin_end": 138.15581968324062,
            "count": 0
           },
           {
            "bin_start": 138.15581968324062,
            "bin_end": 161.11686476243048,
            "count": 0
           },
           {
            "bin_start": 161.11686476243048,
            "bin_end": 184.0779098416203,
            "count": 0
           },
           {
            "bin_start": 184.0779098416203,
            "bin_end": 207.03895492081014,
            "count": 0
           },
           {
            "bin_start": 207.03895492081014,
            "bin_end": 230,
            "count": 1
           }
          ]
         }
        },
        {
         "name": "Aftertaste",
         "dtype": "float64",
         "stats": {
          "unique_count": 8,
          "nan_count": 3,
          "min": "0.3976511060294535",
          "max": "230.0",
          "histogram": [
           {
            "bin_start": 0.3976511060294535,
            "bin_end": 23.357885995426507,
            "count": 7
           },
           {
            "bin_start": 23.357885995426507,
            "bin_end": 46.318120884823564,
            "count": 0
           },
           {
            "bin_start": 46.318120884823564,
            "bin_end": 69.27835577422061,
            "count": 0
           },
           {
            "bin_start": 69.27835577422061,
            "bin_end": 92.23859066361767,
            "count": 0
           },
           {
            "bin_start": 92.23859066361767,
            "bin_end": 115.19882555301473,
            "count": 0
           },
           {
            "bin_start": 115.19882555301473,
            "bin_end": 138.15906044241177,
            "count": 0
           },
           {
            "bin_start": 138.15906044241177,
            "bin_end": 161.11929533180884,
            "count": 0
           },
           {
            "bin_start": 161.11929533180884,
            "bin_end": 184.07953022120589,
            "count": 0
           },
           {
            "bin_start": 184.07953022120589,
            "bin_end": 207.03976511060293,
            "count": 0
           },
           {
            "bin_start": 207.03976511060293,
            "bin_end": 230,
            "count": 1
           }
          ]
         }
        },
        {
         "name": "Acidity",
         "dtype": "float64",
         "stats": {
          "unique_count": 8,
          "nan_count": 3,
          "min": "0.34780992083183715",
          "max": "230.0",
          "histogram": [
           {
            "bin_start": 0.34780992083183715,
            "bin_end": 23.31302892874865,
            "count": 7
           },
           {
            "bin_start": 23.31302892874865,
            "bin_end": 46.278247936665466,
            "count": 0
           },
           {
            "bin_start": 46.278247936665466,
            "bin_end": 69.24346694458228,
            "count": 0
           },
           {
            "bin_start": 69.24346694458228,
            "bin_end": 92.2086859524991,
            "count": 0
           },
           {
            "bin_start": 92.2086859524991,
            "bin_end": 115.17390496041591,
            "count": 0
           },
           {
            "bin_start": 115.17390496041591,
            "bin_end": 138.13912396833274,
            "count": 0
           },
           {
            "bin_start": 138.13912396833274,
            "bin_end": 161.10434297624957,
            "count": 0
           },
           {
            "bin_start": 161.10434297624957,
            "bin_end": 184.06956198416637,
            "count": 0
           },
           {
            "bin_start": 184.06956198416637,
            "bin_end": 207.03478099208317,
            "count": 0
           },
           {
            "bin_start": 207.03478099208317,
            "bin_end": 230,
            "count": 1
           }
          ]
         }
        },
        {
         "name": "Body",
         "dtype": "float64",
         "stats": {
          "unique_count": 8,
          "nan_count": 3,
          "min": "0.383111341989162",
          "max": "230.0",
          "histogram": [
           {
            "bin_start": 0.383111341989162,
            "bin_end": 23.34480020779025,
            "count": 7
           },
           {
            "bin_start": 23.34480020779025,
            "bin_end": 46.30648907359134,
            "count": 0
           },
           {
            "bin_start": 46.30648907359134,
            "bin_end": 69.26817793939243,
            "count": 0
           },
           {
            "bin_start": 69.26817793939243,
            "bin_end": 92.22986680519351,
            "count": 0
           },
           {
            "bin_start": 92.22986680519351,
            "bin_end": 115.19155567099459,
            "count": 0
           },
           {
            "bin_start": 115.19155567099459,
            "bin_end": 138.15324453679568,
            "count": 0
           },
           {
            "bin_start": 138.15324453679568,
            "bin_end": 161.11493340259676,
            "count": 0
           },
           {
            "bin_start": 161.11493340259676,
            "bin_end": 184.07662226839784,
            "count": 0
           },
           {
            "bin_start": 184.07662226839784,
            "bin_end": 207.03831113419892,
            "count": 0
           },
           {
            "bin_start": 207.03831113419892,
            "bin_end": 230,
            "count": 1
           }
          ]
         }
        },
        {
         "name": "Balance",
         "dtype": "float64",
         "stats": {
          "unique_count": 8,
          "nan_count": 3,
          "min": "0.3502771719781885",
          "max": "230.0",
          "histogram": [
           {
            "bin_start": 0.3502771719781885,
            "bin_end": 23.31524945478037,
            "count": 7
           },
           {
            "bin_start": 23.31524945478037,
            "bin_end": 46.28022173758256,
            "count": 0
           },
           {
            "bin_start": 46.28022173758256,
            "bin_end": 69.24519402038474,
            "count": 0
           },
           {
            "bin_start": 69.24519402038474,
            "bin_end": 92.21016630318692,
            "count": 0
           },
           {
            "bin_start": 92.21016630318692,
            "bin_end": 115.1751385859891,
            "count": 0
           },
           {
            "bin_start": 115.1751385859891,
            "bin_end": 138.14011086879128,
            "count": 0
           },
           {
            "bin_start": 138.14011086879128,
            "bin_end": 161.10508315159345,
            "count": 0
           },
           {
            "bin_start": 161.10508315159345,
            "bin_end": 184.07005543439564,
            "count": 0
           },
           {
            "bin_start": 184.07005543439564,
            "bin_end": 207.03502771719783,
            "count": 0
           },
           {
            "bin_start": 207.03502771719783,
            "bin_end": 230,
            "count": 1
           }
          ]
         }
        },
        {
         "name": "Uniformity",
         "dtype": "float64",
         "stats": {
          "unique_count": 6,
          "nan_count": 3,
          "min": "0.6726886973474554",
          "max": "230.0",
          "histogram": [
           {
            "bin_start": 0.6726886973474554,
            "bin_end": 23.60541982761271,
            "count": 7
           },
           {
            "bin_start": 23.60541982761271,
            "bin_end": 46.53815095787796,
            "count": 0
           },
           {
            "bin_start": 46.53815095787796,
            "bin_end": 69.47088208814321,
            "count": 0
           },
           {
            "bin_start": 69.47088208814321,
            "bin_end": 92.40361321840847,
            "count": 0
           },
           {
            "bin_start": 92.40361321840847,
            "bin_end": 115.33634434867372,
            "count": 0
           },
           {
            "bin_start": 115.33634434867372,
            "bin_end": 138.269075478939,
            "count": 0
           },
           {
            "bin_start": 138.269075478939,
            "bin_end": 161.20180660920423,
            "count": 0
           },
           {
            "bin_start": 161.20180660920423,
            "bin_end": 184.1345377394695,
            "count": 0
           },
           {
            "bin_start": 184.1345377394695,
            "bin_end": 207.06726886973476,
            "count": 0
           },
           {
            "bin_start": 207.06726886973476,
            "bin_end": 230,
            "count": 1
           }
          ]
         }
        },
        {
         "name": "Clean.Cup",
         "dtype": "float64",
         "stats": {
          "unique_count": 5,
          "nan_count": 3,
          "min": "0.6609504364171628",
          "max": "230.0",
          "histogram": [
           {
            "bin_start": 0.6609504364171628,
            "bin_end": 23.594855392775447,
            "count": 7
           },
           {
            "bin_start": 23.594855392775447,
            "bin_end": 46.52876034913373,
            "count": 0
           },
           {
            "bin_start": 46.52876034913373,
            "bin_end": 69.46266530549202,
            "count": 0
           },
           {
            "bin_start": 69.46266530549202,
            "bin_end": 92.3965702618503,
            "count": 0
           },
           {
            "bin_start": 92.3965702618503,
            "bin_end": 115.33047521820858,
            "count": 0
           },
           {
            "bin_start": 115.33047521820858,
            "bin_end": 138.26438017456687,
            "count": 0
           },
           {
            "bin_start": 138.26438017456687,
            "bin_end": 161.19828513092514,
            "count": 0
           },
           {
            "bin_start": 161.19828513092514,
            "bin_end": 184.13219008728342,
            "count": 0
           },
           {
            "bin_start": 184.13219008728342,
            "bin_end": 207.0660950436417,
            "count": 0
           },
           {
            "bin_start": 207.0660950436417,
            "bin_end": 230,
            "count": 1
           }
          ]
         }
        },
        {
         "name": "Sweetness",
         "dtype": "float64",
         "stats": {
          "unique_count": 5,
          "nan_count": 3,
          "min": "0.679777373400665",
          "max": "230.0",
          "histogram": [
           {
            "bin_start": 0.679777373400665,
            "bin_end": 23.6117996360606,
            "count": 7
           },
           {
            "bin_start": 23.6117996360606,
            "bin_end": 46.54382189872054,
            "count": 0
           },
           {
            "bin_start": 46.54382189872054,
            "bin_end": 69.47584416138048,
            "count": 0
           },
           {
            "bin_start": 69.47584416138048,
            "bin_end": 92.4078664240404,
            "count": 0
           },
           {
            "bin_start": 92.4078664240404,
            "bin_end": 115.33988868670033,
            "count": 0
           },
           {
            "bin_start": 115.33988868670033,
            "bin_end": 138.2719109493603,
            "count": 0
           },
           {
            "bin_start": 138.2719109493603,
            "bin_end": 161.20393321202022,
            "count": 0
           },
           {
            "bin_start": 161.20393321202022,
            "bin_end": 184.13595547468015,
            "count": 0
           },
           {
            "bin_start": 184.13595547468015,
            "bin_end": 207.06797773734007,
            "count": 0
           },
           {
            "bin_start": 207.06797773734007,
            "bin_end": 230,
            "count": 1
           }
          ]
         }
        },
        {
         "name": "Cupper.Points",
         "dtype": "float64",
         "stats": {
          "unique_count": 8,
          "nan_count": 3,
          "min": "0.48439882862742534",
          "max": "230.0",
          "histogram": [
           {
            "bin_start": 0.48439882862742534,
            "bin_end": 23.435958945764682,
            "count": 7
           },
           {
            "bin_start": 23.435958945764682,
            "bin_end": 46.38751906290194,
            "count": 0
           },
           {
            "bin_start": 46.38751906290194,
            "bin_end": 69.33907918003918,
            "count": 0
           },
           {
            "bin_start": 69.33907918003918,
            "bin_end": 92.29063929717644,
            "count": 0
           },
           {
            "bin_start": 92.29063929717644,
            "bin_end": 115.2421994143137,
            "count": 0
           },
           {
            "bin_start": 115.2421994143137,
            "bin_end": 138.19375953145095,
            "count": 0
           },
           {
            "bin_start": 138.19375953145095,
            "bin_end": 161.1453196485882,
            "count": 0
           },
           {
            "bin_start": 161.1453196485882,
            "bin_end": 184.09687976572548,
            "count": 0
           },
           {
            "bin_start": 184.09687976572548,
            "bin_end": 207.04843988286274,
            "count": 0
           },
           {
            "bin_start": 207.04843988286274,
            "bin_end": 230,
            "count": 1
           }
          ]
         }
        },
        {
         "name": "Total.Cup.Points",
         "dtype": "float64",
         "stats": {
          "unique_count": 8,
          "nan_count": 3,
          "min": "2.9658265578191054",
          "max": "230.0",
          "histogram": [
           {
            "bin_start": 2.9658265578191054,
            "bin_end": 25.669243902037195,
            "count": 1
           },
           {
            "bin_start": 25.669243902037195,
            "bin_end": 48.372661246255284,
            "count": 0
           },
           {
            "bin_start": 48.372661246255284,
            "bin_end": 71.07607859047337,
            "count": 1
           },
           {
            "bin_start": 71.07607859047337,
            "bin_end": 93.77949593469145,
            "count": 5
           },
           {
            "bin_start": 93.77949593469145,
            "bin_end": 116.48291327890954,
            "count": 0
           },
           {
            "bin_start": 116.48291327890954,
            "bin_end": 139.18633062312765,
            "count": 0
           },
           {
            "bin_start": 139.18633062312765,
            "bin_end": 161.88974796734573,
            "count": 0
           },
           {
            "bin_start": 161.88974796734573,
            "bin_end": 184.5931653115638,
            "count": 0
           },
           {
            "bin_start": 184.5931653115638,
            "bin_end": 207.2965826557819,
            "count": 0
           },
           {
            "bin_start": 207.2965826557819,
            "bin_end": 230,
            "count": 1
           }
          ]
         }
        },
        {
         "name": "Moisture",
         "dtype": "float64",
         "stats": {
          "unique_count": 7,
          "nan_count": 3,
          "min": "0.0",
          "max": "230.0",
          "histogram": [
           {
            "bin_start": 0,
            "bin_end": 23,
            "count": 7
           },
           {
            "bin_start": 23,
            "bin_end": 46,
            "count": 0
           },
           {
            "bin_start": 46,
            "bin_end": 69,
            "count": 0
           },
           {
            "bin_start": 69,
            "bin_end": 92,
            "count": 0
           },
           {
            "bin_start": 92,
            "bin_end": 115,
            "count": 0
           },
           {
            "bin_start": 115,
            "bin_end": 138,
            "count": 0
           },
           {
            "bin_start": 138,
            "bin_end": 161,
            "count": 0
           },
           {
            "bin_start": 161,
            "bin_end": 184,
            "count": 0
           },
           {
            "bin_start": 184,
            "bin_end": 207,
            "count": 0
           },
           {
            "bin_start": 207,
            "bin_end": 230,
            "count": 1
           }
          ]
         }
        },
        {
         "name": "Category.One.Defects",
         "dtype": "float64",
         "stats": {
          "unique_count": 6,
          "nan_count": 3,
          "min": "0.0",
          "max": "230.0",
          "histogram": [
           {
            "bin_start": 0,
            "bin_end": 23,
            "count": 6
           },
           {
            "bin_start": 23,
            "bin_end": 46,
            "count": 0
           },
           {
            "bin_start": 46,
            "bin_end": 69,
            "count": 1
           },
           {
            "bin_start": 69,
            "bin_end": 92,
            "count": 0
           },
           {
            "bin_start": 92,
            "bin_end": 115,
            "count": 0
           },
           {
            "bin_start": 115,
            "bin_end": 138,
            "count": 0
           },
           {
            "bin_start": 138,
            "bin_end": 161,
            "count": 0
           },
           {
            "bin_start": 161,
            "bin_end": 184,
            "count": 0
           },
           {
            "bin_start": 184,
            "bin_end": 207,
            "count": 0
           },
           {
            "bin_start": 207,
            "bin_end": 230,
            "count": 1
           }
          ]
         }
        },
        {
         "name": "Quakers",
         "dtype": "float64",
         "stats": {
          "unique_count": 5,
          "nan_count": 3,
          "min": "0.0",
          "max": "230.0",
          "histogram": [
           {
            "bin_start": 0,
            "bin_end": 23,
            "count": 7
           },
           {
            "bin_start": 23,
            "bin_end": 46,
            "count": 0
           },
           {
            "bin_start": 46,
            "bin_end": 69,
            "count": 0
           },
           {
            "bin_start": 69,
            "bin_end": 92,
            "count": 0
           },
           {
            "bin_start": 92,
            "bin_end": 115,
            "count": 0
           },
           {
            "bin_start": 115,
            "bin_end": 138,
            "count": 0
           },
           {
            "bin_start": 138,
            "bin_end": 161,
            "count": 0
           },
           {
            "bin_start": 161,
            "bin_end": 184,
            "count": 0
           },
           {
            "bin_start": 184,
            "bin_end": 207,
            "count": 0
           },
           {
            "bin_start": 207,
            "bin_end": 230,
            "count": 1
           }
          ]
         }
        },
        {
         "name": "Color",
         "dtype": "object",
         "stats": {
          "unique_count": 4,
          "nan_count": 7,
          "categories": [
           {
            "name": "153",
            "count": 1
           },
           {
            "name": "3 others",
            "count": 3
           },
           {
            "name": "Missing",
            "count": 7
           }
          ]
         }
        },
        {
         "name": "Category.Two.Defects",
         "dtype": "float64",
         "stats": {
          "unique_count": 7,
          "nan_count": 3,
          "min": "0.0",
          "max": "230.0",
          "histogram": [
           {
            "bin_start": 0,
            "bin_end": 23,
            "count": 6
           },
           {
            "bin_start": 23,
            "bin_end": 46,
            "count": 0
           },
           {
            "bin_start": 46,
            "bin_end": 69,
            "count": 1
           },
           {
            "bin_start": 69,
            "bin_end": 92,
            "count": 0
           },
           {
            "bin_start": 92,
            "bin_end": 115,
            "count": 0
           },
           {
            "bin_start": 115,
            "bin_end": 138,
            "count": 0
           },
           {
            "bin_start": 138,
            "bin_end": 161,
            "count": 0
           },
           {
            "bin_start": 161,
            "bin_end": 184,
            "count": 0
           },
           {
            "bin_start": 184,
            "bin_end": 207,
            "count": 0
           },
           {
            "bin_start": 207,
            "bin_end": 230,
            "count": 1
           }
          ]
         }
        },
        {
         "name": "unit_of_measurement",
         "dtype": "object",
         "stats": {
          "unique_count": 4,
          "nan_count": 7,
          "categories": [
           {
            "name": "230",
            "count": 1
           },
           {
            "name": "3 others",
            "count": 3
           },
           {
            "name": "Missing",
            "count": 7
           }
          ]
         }
        },
        {
         "name": "altitude_low_meters",
         "dtype": "float64",
         "stats": {
          "unique_count": 1,
          "nan_count": 10,
          "min": "0.0",
          "max": "0.0",
          "histogram": [
           {
            "bin_start": -0.5,
            "bin_end": -0.4,
            "count": 0
           },
           {
            "bin_start": -0.4,
            "bin_end": -0.3,
            "count": 0
           },
           {
            "bin_start": -0.3,
            "bin_end": -0.19999999999999996,
            "count": 0
           },
           {
            "bin_start": -0.19999999999999996,
            "bin_end": -0.09999999999999998,
            "count": 0
           },
           {
            "bin_start": -0.09999999999999998,
            "bin_end": 0,
            "count": 0
           },
           {
            "bin_start": 0,
            "bin_end": 0.10000000000000009,
            "count": 1
           },
           {
            "bin_start": 0.10000000000000009,
            "bin_end": 0.20000000000000007,
            "count": 0
           },
           {
            "bin_start": 0.20000000000000007,
            "bin_end": 0.30000000000000004,
            "count": 0
           },
           {
            "bin_start": 0.30000000000000004,
            "bin_end": 0.4,
            "count": 0
           },
           {
            "bin_start": 0.4,
            "bin_end": 0.5,
            "count": 0
           }
          ]
         }
        },
        {
         "name": "altitude_high_meters",
         "dtype": "float64",
         "stats": {
          "unique_count": 1,
          "nan_count": 10,
          "min": "0.0",
          "max": "0.0",
          "histogram": [
           {
            "bin_start": -0.5,
            "bin_end": -0.4,
            "count": 0
           },
           {
            "bin_start": -0.4,
            "bin_end": -0.3,
            "count": 0
           },
           {
            "bin_start": -0.3,
            "bin_end": -0.19999999999999996,
            "count": 0
           },
           {
            "bin_start": -0.19999999999999996,
            "bin_end": -0.09999999999999998,
            "count": 0
           },
           {
            "bin_start": -0.09999999999999998,
            "bin_end": 0,
            "count": 0
           },
           {
            "bin_start": 0,
            "bin_end": 0.10000000000000009,
            "count": 1
           },
           {
            "bin_start": 0.10000000000000009,
            "bin_end": 0.20000000000000007,
            "count": 0
           },
           {
            "bin_start": 0.20000000000000007,
            "bin_end": 0.30000000000000004,
            "count": 0
           },
           {
            "bin_start": 0.30000000000000004,
            "bin_end": 0.4,
            "count": 0
           },
           {
            "bin_start": 0.4,
            "bin_end": 0.5,
            "count": 0
           }
          ]
         }
        },
        {
         "name": "altitude_mean_meters",
         "dtype": "float64",
         "stats": {
          "unique_count": 1,
          "nan_count": 10,
          "min": "0.0",
          "max": "0.0",
          "histogram": [
           {
            "bin_start": -0.5,
            "bin_end": -0.4,
            "count": 0
           },
           {
            "bin_start": -0.4,
            "bin_end": -0.3,
            "count": 0
           },
           {
            "bin_start": -0.3,
            "bin_end": -0.19999999999999996,
            "count": 0
           },
           {
            "bin_start": -0.19999999999999996,
            "bin_end": -0.09999999999999998,
            "count": 0
           },
           {
            "bin_start": -0.09999999999999998,
            "bin_end": 0,
            "count": 0
           },
           {
            "bin_start": 0,
            "bin_end": 0.10000000000000009,
            "count": 1
           },
           {
            "bin_start": 0.10000000000000009,
            "bin_end": 0.20000000000000007,
            "count": 0
           },
           {
            "bin_start": 0.20000000000000007,
            "bin_end": 0.30000000000000004,
            "count": 0
           },
           {
            "bin_start": 0.30000000000000004,
            "bin_end": 0.4,
            "count": 0
           },
           {
            "bin_start": 0.4,
            "bin_end": 0.5,
            "count": 0
           }
          ]
         }
        },
        {
         "name": "_deepnote_index_column",
         "dtype": "object"
        }
       ],
       "rows_top": [
        {
         "Owner": "230",
         "Species": "230",
         "Country.of.Origin": "229",
         "Region": "175",
         "Number.of.Bags": 230,
         "Bag.Weight": "230",
         "Variety": "116",
         "Processing.Method": "156",
         "Aroma": 230,
         "Flavor": 230,
         "Aftertaste": 230,
         "Acidity": 230,
         "Body": 230,
         "Balance": 230,
         "Uniformity": 230,
         "Clean.Cup": 230,
         "Sweetness": 230,
         "Cupper.Points": 230,
         "Total.Cup.Points": 230,
         "Moisture": 230,
         "Category.One.Defects": 230,
         "Quakers": 230,
         "Color": "153",
         "Category.Two.Defects": 230,
         "unit_of_measurement": "230",
         "altitude_low_meters": 0,
         "altitude_high_meters": 0,
         "altitude_mean_meters": 0,
         "_deepnote_index_column": "count"
        },
        {
         "Owner": "52",
         "Species": "2",
         "Country.of.Origin": "20",
         "Region": "51",
         "Number.of.Bags": "nan",
         "Bag.Weight": "27",
         "Variety": "14",
         "Processing.Method": "5",
         "Aroma": "nan",
         "Flavor": "nan",
         "Aftertaste": "nan",
         "Acidity": "nan",
         "Body": "nan",
         "Balance": "nan",
         "Uniformity": "nan",
         "Clean.Cup": "nan",
         "Sweetness": "nan",
         "Cupper.Points": "nan",
         "Total.Cup.Points": "nan",
         "Moisture": "nan",
         "Category.One.Defects": "nan",
         "Quakers": "nan",
         "Color": "4",
         "Category.Two.Defects": "nan",
         "unit_of_measurement": "2",
         "altitude_low_meters": "nan",
         "altitude_high_meters": "nan",
         "altitude_mean_meters": "nan",
         "_deepnote_index_column": "unique"
        },
        {
         "Owner": "kona pacific farmers cooperative",
         "Species": "Arabica",
         "Country.of.Origin": "United States (Hawaii)",
         "Region": "kona",
         "Number.of.Bags": "nan",
         "Bag.Weight": "100 lbs",
         "Variety": "Hawaiian Kona",
         "Processing.Method": "Natural / Dry",
         "Aroma": "nan",
         "Flavor": "nan",
         "Aftertaste": "nan",
         "Acidity": "nan",
         "Body": "nan",
         "Balance": "nan",
         "Uniformity": "nan",
         "Clean.Cup": "nan",
         "Sweetness": "nan",
         "Cupper.Points": "nan",
         "Total.Cup.Points": "nan",
         "Moisture": "nan",
         "Category.One.Defects": "nan",
         "Quakers": "nan",
         "Color": "Green",
         "Category.Two.Defects": "nan",
         "unit_of_measurement": "m",
         "altitude_low_meters": "nan",
         "altitude_high_meters": "nan",
         "altitude_mean_meters": "nan",
         "_deepnote_index_column": "top"
        },
        {
         "Owner": "52",
         "Species": "227",
         "Country.of.Origin": "71",
         "Region": "64",
         "Number.of.Bags": "nan",
         "Bag.Weight": "59",
         "Variety": "44",
         "Processing.Method": "74",
         "Aroma": "nan",
         "Flavor": "nan",
         "Aftertaste": "nan",
         "Acidity": "nan",
         "Body": "nan",
         "Balance": "nan",
         "Uniformity": "nan",
         "Clean.Cup": "nan",
         "Sweetness": "nan",
         "Cupper.Points": "nan",
         "Total.Cup.Points": "nan",
         "Moisture": "nan",
         "Category.One.Defects": "nan",
         "Quakers": "nan",
         "Color": "100",
         "Category.Two.Defects": "nan",
         "unit_of_measurement": "159",
         "altitude_low_meters": "nan",
         "altitude_high_meters": "nan",
         "altitude_mean_meters": "nan",
         "_deepnote_index_column": "freq"
        },
        {
         "Owner": "nan",
         "Species": "nan",
         "Country.of.Origin": "nan",
         "Region": "nan",
         "Number.of.Bags": 131.51739130434783,
         "Bag.Weight": "nan",
         "Variety": "nan",
         "Processing.Method": "nan",
         "Aroma": 7.548043478260869,
         "Flavor": 7.519130434782609,
         "Aftertaste": 7.433130434782608,
         "Acidity": 7.567304347826087,
         "Body": 7.5693913043478265,
         "Balance": 7.57708695652174,
         "Uniformity": 9.675782608695652,
         "Clean.Cup": 9.756391304347828,
         "Sweetness": 9.774434782608695,
         "Cupper.Points": 7.573043478260868,
         "Total.Cup.Points": 81.99465217391307,
         "Moisture": 0.07069565217391303,
         "Category.One.Defects": 1.0217391304347827,
         "Quakers": 0.3391304347826087,
         "Color": "nan",
         "Category.Two.Defects": 3.6565217391304348,
         "unit_of_measurement": "nan",
         "altitude_low_meters": "nan",
         "altitude_high_meters": "nan",
         "altitude_mean_meters": "nan",
         "_deepnote_index_column": "mean"
        },
        {
         "Owner": "nan",
         "Species": "nan",
         "Country.of.Origin": "nan",
         "Region": "nan",
         "Number.of.Bags": 133.1217624070263,
         "Bag.Weight": "nan",
         "Variety": "nan",
         "Processing.Method": "nan",
         "Aroma": 0.3468021066230056,
         "Flavor": 0.38954920810157123,
         "Aftertaste": 0.3976511060294535,
         "Acidity": 0.34780992083183715,
         "Body": 0.383111341989162,
         "Balance": 0.3502771719781885,
         "Uniformity": 0.6726886973474554,
         "Clean.Cup": 0.6609504364171628,
         "Sweetness": 0.679777373400665,
         "Cupper.Points": 0.48439882862742534,
         "Total.Cup.Points": 2.9658265578191054,
         "Moisture": 0.05684917207218884,
         "Category.One.Defects": 4.592994144944307,
         "Quakers": 1.214087300888552,
         "Color": "nan",
         "Category.Two.Defects": 5.521638742175068,
         "unit_of_measurement": "nan",
         "altitude_low_meters": "nan",
         "altitude_high_meters": "nan",
         "altitude_mean_meters": "nan",
         "_deepnote_index_column": "std"
        },
        {
         "Owner": "nan",
         "Species": "nan",
         "Country.of.Origin": "nan",
         "Region": "nan",
         "Number.of.Bags": 1,
         "Bag.Weight": "nan",
         "Variety": "nan",
         "Processing.Method": "nan",
         "Aroma": 6.17,
         "Flavor": 6.08,
         "Aftertaste": 6.17,
         "Acidity": 6.67,
         "Body": 5.08,
         "Balance": 6.42,
         "Uniformity": 6,
         "Clean.Cup": 6,
         "Sweetness": 6,
         "Cupper.Points": 6.17,
         "Total.Cup.Points": 70.67,
         "Moisture": 0,
         "Category.One.Defects": 0,
         "Quakers": 0,
         "Color": "nan",
         "Category.Two.Defects": 0,
         "unit_of_measurement": "nan",
         "altitude_low_meters": "nan",
         "altitude_high_meters": "nan",
         "altitude_mean_meters": "nan",
         "_deepnote_index_column": "min"
        },
        {
         "Owner": "nan",
         "Species": "nan",
         "Country.of.Origin": "nan",
         "Region": "nan",
         "Number.of.Bags": 6,
         "Bag.Weight": "nan",
         "Variety": "nan",
         "Processing.Method": "nan",
         "Aroma": 7.33,
         "Flavor": 7.33,
         "Aftertaste": 7.25,
         "Acidity": 7.33,
         "Body": 7.42,
         "Balance": 7.42,
         "Uniformity": 9.33,
         "Clean.Cup": 10,
         "Sweetness": 10,
         "Cupper.Points": 7.33,
         "Total.Cup.Points": 80.67,
         "Moisture": 0,
         "Category.One.Defects": 0,
         "Quakers": 0,
         "Color": "nan",
         "Category.Two.Defects": 0,
         "unit_of_measurement": "nan",
         "altitude_low_meters": "nan",
         "altitude_high_meters": "nan",
         "altitude_mean_meters": "nan",
         "_deepnote_index_column": "25%"
        },
        {
         "Owner": "nan",
         "Species": "nan",
         "Country.of.Origin": "nan",
         "Region": "nan",
         "Number.of.Bags": 50,
         "Bag.Weight": "nan",
         "Variety": "nan",
         "Processing.Method": "nan",
         "Aroma": 7.58,
         "Flavor": 7.58,
         "Aftertaste": 7.5,
         "Acidity": 7.58,
         "Body": 7.58,
         "Balance": 7.58,
         "Uniformity": 10,
         "Clean.Cup": 10,
         "Sweetness": 10,
         "Cupper.Points": 7.58,
         "Total.Cup.Points": 82.58,
         "Moisture": 0.1,
         "Category.One.Defects": 0,
         "Quakers": 0,
         "Color": "nan",
         "Category.Two.Defects": 2,
         "unit_of_measurement": "nan",
         "altitude_low_meters": "nan",
         "altitude_high_meters": "nan",
         "altitude_mean_meters": "nan",
         "_deepnote_index_column": "50%"
        },
        {
         "Owner": "nan",
         "Species": "nan",
         "Country.of.Origin": "nan",
         "Region": "nan",
         "Number.of.Bags": 275,
         "Bag.Weight": "nan",
         "Variety": "nan",
         "Processing.Method": "nan",
         "Aroma": 7.81,
         "Flavor": 7.75,
         "Aftertaste": 7.67,
         "Acidity": 7.83,
         "Body": 7.83,
         "Balance": 7.83,
         "Uniformity": 10,
         "Clean.Cup": 10,
         "Sweetness": 10,
         "Cupper.Points": 7.83,
         "Total.Cup.Points": 83.83,
         "Moisture": 0.11,
         "Category.One.Defects": 1,
         "Quakers": 0,
         "Color": "nan",
         "Category.Two.Defects": 5,
         "unit_of_measurement": "nan",
         "altitude_low_meters": "nan",
         "altitude_high_meters": "nan",
         "altitude_mean_meters": "nan",
         "_deepnote_index_column": "75%"
        },
        {
         "Owner": "nan",
         "Species": "nan",
         "Country.of.Origin": "nan",
         "Region": "nan",
         "Number.of.Bags": 440,
         "Bag.Weight": "nan",
         "Variety": "nan",
         "Processing.Method": "nan",
         "Aroma": 8.58,
         "Flavor": 8.5,
         "Aftertaste": 8.42,
         "Acidity": 8.5,
         "Body": 8.42,
         "Balance": 8.5,
         "Uniformity": 10,
         "Clean.Cup": 10,
         "Sweetness": 10,
         "Cupper.Points": 10,
         "Total.Cup.Points": 88.83,
         "Moisture": 0.28,
         "Category.One.Defects": 63,
         "Quakers": 9,
         "Color": "nan",
         "Category.Two.Defects": 55,
         "unit_of_measurement": "nan",
         "altitude_low_meters": "nan",
         "altitude_high_meters": "nan",
         "altitude_mean_meters": "nan",
         "_deepnote_index_column": "max"
        }
       ],
       "rows_bottom": null
      },
      "text/plain": "                                   Owner  Species       Country.of.Origin  \\\ncount                                230      230                     229   \nunique                                52        2                      20   \ntop     kona pacific farmers cooperative  Arabica  United States (Hawaii)   \nfreq                                  52      227                      71   \nmean                                 NaN      NaN                     NaN   \nstd                                  NaN      NaN                     NaN   \nmin                                  NaN      NaN                     NaN   \n25%                                  NaN      NaN                     NaN   \n50%                                  NaN      NaN                     NaN   \n75%                                  NaN      NaN                     NaN   \nmax                                  NaN      NaN                     NaN   \n\n       Region  Number.of.Bags Bag.Weight        Variety Processing.Method  \\\ncount     175      230.000000        230            116               156   \nunique     51             NaN         27             14                 5   \ntop      kona             NaN    100 lbs  Hawaiian Kona     Natural / Dry   \nfreq       64             NaN         59             44                74   \nmean      NaN      131.517391        NaN            NaN               NaN   \nstd       NaN      133.121762        NaN            NaN               NaN   \nmin       NaN        1.000000        NaN            NaN               NaN   \n25%       NaN        6.000000        NaN            NaN               NaN   \n50%       NaN       50.000000        NaN            NaN               NaN   \n75%       NaN      275.000000        NaN            NaN               NaN   \nmax       NaN      440.000000        NaN            NaN               NaN   \n\n             Aroma      Flavor  ...  Total.Cup.Points    Moisture  \\\ncount   230.000000  230.000000  ...        230.000000  230.000000   \nunique         NaN         NaN  ...               NaN         NaN   \ntop            NaN         NaN  ...               NaN         NaN   \nfreq           NaN         NaN  ...               NaN         NaN   \nmean      7.548043    7.519130  ...         81.994652    0.070696   \nstd       0.346802    0.389549  ...          2.965827    0.056849   \nmin       6.170000    6.080000  ...         70.670000    0.000000   \n25%       7.330000    7.330000  ...         80.670000    0.000000   \n50%       7.580000    7.580000  ...         82.580000    0.100000   \n75%       7.810000    7.750000  ...         83.830000    0.110000   \nmax       8.580000    8.500000  ...         88.830000    0.280000   \n\n        Category.One.Defects     Quakers  Color  Category.Two.Defects  \\\ncount             230.000000  230.000000    153            230.000000   \nunique                   NaN         NaN      4                   NaN   \ntop                      NaN         NaN  Green                   NaN   \nfreq                     NaN         NaN    100                   NaN   \nmean                1.021739    0.339130    NaN              3.656522   \nstd                 4.592994    1.214087    NaN              5.521639   \nmin                 0.000000    0.000000    NaN              0.000000   \n25%                 0.000000    0.000000    NaN              0.000000   \n50%                 0.000000    0.000000    NaN              2.000000   \n75%                 1.000000    0.000000    NaN              5.000000   \nmax                63.000000    9.000000    NaN             55.000000   \n\n        unit_of_measurement  altitude_low_meters  altitude_high_meters  \\\ncount                   230                  0.0                   0.0   \nunique                    2                  NaN                   NaN   \ntop                       m                  NaN                   NaN   \nfreq                    159                  NaN                   NaN   \nmean                    NaN                  NaN                   NaN   \nstd                     NaN                  NaN                   NaN   \nmin                     NaN                  NaN                   NaN   \n25%                     NaN                  NaN                   NaN   \n50%                     NaN                  NaN                   NaN   \n75%                     NaN                  NaN                   NaN   \nmax                     NaN                  NaN                   NaN   \n\n        altitude_mean_meters  \ncount                    0.0  \nunique                   NaN  \ntop                      NaN  \nfreq                     NaN  \nmean                     NaN  \nstd                      NaN  \nmin                      NaN  \n25%                      NaN  \n50%                      NaN  \n75%                      NaN  \nmax                      NaN  \n\n[11 rows x 28 columns]",
      "text/html": "<div>\n<style scoped>\n    .dataframe tbody tr th:only-of-type {\n        vertical-align: middle;\n    }\n\n    .dataframe tbody tr th {\n        vertical-align: top;\n    }\n\n    .dataframe thead th {\n        text-align: right;\n    }\n</style>\n<table border=\"1\" class=\"dataframe\">\n  <thead>\n    <tr style=\"text-align: right;\">\n      <th></th>\n      <th>Owner</th>\n      <th>Species</th>\n      <th>Country.of.Origin</th>\n      <th>Region</th>\n      <th>Number.of.Bags</th>\n      <th>Bag.Weight</th>\n      <th>Variety</th>\n      <th>Processing.Method</th>\n      <th>Aroma</th>\n      <th>Flavor</th>\n      <th>...</th>\n      <th>Total.Cup.Points</th>\n      <th>Moisture</th>\n      <th>Category.One.Defects</th>\n      <th>Quakers</th>\n      <th>Color</th>\n      <th>Category.Two.Defects</th>\n      <th>unit_of_measurement</th>\n      <th>altitude_low_meters</th>\n      <th>altitude_high_meters</th>\n      <th>altitude_mean_meters</th>\n    </tr>\n  </thead>\n  <tbody>\n    <tr>\n      <th>count</th>\n      <td>230</td>\n      <td>230</td>\n      <td>229</td>\n      <td>175</td>\n      <td>230.000000</td>\n      <td>230</td>\n      <td>116</td>\n      <td>156</td>\n      <td>230.000000</td>\n      <td>230.000000</td>\n      <td>...</td>\n      <td>230.000000</td>\n      <td>230.000000</td>\n      <td>230.000000</td>\n      <td>230.000000</td>\n      <td>153</td>\n      <td>230.000000</td>\n      <td>230</td>\n      <td>0.0</td>\n      <td>0.0</td>\n      <td>0.0</td>\n    </tr>\n    <tr>\n      <th>unique</th>\n      <td>52</td>\n      <td>2</td>\n      <td>20</td>\n      <td>51</td>\n      <td>NaN</td>\n      <td>27</td>\n      <td>14</td>\n      <td>5</td>\n      <td>NaN</td>\n      <td>NaN</td>\n      <td>...</td>\n      <td>NaN</td>\n      <td>NaN</td>\n      <td>NaN</td>\n      <td>NaN</td>\n      <td>4</td>\n      <td>NaN</td>\n      <td>2</td>\n      <td>NaN</td>\n      <td>NaN</td>\n      <td>NaN</td>\n    </tr>\n    <tr>\n      <th>top</th>\n      <td>kona pacific farmers cooperative</td>\n      <td>Arabica</td>\n      <td>United States (Hawaii)</td>\n      <td>kona</td>\n      <td>NaN</td>\n      <td>100 lbs</td>\n      <td>Hawaiian Kona</td>\n      <td>Natural / Dry</td>\n      <td>NaN</td>\n      <td>NaN</td>\n      <td>...</td>\n      <td>NaN</td>\n      <td>NaN</td>\n      <td>NaN</td>\n      <td>NaN</td>\n      <td>Green</td>\n      <td>NaN</td>\n      <td>m</td>\n      <td>NaN</td>\n      <td>NaN</td>\n      <td>NaN</td>\n    </tr>\n    <tr>\n      <th>freq</th>\n      <td>52</td>\n      <td>227</td>\n      <td>71</td>\n      <td>64</td>\n      <td>NaN</td>\n      <td>59</td>\n      <td>44</td>\n      <td>74</td>\n      <td>NaN</td>\n      <td>NaN</td>\n      <td>...</td>\n      <td>NaN</td>\n      <td>NaN</td>\n      <td>NaN</td>\n      <td>NaN</td>\n      <td>100</td>\n      <td>NaN</td>\n      <td>159</td>\n      <td>NaN</td>\n      <td>NaN</td>\n      <td>NaN</td>\n    </tr>\n    <tr>\n      <th>mean</th>\n      <td>NaN</td>\n      <td>NaN</td>\n      <td>NaN</td>\n      <td>NaN</td>\n      <td>131.517391</td>\n      <td>NaN</td>\n      <td>NaN</td>\n      <td>NaN</td>\n      <td>7.548043</td>\n      <td>7.519130</td>\n      <td>...</td>\n      <td>81.994652</td>\n      <td>0.070696</td>\n      <td>1.021739</td>\n      <td>0.339130</td>\n      <td>NaN</td>\n      <td>3.656522</td>\n      <td>NaN</td>\n      <td>NaN</td>\n      <td>NaN</td>\n      <td>NaN</td>\n    </tr>\n    <tr>\n      <th>std</th>\n      <td>NaN</td>\n      <td>NaN</td>\n      <td>NaN</td>\n      <td>NaN</td>\n      <td>133.121762</td>\n      <td>NaN</td>\n      <td>NaN</td>\n      <td>NaN</td>\n      <td>0.346802</td>\n      <td>0.389549</td>\n      <td>...</td>\n      <td>2.965827</td>\n      <td>0.056849</td>\n      <td>4.592994</td>\n      <td>1.214087</td>\n      <td>NaN</td>\n      <td>5.521639</td>\n      <td>NaN</td>\n      <td>NaN</td>\n      <td>NaN</td>\n      <td>NaN</td>\n    </tr>\n    <tr>\n      <th>min</th>\n      <td>NaN</td>\n      <td>NaN</td>\n      <td>NaN</td>\n      <td>NaN</td>\n      <td>1.000000</td>\n      <td>NaN</td>\n      <td>NaN</td>\n      <td>NaN</td>\n      <td>6.170000</td>\n      <td>6.080000</td>\n      <td>...</td>\n      <td>70.670000</td>\n      <td>0.000000</td>\n      <td>0.000000</td>\n      <td>0.000000</td>\n      <td>NaN</td>\n      <td>0.000000</td>\n      <td>NaN</td>\n      <td>NaN</td>\n      <td>NaN</td>\n      <td>NaN</td>\n    </tr>\n    <tr>\n      <th>25%</th>\n      <td>NaN</td>\n      <td>NaN</td>\n      <td>NaN</td>\n      <td>NaN</td>\n      <td>6.000000</td>\n      <td>NaN</td>\n      <td>NaN</td>\n      <td>NaN</td>\n      <td>7.330000</td>\n      <td>7.330000</td>\n      <td>...</td>\n      <td>80.670000</td>\n      <td>0.000000</td>\n      <td>0.000000</td>\n      <td>0.000000</td>\n      <td>NaN</td>\n      <td>0.000000</td>\n      <td>NaN</td>\n      <td>NaN</td>\n      <td>NaN</td>\n      <td>NaN</td>\n    </tr>\n    <tr>\n      <th>50%</th>\n      <td>NaN</td>\n      <td>NaN</td>\n      <td>NaN</td>\n      <td>NaN</td>\n      <td>50.000000</td>\n      <td>NaN</td>\n      <td>NaN</td>\n      <td>NaN</td>\n      <td>7.580000</td>\n      <td>7.580000</td>\n      <td>...</td>\n      <td>82.580000</td>\n      <td>0.100000</td>\n      <td>0.000000</td>\n      <td>0.000000</td>\n      <td>NaN</td>\n      <td>2.000000</td>\n      <td>NaN</td>\n      <td>NaN</td>\n      <td>NaN</td>\n      <td>NaN</td>\n    </tr>\n    <tr>\n      <th>75%</th>\n      <td>NaN</td>\n      <td>NaN</td>\n      <td>NaN</td>\n      <td>NaN</td>\n      <td>275.000000</td>\n      <td>NaN</td>\n      <td>NaN</td>\n      <td>NaN</td>\n      <td>7.810000</td>\n      <td>7.750000</td>\n      <td>...</td>\n      <td>83.830000</td>\n      <td>0.110000</td>\n      <td>1.000000</td>\n      <td>0.000000</td>\n      <td>NaN</td>\n      <td>5.000000</td>\n      <td>NaN</td>\n      <td>NaN</td>\n      <td>NaN</td>\n      <td>NaN</td>\n    </tr>\n    <tr>\n      <th>max</th>\n      <td>NaN</td>\n      <td>NaN</td>\n      <td>NaN</td>\n      <td>NaN</td>\n      <td>440.000000</td>\n      <td>NaN</td>\n      <td>NaN</td>\n      <td>NaN</td>\n      <td>8.580000</td>\n      <td>8.500000</td>\n      <td>...</td>\n      <td>88.830000</td>\n      <td>0.280000</td>\n      <td>63.000000</td>\n      <td>9.000000</td>\n      <td>NaN</td>\n      <td>55.000000</td>\n      <td>NaN</td>\n      <td>NaN</td>\n      <td>NaN</td>\n      <td>NaN</td>\n    </tr>\n  </tbody>\n</table>\n<p>11 rows × 28 columns</p>\n</div>"
     },
     "metadata": {}
    }
   ]
  },
  {
   "cell_type": "code",
   "metadata": {
    "tags": [],
    "cell_id": "00012-b5b7a620-d2f5-4721-b5bc-d65adcc7b37e",
    "deepnote_to_be_reexecuted": false,
    "source_hash": "b5196897",
    "execution_start": 1627568768257,
    "execution_millis": 3,
    "deepnote_cell_type": "code"
   },
   "source": "# Procedemos a la limpieza de las variables realcionadas con la altura\nidx = df_to_clean['altitude_mean_meters'].dropna().index\ndf_to_clean = df[df.index.isin(idx)]",
   "execution_count": null,
   "outputs": []
  },
  {
   "cell_type": "code",
   "metadata": {
    "tags": [],
    "cell_id": "00013-17dba65c-932b-45cd-932a-e8f19a25107a",
    "deepnote_to_be_reexecuted": false,
    "source_hash": "612af9d8",
    "execution_start": 1627568771181,
    "execution_millis": 189,
    "deepnote_cell_type": "code"
   },
   "source": "# Vamos a ver la variable color que tiene mas null, vamos a verlos mas de cerca a ver que encontramos\nidx_color = df_to_clean['Color'].dropna().index\ndf_to_clean = df_to_clean[df_to_clean.index.isin(idx_color)]\n\ndf_to_clean",
   "execution_count": null,
   "outputs": [
    {
     "output_type": "execute_result",
     "execution_count": 34,
     "data": {
      "application/vnd.deepnote.dataframe.v2+json": {
       "row_count": 968,
       "column_count": 28,
       "columns": [
        {
         "name": "Owner",
         "dtype": "object",
         "stats": {
          "unique_count": 264,
          "nan_count": 7,
          "categories": [
           {
            "name": "juan luis alvarado romero",
            "count": 135
           },
           {
            "name": "263 others",
            "count": 826
           },
           {
            "name": "Missing",
            "count": 7
           }
          ]
         }
        },
        {
         "name": "Species",
         "dtype": "object",
         "stats": {
          "unique_count": 2,
          "nan_count": 0,
          "categories": [
           {
            "name": "Arabica",
            "count": 945
           },
           {
            "name": "Robusta",
            "count": 23
           }
          ]
         }
        },
        {
         "name": "Country.of.Origin",
         "dtype": "object",
         "stats": {
          "unique_count": 34,
          "nan_count": 0,
          "categories": [
           {
            "name": "Mexico",
            "count": 200
           },
           {
            "name": "Guatemala",
            "count": 150
           },
           {
            "name": "32 others",
            "count": 618
           }
          ]
         }
        },
        {
         "name": "Region",
         "dtype": "object",
         "stats": {
          "unique_count": 303,
          "nan_count": 1,
          "categories": [
           {
            "name": "huila",
            "count": 75
           },
           {
            "name": "302 others",
            "count": 892
           },
           {
            "name": "Missing",
            "count": 1
           }
          ]
         }
        },
        {
         "name": "Number.of.Bags",
         "dtype": "int64",
         "stats": {
          "unique_count": 106,
          "nan_count": 0,
          "min": "1",
          "max": "1062",
          "histogram": [
           {
            "bin_start": 1,
            "bin_end": 107.1,
            "count": 433
           },
           {
            "bin_start": 107.1,
            "bin_end": 213.2,
            "count": 59
           },
           {
            "bin_start": 213.2,
            "bin_end": 319.29999999999995,
            "count": 396
           },
           {
            "bin_start": 319.29999999999995,
            "bin_end": 425.4,
            "count": 70
           },
           {
            "bin_start": 425.4,
            "bin_end": 531.5,
            "count": 6
           },
           {
            "bin_start": 531.5,
            "bin_end": 637.5999999999999,
            "count": 3
           },
           {
            "bin_start": 637.5999999999999,
            "bin_end": 743.6999999999999,
            "count": 0
           },
           {
            "bin_start": 743.6999999999999,
            "bin_end": 849.8,
            "count": 0
           },
           {
            "bin_start": 849.8,
            "bin_end": 955.9,
            "count": 0
           },
           {
            "bin_start": 955.9,
            "bin_end": 1062,
            "count": 1
           }
          ]
         }
        },
        {
         "name": "Bag.Weight",
         "dtype": "object",
         "stats": {
          "unique_count": 38,
          "nan_count": 0,
          "categories": [
           {
            "name": "1 kg",
            "count": 274
           },
           {
            "name": "60 kg",
            "count": 203
           },
           {
            "name": "36 others",
            "count": 491
           }
          ]
         }
        },
        {
         "name": "Variety",
         "dtype": "object",
         "stats": {
          "unique_count": 25,
          "nan_count": 57,
          "categories": [
           {
            "name": "Caturra",
            "count": 220
           },
           {
            "name": "24 others",
            "count": 691
           },
           {
            "name": "Missing",
            "count": 57
           }
          ]
         }
        },
        {
         "name": "Processing.Method",
         "dtype": "object",
         "stats": {
          "unique_count": 5,
          "nan_count": 33,
          "categories": [
           {
            "name": "Washed / Wet",
            "count": 687
           },
           {
            "name": "4 others",
            "count": 248
           },
           {
            "name": "Missing",
            "count": 33
           }
          ]
         }
        },
        {
         "name": "Aroma",
         "dtype": "float64",
         "stats": {
          "unique_count": 29,
          "nan_count": 0,
          "min": "0.0",
          "max": "8.75",
          "histogram": [
           {
            "bin_start": 0,
            "bin_end": 0.875,
            "count": 1
           },
           {
            "bin_start": 0.875,
            "bin_end": 1.75,
            "count": 0
           },
           {
            "bin_start": 1.75,
            "bin_end": 2.625,
            "count": 0
           },
           {
            "bin_start": 2.625,
            "bin_end": 3.5,
            "count": 0
           },
           {
            "bin_start": 3.5,
            "bin_end": 4.375,
            "count": 0
           },
           {
            "bin_start": 4.375,
            "bin_end": 5.25,
            "count": 1
           },
           {
            "bin_start": 5.25,
            "bin_end": 6.125,
            "count": 0
           },
           {
            "bin_start": 6.125,
            "bin_end": 7,
            "count": 21
           },
           {
            "bin_start": 7,
            "bin_end": 7.875,
            "count": 836
           },
           {
            "bin_start": 7.875,
            "bin_end": 8.75,
            "count": 109
           }
          ]
         }
        },
        {
         "name": "Flavor",
         "dtype": "float64",
         "stats": {
          "unique_count": 32,
          "nan_count": 0,
          "min": "0.0",
          "max": "8.83",
          "histogram": [
           {
            "bin_start": 0,
            "bin_end": 0.883,
            "count": 1
           },
           {
            "bin_start": 0.883,
            "bin_end": 1.766,
            "count": 0
           },
           {
            "bin_start": 1.766,
            "bin_end": 2.649,
            "count": 0
           },
           {
            "bin_start": 2.649,
            "bin_end": 3.532,
            "count": 0
           },
           {
            "bin_start": 3.532,
            "bin_end": 4.415,
            "count": 0
           },
           {
            "bin_start": 4.415,
            "bin_end": 5.298,
            "count": 0
           },
           {
            "bin_start": 5.298,
            "bin_end": 6.181,
            "count": 1
           },
           {
            "bin_start": 6.181,
            "bin_end": 7.064,
            "count": 69
           },
           {
            "bin_start": 7.064,
            "bin_end": 7.947,
            "count": 841
           },
           {
            "bin_start": 7.947,
            "bin_end": 8.83,
            "count": 56
           }
          ]
         }
        },
        {
         "name": "Aftertaste",
         "dtype": "float64",
         "stats": {
          "unique_count": 30,
          "nan_count": 0,
          "min": "0.0",
          "max": "8.67",
          "histogram": [
           {
            "bin_start": 0,
            "bin_end": 0.867,
            "count": 1
           },
           {
            "bin_start": 0.867,
            "bin_end": 1.734,
            "count": 0
           },
           {
            "bin_start": 1.734,
            "bin_end": 2.601,
            "count": 0
           },
           {
            "bin_start": 2.601,
            "bin_end": 3.468,
            "count": 0
           },
           {
            "bin_start": 3.468,
            "bin_end": 4.335,
            "count": 0
           },
           {
            "bin_start": 4.335,
            "bin_end": 5.202,
            "count": 0
           },
           {
            "bin_start": 5.202,
            "bin_end": 6.069,
            "count": 0
           },
           {
            "bin_start": 6.069,
            "bin_end": 6.936,
            "count": 93
           },
           {
            "bin_start": 6.936,
            "bin_end": 7.803,
            "count": 791
           },
           {
            "bin_start": 7.803,
            "bin_end": 8.67,
            "count": 83
           }
          ]
         }
        },
        {
         "name": "Acidity",
         "dtype": "float64",
         "stats": {
          "unique_count": 30,
          "nan_count": 0,
          "min": "0.0",
          "max": "8.75",
          "histogram": [
           {
            "bin_start": 0,
            "bin_end": 0.875,
            "count": 1
           },
           {
            "bin_start": 0.875,
            "bin_end": 1.75,
            "count": 0
           },
           {
            "bin_start": 1.75,
            "bin_end": 2.625,
            "count": 0
           },
           {
            "bin_start": 2.625,
            "bin_end": 3.5,
            "count": 0
           },
           {
            "bin_start": 3.5,
            "bin_end": 4.375,
            "count": 0
           },
           {
            "bin_start": 4.375,
            "bin_end": 5.25,
            "count": 0
           },
           {
            "bin_start": 5.25,
            "bin_end": 6.125,
            "count": 2
           },
           {
            "bin_start": 6.125,
            "bin_end": 7,
            "count": 21
           },
           {
            "bin_start": 7,
            "bin_end": 7.875,
            "count": 851
           },
           {
            "bin_start": 7.875,
            "bin_end": 8.75,
            "count": 93
           }
          ]
         }
        },
        {
         "name": "Body",
         "dtype": "float64",
         "stats": {
          "unique_count": 27,
          "nan_count": 0,
          "min": "0.0",
          "max": "8.5",
          "histogram": [
           {
            "bin_start": 0,
            "bin_end": 0.85,
            "count": 1
           },
           {
            "bin_start": 0.85,
            "bin_end": 1.7,
            "count": 0
           },
           {
            "bin_start": 1.7,
            "bin_end": 2.55,
            "count": 0
           },
           {
            "bin_start": 2.55,
            "bin_end": 3.4,
            "count": 0
           },
           {
            "bin_start": 3.4,
            "bin_end": 4.25,
            "count": 0
           },
           {
            "bin_start": 4.25,
            "bin_end": 5.1,
            "count": 0
           },
           {
            "bin_start": 5.1,
            "bin_end": 5.95,
            "count": 1
           },
           {
            "bin_start": 5.95,
            "bin_end": 6.8,
            "count": 8
           },
           {
            "bin_start": 6.8,
            "bin_end": 7.6499999999999995,
            "count": 647
           },
           {
            "bin_start": 7.6499999999999995,
            "bin_end": 8.5,
            "count": 311
           }
          ]
         }
        },
        {
         "name": "Balance",
         "dtype": "float64",
         "stats": {
          "unique_count": 31,
          "nan_count": 0,
          "min": "0.0",
          "max": "8.58",
          "histogram": [
           {
            "bin_start": 0,
            "bin_end": 0.858,
            "count": 1
           },
           {
            "bin_start": 0.858,
            "bin_end": 1.716,
            "count": 0
           },
           {
            "bin_start": 1.716,
            "bin_end": 2.574,
            "count": 0
           },
           {
            "bin_start": 2.574,
            "bin_end": 3.432,
            "count": 0
           },
           {
            "bin_start": 3.432,
            "bin_end": 4.29,
            "count": 0
           },
           {
            "bin_start": 4.29,
            "bin_end": 5.148,
            "count": 0
           },
           {
            "bin_start": 5.148,
            "bin_end": 6.006,
            "count": 1
           },
           {
            "bin_start": 6.006,
            "bin_end": 6.864,
            "count": 31
           },
           {
            "bin_start": 6.864,
            "bin_end": 7.7219999999999995,
            "count": 707
           },
           {
            "bin_start": 7.7219999999999995,
            "bin_end": 8.58,
            "count": 228
           }
          ]
         }
        },
        {
         "name": "Uniformity",
         "dtype": "float64",
         "stats": {
          "unique_count": 8,
          "nan_count": 0,
          "min": "0.0",
          "max": "10.0",
          "histogram": [
           {
            "bin_start": 0,
            "bin_end": 1,
            "count": 1
           },
           {
            "bin_start": 1,
            "bin_end": 2,
            "count": 0
           },
           {
            "bin_start": 2,
            "bin_end": 3,
            "count": 0
           },
           {
            "bin_start": 3,
            "bin_end": 4,
            "count": 0
           },
           {
            "bin_start": 4,
            "bin_end": 5,
            "count": 0
           },
           {
            "bin_start": 5,
            "bin_end": 6,
            "count": 0
           },
           {
            "bin_start": 6,
            "bin_end": 7,
            "count": 5
           },
           {
            "bin_start": 7,
            "bin_end": 8,
            "count": 1
           },
           {
            "bin_start": 8,
            "bin_end": 9,
            "count": 31
           },
           {
            "bin_start": 9,
            "bin_end": 10,
            "count": 930
           }
          ]
         }
        },
        {
         "name": "Clean.Cup",
         "dtype": "float64",
         "stats": {
          "unique_count": 11,
          "nan_count": 0,
          "min": "0.0",
          "max": "10.0",
          "histogram": [
           {
            "bin_start": 0,
            "bin_end": 1,
            "count": 2
           },
           {
            "bin_start": 1,
            "bin_end": 2,
            "count": 1
           },
           {
            "bin_start": 2,
            "bin_end": 3,
            "count": 2
           },
           {
            "bin_start": 3,
            "bin_end": 4,
            "count": 0
           },
           {
            "bin_start": 4,
            "bin_end": 5,
            "count": 0
           },
           {
            "bin_start": 5,
            "bin_end": 6,
            "count": 2
           },
           {
            "bin_start": 6,
            "bin_end": 7,
            "count": 11
           },
           {
            "bin_start": 7,
            "bin_end": 8,
            "count": 3
           },
           {
            "bin_start": 8,
            "bin_end": 9,
            "count": 15
           },
           {
            "bin_start": 9,
            "bin_end": 10,
            "count": 932
           }
          ]
         }
        },
        {
         "name": "Sweetness",
         "dtype": "float64",
         "stats": {
          "unique_count": 16,
          "nan_count": 0,
          "min": "0.0",
          "max": "10.0",
          "histogram": [
           {
            "bin_start": 0,
            "bin_end": 1,
            "count": 1
           },
           {
            "bin_start": 1,
            "bin_end": 2,
            "count": 1
           },
           {
            "bin_start": 2,
            "bin_end": 3,
            "count": 0
           },
           {
            "bin_start": 3,
            "bin_end": 4,
            "count": 0
           },
           {
            "bin_start": 4,
            "bin_end": 5,
            "count": 0
           },
           {
            "bin_start": 5,
            "bin_end": 6,
            "count": 0
           },
           {
            "bin_start": 6,
            "bin_end": 7,
            "count": 3
           },
           {
            "bin_start": 7,
            "bin_end": 8,
            "count": 20
           },
           {
            "bin_start": 8,
            "bin_end": 9,
            "count": 12
           },
           {
            "bin_start": 9,
            "bin_end": 10,
            "count": 931
           }
          ]
         }
        },
        {
         "name": "Cupper.Points",
         "dtype": "float64",
         "stats": {
          "unique_count": 38,
          "nan_count": 0,
          "min": "0.0",
          "max": "10.0",
          "histogram": [
           {
            "bin_start": 0,
            "bin_end": 1,
            "count": 1
           },
           {
            "bin_start": 1,
            "bin_end": 2,
            "count": 0
           },
           {
            "bin_start": 2,
            "bin_end": 3,
            "count": 0
           },
           {
            "bin_start": 3,
            "bin_end": 4,
            "count": 0
           },
           {
            "bin_start": 4,
            "bin_end": 5,
            "count": 0
           },
           {
            "bin_start": 5,
            "bin_end": 6,
            "count": 3
           },
           {
            "bin_start": 6,
            "bin_end": 7,
            "count": 73
           },
           {
            "bin_start": 7,
            "bin_end": 8,
            "count": 809
           },
           {
            "bin_start": 8,
            "bin_end": 9,
            "count": 81
           },
           {
            "bin_start": 9,
            "bin_end": 10,
            "count": 1
           }
          ]
         }
        },
        {
         "name": "Total.Cup.Points",
         "dtype": "float64",
         "stats": {
          "unique_count": 146,
          "nan_count": 0,
          "min": "0.0",
          "max": "90.58",
          "histogram": [
           {
            "bin_start": 0,
            "bin_end": 9.058,
            "count": 1
           },
           {
            "bin_start": 9.058,
            "bin_end": 18.116,
            "count": 0
           },
           {
            "bin_start": 18.116,
            "bin_end": 27.174,
            "count": 0
           },
           {
            "bin_start": 27.174,
            "bin_end": 36.232,
            "count": 0
           },
           {
            "bin_start": 36.232,
            "bin_end": 45.29,
            "count": 0
           },
           {
            "bin_start": 45.29,
            "bin_end": 54.348,
            "count": 0
           },
           {
            "bin_start": 54.348,
            "bin_end": 63.406,
            "count": 2
           },
           {
            "bin_start": 63.406,
            "bin_end": 72.464,
            "count": 9
           },
           {
            "bin_start": 72.464,
            "bin_end": 81.52199999999999,
            "count": 296
           },
           {
            "bin_start": 81.52199999999999,
            "bin_end": 90.58,
            "count": 660
           }
          ]
         }
        },
        {
         "name": "Moisture",
         "dtype": "float64",
         "stats": {
          "unique_count": 13,
          "nan_count": 0,
          "min": "0.0",
          "max": "0.17",
          "histogram": [
           {
            "bin_start": 0,
            "bin_end": 0.017,
            "count": 140
           },
           {
            "bin_start": 0.017,
            "bin_end": 0.034,
            "count": 0
           },
           {
            "bin_start": 0.034,
            "bin_end": 0.051000000000000004,
            "count": 0
           },
           {
            "bin_start": 0.051000000000000004,
            "bin_end": 0.068,
            "count": 1
           },
           {
            "bin_start": 0.068,
            "bin_end": 0.085,
            "count": 8
           },
           {
            "bin_start": 0.085,
            "bin_end": 0.10200000000000001,
            "count": 162
           },
           {
            "bin_start": 0.10200000000000001,
            "bin_end": 0.11900000000000001,
            "count": 303
           },
           {
            "bin_start": 0.11900000000000001,
            "bin_end": 0.136,
            "count": 321
           },
           {
            "bin_start": 0.136,
            "bin_end": 0.15300000000000002,
            "count": 27
           },
           {
            "bin_start": 0.15300000000000002,
            "bin_end": 0.17,
            "count": 6
           }
          ]
         }
        },
        {
         "name": "Category.One.Defects",
         "dtype": "int64",
         "stats": {
          "unique_count": 14,
          "nan_count": 0,
          "min": "0",
          "max": "31",
          "histogram": [
           {
            "bin_start": 0,
            "bin_end": 3.1,
            "count": 938
           },
           {
            "bin_start": 3.1,
            "bin_end": 6.2,
            "count": 19
           },
           {
            "bin_start": 6.2,
            "bin_end": 9.3,
            "count": 3
           },
           {
            "bin_start": 9.3,
            "bin_end": 12.4,
            "count": 4
           },
           {
            "bin_start": 12.4,
            "bin_end": 15.5,
            "count": 1
           },
           {
            "bin_start": 15.5,
            "bin_end": 18.6,
            "count": 0
           },
           {
            "bin_start": 18.6,
            "bin_end": 21.7,
            "count": 0
           },
           {
            "bin_start": 21.7,
            "bin_end": 24.8,
            "count": 1
           },
           {
            "bin_start": 24.8,
            "bin_end": 27.900000000000002,
            "count": 0
           },
           {
            "bin_start": 27.900000000000002,
            "bin_end": 31,
            "count": 2
           }
          ]
         }
        },
        {
         "name": "Quakers",
         "dtype": "float64",
         "stats": {
          "unique_count": 10,
          "nan_count": 1,
          "min": "0.0",
          "max": "11.0",
          "histogram": [
           {
            "bin_start": 0,
            "bin_end": 1.1,
            "count": 929
           },
           {
            "bin_start": 1.1,
            "bin_end": 2.2,
            "count": 23
           },
           {
            "bin_start": 2.2,
            "bin_end": 3.3000000000000003,
            "count": 3
           },
           {
            "bin_start": 3.3000000000000003,
            "bin_end": 4.4,
            "count": 3
           },
           {
            "bin_start": 4.4,
            "bin_end": 5.5,
            "count": 4
           },
           {
            "bin_start": 5.5,
            "bin_end": 6.6000000000000005,
            "count": 2
           },
           {
            "bin_start": 6.6000000000000005,
            "bin_end": 7.700000000000001,
            "count": 1
           },
           {
            "bin_start": 7.700000000000001,
            "bin_end": 8.8,
            "count": 1
           },
           {
            "bin_start": 8.8,
            "bin_end": 9.9,
            "count": 0
           },
           {
            "bin_start": 9.9,
            "bin_end": 11,
            "count": 1
           }
          ]
         }
        },
        {
         "name": "Color",
         "dtype": "object",
         "stats": {
          "unique_count": 4,
          "nan_count": 0,
          "categories": [
           {
            "name": "Green",
            "count": 770
           },
           {
            "name": "Bluish-Green",
            "count": 83
           },
           {
            "name": "2 others",
            "count": 115
           }
          ]
         }
        },
        {
         "name": "Category.Two.Defects",
         "dtype": "int64",
         "stats": {
          "unique_count": 36,
          "nan_count": 0,
          "min": "0",
          "max": "47",
          "histogram": [
           {
            "bin_start": 0,
            "bin_end": 4.7,
            "count": 726
           },
           {
            "bin_start": 4.7,
            "bin_end": 9.4,
            "count": 153
           },
           {
            "bin_start": 9.4,
            "bin_end": 14.100000000000001,
            "count": 46
           },
           {
            "bin_start": 14.100000000000001,
            "bin_end": 18.8,
            "count": 13
           },
           {
            "bin_start": 18.8,
            "bin_end": 23.5,
            "count": 14
           },
           {
            "bin_start": 23.5,
            "bin_end": 28.200000000000003,
            "count": 6
           },
           {
            "bin_start": 28.200000000000003,
            "bin_end": 32.9,
            "count": 5
           },
           {
            "bin_start": 32.9,
            "bin_end": 37.6,
            "count": 1
           },
           {
            "bin_start": 37.6,
            "bin_end": 42.300000000000004,
            "count": 2
           },
           {
            "bin_start": 42.300000000000004,
            "bin_end": 47,
            "count": 2
           }
          ]
         }
        },
        {
         "name": "unit_of_measurement",
         "dtype": "object",
         "stats": {
          "unique_count": 2,
          "nan_count": 0,
          "categories": [
           {
            "name": "m",
            "count": 868
           },
           {
            "name": "ft",
            "count": 100
           }
          ]
         }
        },
        {
         "name": "altitude_low_meters",
         "dtype": "float64",
         "stats": {
          "unique_count": 177,
          "nan_count": 0,
          "min": "1.0",
          "max": "190164.0",
          "histogram": [
           {
            "bin_start": 1,
            "bin_end": 19017.3,
            "count": 965
           },
           {
            "bin_start": 19017.3,
            "bin_end": 38033.6,
            "count": 0
           },
           {
            "bin_start": 38033.6,
            "bin_end": 57049.899999999994,
            "count": 0
           },
           {
            "bin_start": 57049.899999999994,
            "bin_end": 76066.2,
            "count": 0
           },
           {
            "bin_start": 76066.2,
            "bin_end": 95082.5,
            "count": 0
           },
           {
            "bin_start": 95082.5,
            "bin_end": 114098.79999999999,
            "count": 1
           },
           {
            "bin_start": 114098.79999999999,
            "bin_end": 133115.1,
            "count": 0
           },
           {
            "bin_start": 133115.1,
            "bin_end": 152131.4,
            "count": 0
           },
           {
            "bin_start": 152131.4,
            "bin_end": 171147.69999999998,
            "count": 0
           },
           {
            "bin_start": 171147.69999999998,
            "bin_end": 190164,
            "count": 2
           }
          ]
         }
        },
        {
         "name": "altitude_high_meters",
         "dtype": "float64",
         "stats": {
          "unique_count": 176,
          "nan_count": 0,
          "min": "1.0",
          "max": "190164.0",
          "histogram": [
           {
            "bin_start": 1,
            "bin_end": 19017.3,
            "count": 965
           },
           {
            "bin_start": 19017.3,
            "bin_end": 38033.6,
            "count": 0
           },
           {
            "bin_start": 38033.6,
            "bin_end": 57049.899999999994,
            "count": 0
           },
           {
            "bin_start": 57049.899999999994,
            "bin_end": 76066.2,
            "count": 0
           },
           {
            "bin_start": 76066.2,
            "bin_end": 95082.5,
            "count": 0
           },
           {
            "bin_start": 95082.5,
            "bin_end": 114098.79999999999,
            "count": 1
           },
           {
            "bin_start": 114098.79999999999,
            "bin_end": 133115.1,
            "count": 0
           },
           {
            "bin_start": 133115.1,
            "bin_end": 152131.4,
            "count": 0
           },
           {
            "bin_start": 152131.4,
            "bin_end": 171147.69999999998,
            "count": 0
           },
           {
            "bin_start": 171147.69999999998,
            "bin_end": 190164,
            "count": 2
           }
          ]
         }
        },
        {
         "name": "altitude_mean_meters",
         "dtype": "float64",
         "stats": {
          "unique_count": 186,
          "nan_count": 0,
          "min": "1.0",
          "max": "190164.0",
          "histogram": [
           {
            "bin_start": 1,
            "bin_end": 19017.3,
            "count": 965
           },
           {
            "bin_start": 19017.3,
            "bin_end": 38033.6,
            "count": 0
           },
           {
            "bin_start": 38033.6,
            "bin_end": 57049.899999999994,
            "count": 0
           },
           {
            "bin_start": 57049.899999999994,
            "bin_end": 76066.2,
            "count": 0
           },
           {
            "bin_start": 76066.2,
            "bin_end": 95082.5,
            "count": 0
           },
           {
            "bin_start": 95082.5,
            "bin_end": 114098.79999999999,
            "count": 1
           },
           {
            "bin_start": 114098.79999999999,
            "bin_end": 133115.1,
            "count": 0
           },
           {
            "bin_start": 133115.1,
            "bin_end": 152131.4,
            "count": 0
           },
           {
            "bin_start": 152131.4,
            "bin_end": 171147.69999999998,
            "count": 0
           },
           {
            "bin_start": 171147.69999999998,
            "bin_end": 190164,
            "count": 2
           }
          ]
         }
        },
        {
         "name": "_deepnote_index_column",
         "dtype": "int64"
        }
       ],
       "rows_top": [
        {
         "Owner": "metad plc",
         "Species": "Arabica",
         "Country.of.Origin": "Ethiopia",
         "Region": "guji-hambela",
         "Number.of.Bags": 300,
         "Bag.Weight": "60 kg",
         "Variety": "nan",
         "Processing.Method": "Washed / Wet",
         "Aroma": 8.67,
         "Flavor": 8.83,
         "Aftertaste": 8.67,
         "Acidity": 8.75,
         "Body": 8.5,
         "Balance": 8.42,
         "Uniformity": 10,
         "Clean.Cup": 10,
         "Sweetness": 10,
         "Cupper.Points": 8.75,
         "Total.Cup.Points": 90.58,
         "Moisture": 0.12,
         "Category.One.Defects": 0,
         "Quakers": 0,
         "Color": "Green",
         "Category.Two.Defects": 0,
         "unit_of_measurement": "m",
         "altitude_low_meters": 1950,
         "altitude_high_meters": 2200,
         "altitude_mean_meters": 2075,
         "_deepnote_index_column": 0
        },
        {
         "Owner": "metad plc",
         "Species": "Arabica",
         "Country.of.Origin": "Ethiopia",
         "Region": "guji-hambela",
         "Number.of.Bags": 300,
         "Bag.Weight": "60 kg",
         "Variety": "Other",
         "Processing.Method": "Washed / Wet",
         "Aroma": 8.75,
         "Flavor": 8.67,
         "Aftertaste": 8.5,
         "Acidity": 8.58,
         "Body": 8.42,
         "Balance": 8.42,
         "Uniformity": 10,
         "Clean.Cup": 10,
         "Sweetness": 10,
         "Cupper.Points": 8.58,
         "Total.Cup.Points": 89.92,
         "Moisture": 0.12,
         "Category.One.Defects": 0,
         "Quakers": 0,
         "Color": "Green",
         "Category.Two.Defects": 1,
         "unit_of_measurement": "m",
         "altitude_low_meters": 1950,
         "altitude_high_meters": 2200,
         "altitude_mean_meters": 2075,
         "_deepnote_index_column": 1
        },
        {
         "Owner": "yidnekachew dabessa",
         "Species": "Arabica",
         "Country.of.Origin": "Ethiopia",
         "Region": "oromia",
         "Number.of.Bags": 320,
         "Bag.Weight": "60 kg",
         "Variety": "nan",
         "Processing.Method": "Natural / Dry",
         "Aroma": 8.17,
         "Flavor": 8.58,
         "Aftertaste": 8.42,
         "Acidity": 8.42,
         "Body": 8.5,
         "Balance": 8.25,
         "Uniformity": 10,
         "Clean.Cup": 10,
         "Sweetness": 10,
         "Cupper.Points": 8.67,
         "Total.Cup.Points": 89,
         "Moisture": 0.11,
         "Category.One.Defects": 0,
         "Quakers": 0,
         "Color": "Green",
         "Category.Two.Defects": 2,
         "unit_of_measurement": "m",
         "altitude_low_meters": 1800,
         "altitude_high_meters": 2200,
         "altitude_mean_meters": 2000,
         "_deepnote_index_column": 3
        },
        {
         "Owner": "metad plc",
         "Species": "Arabica",
         "Country.of.Origin": "Ethiopia",
         "Region": "guji-hambela",
         "Number.of.Bags": 300,
         "Bag.Weight": "60 kg",
         "Variety": "Other",
         "Processing.Method": "Washed / Wet",
         "Aroma": 8.25,
         "Flavor": 8.5,
         "Aftertaste": 8.25,
         "Acidity": 8.5,
         "Body": 8.42,
         "Balance": 8.33,
         "Uniformity": 10,
         "Clean.Cup": 10,
         "Sweetness": 10,
         "Cupper.Points": 8.58,
         "Total.Cup.Points": 88.83,
         "Moisture": 0.12,
         "Category.One.Defects": 0,
         "Quakers": 0,
         "Color": "Green",
         "Category.Two.Defects": 2,
         "unit_of_measurement": "m",
         "altitude_low_meters": 1950,
         "altitude_high_meters": 2200,
         "altitude_mean_meters": 2075,
         "_deepnote_index_column": 4
        },
        {
         "Owner": "diamond enterprise plc",
         "Species": "Arabica",
         "Country.of.Origin": "Ethiopia",
         "Region": "snnp/kaffa zone,gimbowereda",
         "Number.of.Bags": 50,
         "Bag.Weight": "60 kg",
         "Variety": "Other",
         "Processing.Method": "Natural / Dry",
         "Aroma": 8.08,
         "Flavor": 8.58,
         "Aftertaste": 8.5,
         "Acidity": 8.5,
         "Body": 7.67,
         "Balance": 8.42,
         "Uniformity": 10,
         "Clean.Cup": 10,
         "Sweetness": 10,
         "Cupper.Points": 8.5,
         "Total.Cup.Points": 88.25,
         "Moisture": 0.1,
         "Category.One.Defects": 0,
         "Quakers": 0,
         "Color": "Green",
         "Category.Two.Defects": 4,
         "unit_of_measurement": "m",
         "altitude_low_meters": 1795,
         "altitude_high_meters": 1850,
         "altitude_mean_meters": 1822.5,
         "_deepnote_index_column": 9
        },
        {
         "Owner": "yunnan coffee exchange",
         "Species": "Arabica",
         "Country.of.Origin": "China",
         "Region": "yunnan",
         "Number.of.Bags": 3,
         "Bag.Weight": "60 kg",
         "Variety": "Catimor",
         "Processing.Method": "Washed / Wet",
         "Aroma": 8.42,
         "Flavor": 8.25,
         "Aftertaste": 8.08,
         "Acidity": 8.17,
         "Body": 7.92,
         "Balance": 8,
         "Uniformity": 10,
         "Clean.Cup": 10,
         "Sweetness": 10,
         "Cupper.Points": 8.42,
         "Total.Cup.Points": 87.25,
         "Moisture": 0.1,
         "Category.One.Defects": 0,
         "Quakers": 0,
         "Color": "Green",
         "Category.Two.Defects": 0,
         "unit_of_measurement": "m",
         "altitude_low_meters": 1450,
         "altitude_high_meters": 1450,
         "altitude_mean_meters": 1450,
         "_deepnote_index_column": 18
        },
        {
         "Owner": "cqi q coffee sample representative",
         "Species": "Arabica",
         "Country.of.Origin": "United States",
         "Region": "antioquia",
         "Number.of.Bags": 10,
         "Bag.Weight": "1 kg",
         "Variety": "Other",
         "Processing.Method": "Washed / Wet",
         "Aroma": 8,
         "Flavor": 8.25,
         "Aftertaste": 8.08,
         "Acidity": 8.5,
         "Body": 8.25,
         "Balance": 8,
         "Uniformity": 10,
         "Clean.Cup": 10,
         "Sweetness": 10,
         "Cupper.Points": 8.17,
         "Total.Cup.Points": 87.25,
         "Moisture": 0,
         "Category.One.Defects": 0,
         "Quakers": 0,
         "Color": "None",
         "Category.Two.Defects": 0,
         "unit_of_measurement": "m",
         "altitude_low_meters": 2019,
         "altitude_high_meters": 2019,
         "altitude_mean_meters": 2019,
         "_deepnote_index_column": 20
        },
        {
         "Owner": "the coffee source inc.",
         "Species": "Arabica",
         "Country.of.Origin": "Costa Rica",
         "Region": "san ramon",
         "Number.of.Bags": 250,
         "Bag.Weight": "3 lbs",
         "Variety": "Caturra",
         "Processing.Method": "Washed / Wet",
         "Aroma": 8.08,
         "Flavor": 8.25,
         "Aftertaste": 8,
         "Acidity": 8.17,
         "Body": 8,
         "Balance": 8.33,
         "Uniformity": 10,
         "Clean.Cup": 10,
         "Sweetness": 10,
         "Cupper.Points": 8.33,
         "Total.Cup.Points": 87.17,
         "Moisture": 0.11,
         "Category.One.Defects": 0,
         "Quakers": 0,
         "Color": "Green",
         "Category.Two.Defects": 2,
         "unit_of_measurement": "m",
         "altitude_low_meters": 1300,
         "altitude_high_meters": 1300,
         "altitude_mean_meters": 1300,
         "_deepnote_index_column": 21
        },
        {
         "Owner": "roberto licona franco",
         "Species": "Arabica",
         "Country.of.Origin": "Mexico",
         "Region": "xalapa",
         "Number.of.Bags": 14,
         "Bag.Weight": "1 kg",
         "Variety": "Other",
         "Processing.Method": "Washed / Wet",
         "Aroma": 8.17,
         "Flavor": 8.25,
         "Aftertaste": 8.17,
         "Acidity": 8,
         "Body": 7.83,
         "Balance": 8.17,
         "Uniformity": 10,
         "Clean.Cup": 10,
         "Sweetness": 10,
         "Cupper.Points": 8.58,
         "Total.Cup.Points": 87.17,
         "Moisture": 0.13,
         "Category.One.Defects": 0,
         "Quakers": 0,
         "Color": "Green",
         "Category.Two.Defects": 0,
         "unit_of_measurement": "m",
         "altitude_low_meters": 1320,
         "altitude_high_meters": 1320,
         "altitude_mean_meters": 1320,
         "_deepnote_index_column": 22
        },
        {
         "Owner": "nucoffee",
         "Species": "Arabica",
         "Country.of.Origin": "Brazil",
         "Region": "south of minas",
         "Number.of.Bags": 3,
         "Bag.Weight": "60 kg",
         "Variety": "Bourbon",
         "Processing.Method": "Natural / Dry",
         "Aroma": 8.5,
         "Flavor": 8.5,
         "Aftertaste": 8,
         "Acidity": 8,
         "Body": 8,
         "Balance": 8,
         "Uniformity": 10,
         "Clean.Cup": 10,
         "Sweetness": 10,
         "Cupper.Points": 7.92,
         "Total.Cup.Points": 86.92,
         "Moisture": 0.12,
         "Category.One.Defects": 0,
         "Quakers": 0,
         "Color": "Green",
         "Category.Two.Defects": 2,
         "unit_of_measurement": "m",
         "altitude_low_meters": 1250,
         "altitude_high_meters": 1250,
         "altitude_mean_meters": 1250,
         "_deepnote_index_column": 25
        },
        {
         "Owner": "kabum trading company",
         "Species": "Arabica",
         "Country.of.Origin": "Uganda",
         "Region": "kapchorwa eastern",
         "Number.of.Bags": 100,
         "Bag.Weight": "60 kg",
         "Variety": "SL14",
         "Processing.Method": "Washed / Wet",
         "Aroma": 8.42,
         "Flavor": 8.17,
         "Aftertaste": 8.17,
         "Acidity": 8.17,
         "Body": 7.83,
         "Balance": 7.92,
         "Uniformity": 10,
         "Clean.Cup": 10,
         "Sweetness": 10,
         "Cupper.Points": 8.17,
         "Total.Cup.Points": 86.83,
         "Moisture": 0.12,
         "Category.One.Defects": 0,
         "Quakers": 0,
         "Color": "Green",
         "Category.Two.Defects": 1,
         "unit_of_measurement": "m",
         "altitude_low_meters": 1950,
         "altitude_high_meters": 1950,
         "altitude_mean_meters": 1950,
         "_deepnote_index_column": 27
        },
        {
         "Owner": "bismarck castro",
         "Species": "Arabica",
         "Country.of.Origin": "Honduras",
         "Region": "comayagua",
         "Number.of.Bags": 275,
         "Bag.Weight": "69 kg",
         "Variety": "Caturra",
         "Processing.Method": "nan",
         "Aroma": 8.17,
         "Flavor": 8.08,
         "Aftertaste": 8.08,
         "Acidity": 8,
         "Body": 8.08,
         "Balance": 8,
         "Uniformity": 10,
         "Clean.Cup": 10,
         "Sweetness": 10,
         "Cupper.Points": 8.25,
         "Total.Cup.Points": 86.67,
         "Moisture": 0.1,
         "Category.One.Defects": 0,
         "Quakers": 0,
         "Color": "Green",
         "Category.Two.Defects": 3,
         "unit_of_measurement": "m",
         "altitude_low_meters": 1400,
         "altitude_high_meters": 1400,
         "altitude_mean_meters": 1400,
         "_deepnote_index_column": 28
        },
        {
         "Owner": "lin, che-hao krude 林哲豪",
         "Species": "Arabica",
         "Country.of.Origin": "Taiwan",
         "Region": "leye, alishan township, chiayi county",
         "Number.of.Bags": 20,
         "Bag.Weight": "50 kg",
         "Variety": "Sumatra",
         "Processing.Method": "Pulped natural / honey",
         "Aroma": 8,
         "Flavor": 8,
         "Aftertaste": 8,
         "Acidity": 8.25,
         "Body": 8,
         "Balance": 8.17,
         "Uniformity": 10,
         "Clean.Cup": 10,
         "Sweetness": 10,
         "Cupper.Points": 8.17,
         "Total.Cup.Points": 86.58,
         "Moisture": 0,
         "Category.One.Defects": 0,
         "Quakers": 0,
         "Color": "Green",
         "Category.Two.Defects": 0,
         "unit_of_measurement": "m",
         "altitude_low_meters": 1200,
         "altitude_high_meters": 1200,
         "altitude_mean_meters": 1200,
         "_deepnote_index_column": 29
        },
        {
         "Owner": "nucoffee",
         "Species": "Arabica",
         "Country.of.Origin": "Brazil",
         "Region": "vale da grama",
         "Number.of.Bags": 29,
         "Bag.Weight": "60 kg",
         "Variety": "Bourbon",
         "Processing.Method": "Natural / Dry",
         "Aroma": 8.5,
         "Flavor": 8.17,
         "Aftertaste": 8,
         "Acidity": 7.75,
         "Body": 8,
         "Balance": 8,
         "Uniformity": 10,
         "Clean.Cup": 10,
         "Sweetness": 10,
         "Cupper.Points": 8,
         "Total.Cup.Points": 86.42,
         "Moisture": 0.12,
         "Category.One.Defects": 0,
         "Quakers": 0,
         "Color": "Green",
         "Category.Two.Defects": 2,
         "unit_of_measurement": "m",
         "altitude_low_meters": 1300,
         "altitude_high_meters": 1300,
         "altitude_mean_meters": 1300,
         "_deepnote_index_column": 32
        },
        {
         "Owner": "francisco a mena",
         "Species": "Arabica",
         "Country.of.Origin": "Costa Rica",
         "Region": "west and central valley",
         "Number.of.Bags": 250,
         "Bag.Weight": "2 lbs",
         "Variety": "Caturra",
         "Processing.Method": "Washed / Wet",
         "Aroma": 8.17,
         "Flavor": 7.83,
         "Aftertaste": 8,
         "Acidity": 8.08,
         "Body": 7.83,
         "Balance": 8,
         "Uniformity": 10,
         "Clean.Cup": 10,
         "Sweetness": 10,
         "Cupper.Points": 8.42,
         "Total.Cup.Points": 86.33,
         "Moisture": 0,
         "Category.One.Defects": 0,
         "Quakers": 0,
         "Color": "Blue-Green",
         "Category.Two.Defects": 0,
         "unit_of_measurement": "m",
         "altitude_low_meters": 1300,
         "altitude_high_meters": 1300,
         "altitude_mean_meters": 1300,
         "_deepnote_index_column": 33
        },
        {
         "Owner": "hider abamecha",
         "Species": "Arabica",
         "Country.of.Origin": "Ethiopia",
         "Region": "oromia",
         "Number.of.Bags": 320,
         "Bag.Weight": "60 kg",
         "Variety": "nan",
         "Processing.Method": "Natural / Dry",
         "Aroma": 8,
         "Flavor": 8.08,
         "Aftertaste": 7.92,
         "Acidity": 8,
         "Body": 8.08,
         "Balance": 8.08,
         "Uniformity": 10,
         "Clean.Cup": 10,
         "Sweetness": 10,
         "Cupper.Points": 8.08,
         "Total.Cup.Points": 86.25,
         "Moisture": 0.1,
         "Category.One.Defects": 0,
         "Quakers": 0,
         "Color": "Green",
         "Category.Two.Defects": 3,
         "unit_of_measurement": "m",
         "altitude_low_meters": 1750,
         "altitude_high_meters": 1800,
         "altitude_mean_meters": 1775,
         "_deepnote_index_column": 34
        },
        {
         "Owner": "daniel magu",
         "Species": "Arabica",
         "Country.of.Origin": "Kenya",
         "Region": "muranga",
         "Number.of.Bags": 320,
         "Bag.Weight": "1 kg",
         "Variety": "SL34",
         "Processing.Method": "Washed / Wet",
         "Aroma": 8.08,
         "Flavor": 8,
         "Aftertaste": 8,
         "Acidity": 8.25,
         "Body": 7.92,
         "Balance": 7.92,
         "Uniformity": 10,
         "Clean.Cup": 10,
         "Sweetness": 10,
         "Cupper.Points": 8.08,
         "Total.Cup.Points": 86.25,
         "Moisture": 0.12,
         "Category.One.Defects": 0,
         "Quakers": 0,
         "Color": "Blue-Green",
         "Category.Two.Defects": 1,
         "unit_of_measurement": "m",
         "altitude_low_meters": 1800,
         "altitude_high_meters": 1800,
         "altitude_mean_meters": 1800,
         "_deepnote_index_column": 35
        }
       ],
       "rows_bottom": [
        {
         "Owner": "andrew hetzel",
         "Species": "Robusta",
         "Country.of.Origin": "India",
         "Region": "chikmagalur",
         "Number.of.Bags": 320,
         "Bag.Weight": "2 kg",
         "Variety": "nan",
         "Processing.Method": "nan",
         "Aroma": 7.67,
         "Flavor": 7.75,
         "Aftertaste": 7.83,
         "Acidity": 7.83,
         "Body": 7.92,
         "Balance": 7.75,
         "Uniformity": 10,
         "Clean.Cup": 10,
         "Sweetness": 8,
         "Cupper.Points": 7.83,
         "Total.Cup.Points": 82.58,
         "Moisture": 0,
         "Category.One.Defects": 0,
         "Quakers": 0,
         "Color": "Green",
         "Category.Two.Defects": 0,
         "unit_of_measurement": "m",
         "altitude_low_meters": 750,
         "altitude_high_meters": 750,
         "altitude_mean_meters": 750,
         "_deepnote_index_column": 1317
        },
        {
         "Owner": "nishant gurjer",
         "Species": "Robusta",
         "Country.of.Origin": "India",
         "Region": "chikmagalur karnataka india",
         "Number.of.Bags": 320,
         "Bag.Weight": "60 kg",
         "Variety": "nan",
         "Processing.Method": "Washed / Wet",
         "Aroma": 7.67,
         "Flavor": 7.75,
         "Aftertaste": 7.83,
         "Acidity": 7.67,
         "Body": 7.92,
         "Balance": 7.83,
         "Uniformity": 10,
         "Clean.Cup": 10,
         "Sweetness": 7.92,
         "Cupper.Points": 7.92,
         "Total.Cup.Points": 82.5,
         "Moisture": 0.1,
         "Category.One.Defects": 0,
         "Quakers": 0,
         "Color": "Bluish-Green",
         "Category.Two.Defects": 0,
         "unit_of_measurement": "m",
         "altitude_low_meters": 3140,
         "altitude_high_meters": 3140,
         "altitude_mean_meters": 3140,
         "_deepnote_index_column": 1318
        },
        {
         "Owner": "nishant gurjer",
         "Species": "Robusta",
         "Country.of.Origin": "India",
         "Region": "chikmagalur karnataka",
         "Number.of.Bags": 320,
         "Bag.Weight": "60 kg",
         "Variety": "Other",
         "Processing.Method": "Washed / Wet",
         "Aroma": 7.67,
         "Flavor": 7.75,
         "Aftertaste": 7.58,
         "Acidity": 7.83,
         "Body": 7.83,
         "Balance": 8,
         "Uniformity": 10,
         "Clean.Cup": 10,
         "Sweetness": 7.92,
         "Cupper.Points": 7.92,
         "Total.Cup.Points": 82.5,
         "Moisture": 0.09,
         "Category.One.Defects": 0,
         "Quakers": 0,
         "Color": "Green",
         "Category.Two.Defects": 0,
         "unit_of_measurement": "m",
         "altitude_low_meters": 1000,
         "altitude_high_meters": 1000,
         "altitude_mean_meters": 1000,
         "_deepnote_index_column": 1319
        },
        {
         "Owner": "ugacof",
         "Species": "Robusta",
         "Country.of.Origin": "Uganda",
         "Region": "western",
         "Number.of.Bags": 320,
         "Bag.Weight": "60 kg",
         "Variety": "nan",
         "Processing.Method": "nan",
         "Aroma": 7.67,
         "Flavor": 7.83,
         "Aftertaste": 7.83,
         "Acidity": 7.83,
         "Body": 7.92,
         "Balance": 7.75,
         "Uniformity": 10,
         "Clean.Cup": 10,
         "Sweetness": 7.75,
         "Cupper.Points": 7.83,
         "Total.Cup.Points": 82.42,
         "Moisture": 0.12,
         "Category.One.Defects": 0,
         "Quakers": 0,
         "Color": "Green",
         "Category.Two.Defects": 6,
         "unit_of_measurement": "m",
         "altitude_low_meters": 900,
         "altitude_high_meters": 1300,
         "altitude_mean_meters": 1100,
         "_deepnote_index_column": 1320
        },
        {
         "Owner": "ugacof",
         "Species": "Robusta",
         "Country.of.Origin": "Uganda",
         "Region": "iganga namadrope eastern",
         "Number.of.Bags": 320,
         "Bag.Weight": "60 kg",
         "Variety": "nan",
         "Processing.Method": "nan",
         "Aroma": 7.58,
         "Flavor": 7.92,
         "Aftertaste": 7.75,
         "Acidity": 7.83,
         "Body": 7.5,
         "Balance": 7.67,
         "Uniformity": 10,
         "Clean.Cup": 10,
         "Sweetness": 7.67,
         "Cupper.Points": 7.83,
         "Total.Cup.Points": 81.75,
         "Moisture": 0.12,
         "Category.One.Defects": 0,
         "Quakers": 0,
         "Color": "Green",
         "Category.Two.Defects": 1,
         "unit_of_measurement": "m",
         "altitude_low_meters": 1095,
         "altitude_high_meters": 1095,
         "altitude_mean_meters": 1095,
         "_deepnote_index_column": 1321
        },
        {
         "Owner": "nishant gurjer",
         "Species": "Robusta",
         "Country.of.Origin": "India",
         "Region": "chikmagalur karnataka",
         "Number.of.Bags": 320,
         "Bag.Weight": "60 kg",
         "Variety": "Other",
         "Processing.Method": "Natural / Dry",
         "Aroma": 7.67,
         "Flavor": 7.83,
         "Aftertaste": 7.75,
         "Acidity": 7.5,
         "Body": 7.75,
         "Balance": 7.58,
         "Uniformity": 10,
         "Clean.Cup": 10,
         "Sweetness": 7.75,
         "Cupper.Points": 7.75,
         "Total.Cup.Points": 81.58,
         "Moisture": 0.11,
         "Category.One.Defects": 0,
         "Quakers": 0,
         "Color": "Green",
         "Category.Two.Defects": 0,
         "unit_of_measurement": "m",
         "altitude_low_meters": 1000,
         "altitude_high_meters": 1000,
         "altitude_mean_meters": 1000,
         "_deepnote_index_column": 1322
        },
        {
         "Owner": "andrew hetzel",
         "Species": "Robusta",
         "Country.of.Origin": "India",
         "Region": "chikmagalur",
         "Number.of.Bags": 100,
         "Bag.Weight": "2 kg",
         "Variety": "nan",
         "Processing.Method": "nan",
         "Aroma": 7.58,
         "Flavor": 7.58,
         "Aftertaste": 7.67,
         "Acidity": 7.58,
         "Body": 7.67,
         "Balance": 7.67,
         "Uniformity": 10,
         "Clean.Cup": 10,
         "Sweetness": 7.5,
         "Cupper.Points": 8.33,
         "Total.Cup.Points": 81.58,
         "Moisture": 0,
         "Category.One.Defects": 0,
         "Quakers": 0,
         "Color": "Green",
         "Category.Two.Defects": 1,
         "unit_of_measurement": "m",
         "altitude_low_meters": 750,
         "altitude_high_meters": 750,
         "altitude_mean_meters": 750,
         "_deepnote_index_column": 1323
        },
        {
         "Owner": "kasozi coffee farmers association",
         "Species": "Robusta",
         "Country.of.Origin": "Uganda",
         "Region": "eastern",
         "Number.of.Bags": 1,
         "Bag.Weight": "60 kg",
         "Variety": "nan",
         "Processing.Method": "nan",
         "Aroma": 8,
         "Flavor": 7.75,
         "Aftertaste": 7.75,
         "Acidity": 7.58,
         "Body": 7.67,
         "Balance": 7.5,
         "Uniformity": 10,
         "Clean.Cup": 10,
         "Sweetness": 7.58,
         "Cupper.Points": 7.67,
         "Total.Cup.Points": 81.5,
         "Moisture": 0.11,
         "Category.One.Defects": 0,
         "Quakers": 0,
         "Color": "Green",
         "Category.Two.Defects": 7,
         "unit_of_measurement": "m",
         "altitude_low_meters": 1367,
         "altitude_high_meters": 1367,
         "altitude_mean_meters": 1367,
         "_deepnote_index_column": 1324
        },
        {
         "Owner": "ankole coffee producers coop",
         "Species": "Robusta",
         "Country.of.Origin": "Uganda",
         "Region": "south western",
         "Number.of.Bags": 320,
         "Bag.Weight": "60 kg",
         "Variety": "nan",
         "Processing.Method": "nan",
         "Aroma": 8,
         "Flavor": 7.67,
         "Aftertaste": 7.75,
         "Acidity": 7.5,
         "Body": 7.67,
         "Balance": 7.58,
         "Uniformity": 10,
         "Clean.Cup": 10,
         "Sweetness": 7.58,
         "Cupper.Points": 7.75,
         "Total.Cup.Points": 81.5,
         "Moisture": 0.12,
         "Category.One.Defects": 0,
         "Quakers": 0,
         "Color": "Green",
         "Category.Two.Defects": 2,
         "unit_of_measurement": "m",
         "altitude_low_meters": 1488,
         "altitude_high_meters": 1488,
         "altitude_mean_meters": 1488,
         "_deepnote_index_column": 1325
        },
        {
         "Owner": "andrew hetzel",
         "Species": "Robusta",
         "Country.of.Origin": "India",
         "Region": "chikmagalur",
         "Number.of.Bags": 300,
         "Bag.Weight": "1 kg",
         "Variety": "nan",
         "Processing.Method": "nan",
         "Aroma": 7.75,
         "Flavor": 7.75,
         "Aftertaste": 7.67,
         "Acidity": 7.67,
         "Body": 7.58,
         "Balance": 7.58,
         "Uniformity": 10,
         "Clean.Cup": 10,
         "Sweetness": 7.58,
         "Cupper.Points": 7.83,
         "Total.Cup.Points": 81.42,
         "Moisture": 0,
         "Category.One.Defects": 0,
         "Quakers": 0,
         "Color": "Green",
         "Category.Two.Defects": 0,
         "unit_of_measurement": "m",
         "altitude_low_meters": 1000,
         "altitude_high_meters": 1000,
         "altitude_mean_meters": 1000,
         "_deepnote_index_column": 1326
        },
        {
         "Owner": "andrew hetzel",
         "Species": "Robusta",
         "Country.of.Origin": "India",
         "Region": "chikmagalur",
         "Number.of.Bags": 140,
         "Bag.Weight": "2 kg",
         "Variety": "nan",
         "Processing.Method": "Natural / Dry",
         "Aroma": 7.5,
         "Flavor": 7.5,
         "Aftertaste": 7.25,
         "Acidity": 7.83,
         "Body": 7.67,
         "Balance": 7.83,
         "Uniformity": 10,
         "Clean.Cup": 10,
         "Sweetness": 7.83,
         "Cupper.Points": 7.83,
         "Total.Cup.Points": 81.25,
         "Moisture": 0.13,
         "Category.One.Defects": 0,
         "Quakers": 0,
         "Color": "Blue-Green",
         "Category.Two.Defects": 0,
         "unit_of_measurement": "m",
         "altitude_low_meters": 750,
         "altitude_high_meters": 750,
         "altitude_mean_meters": 750,
         "_deepnote_index_column": 1327
        },
        {
         "Owner": "kawacom uganda ltd",
         "Species": "Robusta",
         "Country.of.Origin": "Uganda",
         "Region": "western",
         "Number.of.Bags": 1,
         "Bag.Weight": "60 kg",
         "Variety": "nan",
         "Processing.Method": "nan",
         "Aroma": 7.33,
         "Flavor": 7.58,
         "Aftertaste": 7.5,
         "Acidity": 7.75,
         "Body": 7.75,
         "Balance": 7.67,
         "Uniformity": 10,
         "Clean.Cup": 10,
         "Sweetness": 7.75,
         "Cupper.Points": 7.58,
         "Total.Cup.Points": 80.92,
         "Moisture": 0.12,
         "Category.One.Defects": 0,
         "Quakers": 0,
         "Color": "Green",
         "Category.Two.Defects": 1,
         "unit_of_measurement": "m",
         "altitude_low_meters": 1600,
         "altitude_high_meters": 1600,
         "altitude_mean_meters": 1600,
         "_deepnote_index_column": 1328
        },
        {
         "Owner": "nitubaasa ltd",
         "Species": "Robusta",
         "Country.of.Origin": "Uganda",
         "Region": "western",
         "Number.of.Bags": 20,
         "Bag.Weight": "60 kg",
         "Variety": "nan",
         "Processing.Method": "nan",
         "Aroma": 7.83,
         "Flavor": 7.58,
         "Aftertaste": 7.33,
         "Acidity": 7.67,
         "Body": 7.5,
         "Balance": 7.5,
         "Uniformity": 10,
         "Clean.Cup": 10,
         "Sweetness": 7.75,
         "Cupper.Points": 7.42,
         "Total.Cup.Points": 80.58,
         "Moisture": 0.12,
         "Category.One.Defects": 0,
         "Quakers": 0,
         "Color": "Green",
         "Category.Two.Defects": 2,
         "unit_of_measurement": "m",
         "altitude_low_meters": 1745,
         "altitude_high_meters": 1745,
         "altitude_mean_meters": 1745,
         "_deepnote_index_column": 1329
        },
        {
         "Owner": "mannya coffee project",
         "Species": "Robusta",
         "Country.of.Origin": "Uganda",
         "Region": "southern",
         "Number.of.Bags": 6,
         "Bag.Weight": "60 kg",
         "Variety": "nan",
         "Processing.Method": "nan",
         "Aroma": 7.75,
         "Flavor": 7.42,
         "Aftertaste": 7.33,
         "Acidity": 7.58,
         "Body": 7.67,
         "Balance": 7.58,
         "Uniformity": 10,
         "Clean.Cup": 10,
         "Sweetness": 7.67,
         "Cupper.Points": 7.5,
         "Total.Cup.Points": 80.5,
         "Moisture": 0.12,
         "Category.One.Defects": 0,
         "Quakers": 0,
         "Color": "Green",
         "Category.Two.Defects": 1,
         "unit_of_measurement": "m",
         "altitude_low_meters": 1200,
         "altitude_high_meters": 1200,
         "altitude_mean_meters": 1200,
         "_deepnote_index_column": 1330
        },
        {
         "Owner": "andrew hetzel",
         "Species": "Robusta",
         "Country.of.Origin": "India",
         "Region": "chikmagalur",
         "Number.of.Bags": 100,
         "Bag.Weight": "2 kg",
         "Variety": "nan",
         "Processing.Method": "nan",
         "Aroma": 7.67,
         "Flavor": 7.67,
         "Aftertaste": 7.5,
         "Acidity": 7.33,
         "Body": 7.58,
         "Balance": 7.5,
         "Uniformity": 10,
         "Clean.Cup": 10,
         "Sweetness": 7.42,
         "Cupper.Points": 7.5,
         "Total.Cup.Points": 80.17,
         "Moisture": 0,
         "Category.One.Defects": 0,
         "Quakers": 0,
         "Color": "Bluish-Green",
         "Category.Two.Defects": 1,
         "unit_of_measurement": "m",
         "altitude_low_meters": 750,
         "altitude_high_meters": 750,
         "altitude_mean_meters": 750,
         "_deepnote_index_column": 1331
        },
        {
         "Owner": "andrew hetzel",
         "Species": "Robusta",
         "Country.of.Origin": "India",
         "Region": "chikmagalur",
         "Number.of.Bags": 250,
         "Bag.Weight": "2 kg",
         "Variety": "nan",
         "Processing.Method": "Natural / Dry",
         "Aroma": 7.58,
         "Flavor": 7.42,
         "Aftertaste": 7.42,
         "Acidity": 7.83,
         "Body": 7.42,
         "Balance": 7.5,
         "Uniformity": 10,
         "Clean.Cup": 10,
         "Sweetness": 7.42,
         "Cupper.Points": 7.58,
         "Total.Cup.Points": 80.17,
         "Moisture": 0,
         "Category.One.Defects": 0,
         "Quakers": 0,
         "Color": "Green",
         "Category.Two.Defects": 0,
         "unit_of_measurement": "m",
         "altitude_low_meters": 750,
         "altitude_high_meters": 750,
         "altitude_mean_meters": 750,
         "_deepnote_index_column": 1332
        },
        {
         "Owner": "andrew hetzel",
         "Species": "Robusta",
         "Country.of.Origin": "United States",
         "Region": "chikmagalur",
         "Number.of.Bags": 100,
         "Bag.Weight": "1 kg",
         "Variety": "Arusha",
         "Processing.Method": "Natural / Dry",
         "Aroma": 7.92,
         "Flavor": 7.5,
         "Aftertaste": 7.42,
         "Acidity": 7.42,
         "Body": 7.42,
         "Balance": 7.42,
         "Uniformity": 9.33,
         "Clean.Cup": 10,
         "Sweetness": 7.58,
         "Cupper.Points": 7.33,
         "Total.Cup.Points": 79.33,
         "Moisture": 0,
         "Category.One.Defects": 0,
         "Quakers": 0,
         "Color": "Green",
         "Category.Two.Defects": 0,
         "unit_of_measurement": "m",
         "altitude_low_meters": 3000,
         "altitude_high_meters": 3000,
         "altitude_mean_meters": 3000,
         "_deepnote_index_column": 1333
        },
        {
         "Owner": "luis robles",
         "Species": "Robusta",
         "Country.of.Origin": "Ecuador",
         "Region": "san juan, playas",
         "Number.of.Bags": 1,
         "Bag.Weight": "2 kg",
         "Variety": "nan",
         "Processing.Method": "nan",
         "Aroma": 7.5,
         "Flavor": 7.67,
         "Aftertaste": 7.75,
         "Acidity": 7.75,
         "Body": 5.17,
         "Balance": 5.25,
         "Uniformity": 10,
         "Clean.Cup": 10,
         "Sweetness": 8.42,
         "Cupper.Points": 8.58,
         "Total.Cup.Points": 78.08,
         "Moisture": 0,
         "Category.One.Defects": 0,
         "Quakers": 0,
         "Color": "Blue-Green",
         "Category.Two.Defects": 0,
         "unit_of_measurement": "m",
         "altitude_low_meters": 40,
         "altitude_high_meters": 40,
         "altitude_mean_meters": 40,
         "_deepnote_index_column": 1335
        }
       ]
      },
      "text/plain": "                       Owner  Species Country.of.Origin  \\\n0                  metad plc  Arabica          Ethiopia   \n1                  metad plc  Arabica          Ethiopia   \n3        yidnekachew dabessa  Arabica          Ethiopia   \n4                  metad plc  Arabica          Ethiopia   \n9     diamond enterprise plc  Arabica          Ethiopia   \n...                      ...      ...               ...   \n1330   mannya coffee project  Robusta            Uganda   \n1331           andrew hetzel  Robusta             India   \n1332           andrew hetzel  Robusta             India   \n1333           andrew hetzel  Robusta     United States   \n1335             luis robles  Robusta           Ecuador   \n\n                           Region  Number.of.Bags Bag.Weight Variety  \\\n0                    guji-hambela             300      60 kg     NaN   \n1                    guji-hambela             300      60 kg   Other   \n3                          oromia             320      60 kg     NaN   \n4                    guji-hambela             300      60 kg   Other   \n9     snnp/kaffa zone,gimbowereda              50      60 kg   Other   \n...                           ...             ...        ...     ...   \n1330                     southern               6      60 kg     NaN   \n1331                  chikmagalur             100       2 kg     NaN   \n1332                  chikmagalur             250       2 kg     NaN   \n1333                  chikmagalur             100       1 kg  Arusha   \n1335             san juan, playas               1       2 kg     NaN   \n\n     Processing.Method  Aroma  Flavor  ...  Total.Cup.Points  Moisture  \\\n0         Washed / Wet   8.67    8.83  ...             90.58      0.12   \n1         Washed / Wet   8.75    8.67  ...             89.92      0.12   \n3        Natural / Dry   8.17    8.58  ...             89.00      0.11   \n4         Washed / Wet   8.25    8.50  ...             88.83      0.12   \n9        Natural / Dry   8.08    8.58  ...             88.25      0.10   \n...                ...    ...     ...  ...               ...       ...   \n1330               NaN   7.75    7.42  ...             80.50      0.12   \n1331               NaN   7.67    7.67  ...             80.17      0.00   \n1332     Natural / Dry   7.58    7.42  ...             80.17      0.00   \n1333     Natural / Dry   7.92    7.50  ...             79.33      0.00   \n1335               NaN   7.50    7.67  ...             78.08      0.00   \n\n      Category.One.Defects  Quakers         Color  Category.Two.Defects  \\\n0                        0      0.0         Green                     0   \n1                        0      0.0         Green                     1   \n3                        0      0.0         Green                     2   \n4                        0      0.0         Green                     2   \n9                        0      0.0         Green                     4   \n...                    ...      ...           ...                   ...   \n1330                     0      0.0         Green                     1   \n1331                     0      0.0  Bluish-Green                     1   \n1332                     0      0.0         Green                     0   \n1333                     0      0.0         Green                     0   \n1335                     0      0.0    Blue-Green                     0   \n\n      unit_of_measurement  altitude_low_meters  altitude_high_meters  \\\n0                       m               1950.0                2200.0   \n1                       m               1950.0                2200.0   \n3                       m               1800.0                2200.0   \n4                       m               1950.0                2200.0   \n9                       m               1795.0                1850.0   \n...                   ...                  ...                   ...   \n1330                    m               1200.0                1200.0   \n1331                    m                750.0                 750.0   \n1332                    m                750.0                 750.0   \n1333                    m               3000.0                3000.0   \n1335                    m                 40.0                  40.0   \n\n      altitude_mean_meters  \n0                   2075.0  \n1                   2075.0  \n3                   2000.0  \n4                   2075.0  \n9                   1822.5  \n...                    ...  \n1330                1200.0  \n1331                 750.0  \n1332                 750.0  \n1333                3000.0  \n1335                  40.0  \n\n[968 rows x 28 columns]",
      "text/html": "<div>\n<style scoped>\n    .dataframe tbody tr th:only-of-type {\n        vertical-align: middle;\n    }\n\n    .dataframe tbody tr th {\n        vertical-align: top;\n    }\n\n    .dataframe thead th {\n        text-align: right;\n    }\n</style>\n<table border=\"1\" class=\"dataframe\">\n  <thead>\n    <tr style=\"text-align: right;\">\n      <th></th>\n      <th>Owner</th>\n      <th>Species</th>\n      <th>Country.of.Origin</th>\n      <th>Region</th>\n      <th>Number.of.Bags</th>\n      <th>Bag.Weight</th>\n      <th>Variety</th>\n      <th>Processing.Method</th>\n      <th>Aroma</th>\n      <th>Flavor</th>\n      <th>...</th>\n      <th>Total.Cup.Points</th>\n      <th>Moisture</th>\n      <th>Category.One.Defects</th>\n      <th>Quakers</th>\n      <th>Color</th>\n      <th>Category.Two.Defects</th>\n      <th>unit_of_measurement</th>\n      <th>altitude_low_meters</th>\n      <th>altitude_high_meters</th>\n      <th>altitude_mean_meters</th>\n    </tr>\n  </thead>\n  <tbody>\n    <tr>\n      <th>0</th>\n      <td>metad plc</td>\n      <td>Arabica</td>\n      <td>Ethiopia</td>\n      <td>guji-hambela</td>\n      <td>300</td>\n      <td>60 kg</td>\n      <td>NaN</td>\n      <td>Washed / Wet</td>\n      <td>8.67</td>\n      <td>8.83</td>\n      <td>...</td>\n      <td>90.58</td>\n      <td>0.12</td>\n      <td>0</td>\n      <td>0.0</td>\n      <td>Green</td>\n      <td>0</td>\n      <td>m</td>\n      <td>1950.0</td>\n      <td>2200.0</td>\n      <td>2075.0</td>\n    </tr>\n    <tr>\n      <th>1</th>\n      <td>metad plc</td>\n      <td>Arabica</td>\n      <td>Ethiopia</td>\n      <td>guji-hambela</td>\n      <td>300</td>\n      <td>60 kg</td>\n      <td>Other</td>\n      <td>Washed / Wet</td>\n      <td>8.75</td>\n      <td>8.67</td>\n      <td>...</td>\n      <td>89.92</td>\n      <td>0.12</td>\n      <td>0</td>\n      <td>0.0</td>\n      <td>Green</td>\n      <td>1</td>\n      <td>m</td>\n      <td>1950.0</td>\n      <td>2200.0</td>\n      <td>2075.0</td>\n    </tr>\n    <tr>\n      <th>3</th>\n      <td>yidnekachew dabessa</td>\n      <td>Arabica</td>\n      <td>Ethiopia</td>\n      <td>oromia</td>\n      <td>320</td>\n      <td>60 kg</td>\n      <td>NaN</td>\n      <td>Natural / Dry</td>\n      <td>8.17</td>\n      <td>8.58</td>\n      <td>...</td>\n      <td>89.00</td>\n      <td>0.11</td>\n      <td>0</td>\n      <td>0.0</td>\n      <td>Green</td>\n      <td>2</td>\n      <td>m</td>\n      <td>1800.0</td>\n      <td>2200.0</td>\n      <td>2000.0</td>\n    </tr>\n    <tr>\n      <th>4</th>\n      <td>metad plc</td>\n      <td>Arabica</td>\n      <td>Ethiopia</td>\n      <td>guji-hambela</td>\n      <td>300</td>\n      <td>60 kg</td>\n      <td>Other</td>\n      <td>Washed / Wet</td>\n      <td>8.25</td>\n      <td>8.50</td>\n      <td>...</td>\n      <td>88.83</td>\n      <td>0.12</td>\n      <td>0</td>\n      <td>0.0</td>\n      <td>Green</td>\n      <td>2</td>\n      <td>m</td>\n      <td>1950.0</td>\n      <td>2200.0</td>\n      <td>2075.0</td>\n    </tr>\n    <tr>\n      <th>9</th>\n      <td>diamond enterprise plc</td>\n      <td>Arabica</td>\n      <td>Ethiopia</td>\n      <td>snnp/kaffa zone,gimbowereda</td>\n      <td>50</td>\n      <td>60 kg</td>\n      <td>Other</td>\n      <td>Natural / Dry</td>\n      <td>8.08</td>\n      <td>8.58</td>\n      <td>...</td>\n      <td>88.25</td>\n      <td>0.10</td>\n      <td>0</td>\n      <td>0.0</td>\n      <td>Green</td>\n      <td>4</td>\n      <td>m</td>\n      <td>1795.0</td>\n      <td>1850.0</td>\n      <td>1822.5</td>\n    </tr>\n    <tr>\n      <th>...</th>\n      <td>...</td>\n      <td>...</td>\n      <td>...</td>\n      <td>...</td>\n      <td>...</td>\n      <td>...</td>\n      <td>...</td>\n      <td>...</td>\n      <td>...</td>\n      <td>...</td>\n      <td>...</td>\n      <td>...</td>\n      <td>...</td>\n      <td>...</td>\n      <td>...</td>\n      <td>...</td>\n      <td>...</td>\n      <td>...</td>\n      <td>...</td>\n      <td>...</td>\n      <td>...</td>\n    </tr>\n    <tr>\n      <th>1330</th>\n      <td>mannya coffee project</td>\n      <td>Robusta</td>\n      <td>Uganda</td>\n      <td>southern</td>\n      <td>6</td>\n      <td>60 kg</td>\n      <td>NaN</td>\n      <td>NaN</td>\n      <td>7.75</td>\n      <td>7.42</td>\n      <td>...</td>\n      <td>80.50</td>\n      <td>0.12</td>\n      <td>0</td>\n      <td>0.0</td>\n      <td>Green</td>\n      <td>1</td>\n      <td>m</td>\n      <td>1200.0</td>\n      <td>1200.0</td>\n      <td>1200.0</td>\n    </tr>\n    <tr>\n      <th>1331</th>\n      <td>andrew hetzel</td>\n      <td>Robusta</td>\n      <td>India</td>\n      <td>chikmagalur</td>\n      <td>100</td>\n      <td>2 kg</td>\n      <td>NaN</td>\n      <td>NaN</td>\n      <td>7.67</td>\n      <td>7.67</td>\n      <td>...</td>\n      <td>80.17</td>\n      <td>0.00</td>\n      <td>0</td>\n      <td>0.0</td>\n      <td>Bluish-Green</td>\n      <td>1</td>\n      <td>m</td>\n      <td>750.0</td>\n      <td>750.0</td>\n      <td>750.0</td>\n    </tr>\n    <tr>\n      <th>1332</th>\n      <td>andrew hetzel</td>\n      <td>Robusta</td>\n      <td>India</td>\n      <td>chikmagalur</td>\n      <td>250</td>\n      <td>2 kg</td>\n      <td>NaN</td>\n      <td>Natural / Dry</td>\n      <td>7.58</td>\n      <td>7.42</td>\n      <td>...</td>\n      <td>80.17</td>\n      <td>0.00</td>\n      <td>0</td>\n      <td>0.0</td>\n      <td>Green</td>\n      <td>0</td>\n      <td>m</td>\n      <td>750.0</td>\n      <td>750.0</td>\n      <td>750.0</td>\n    </tr>\n    <tr>\n      <th>1333</th>\n      <td>andrew hetzel</td>\n      <td>Robusta</td>\n      <td>United States</td>\n      <td>chikmagalur</td>\n      <td>100</td>\n      <td>1 kg</td>\n      <td>Arusha</td>\n      <td>Natural / Dry</td>\n      <td>7.92</td>\n      <td>7.50</td>\n      <td>...</td>\n      <td>79.33</td>\n      <td>0.00</td>\n      <td>0</td>\n      <td>0.0</td>\n      <td>Green</td>\n      <td>0</td>\n      <td>m</td>\n      <td>3000.0</td>\n      <td>3000.0</td>\n      <td>3000.0</td>\n    </tr>\n    <tr>\n      <th>1335</th>\n      <td>luis robles</td>\n      <td>Robusta</td>\n      <td>Ecuador</td>\n      <td>san juan, playas</td>\n      <td>1</td>\n      <td>2 kg</td>\n      <td>NaN</td>\n      <td>NaN</td>\n      <td>7.50</td>\n      <td>7.67</td>\n      <td>...</td>\n      <td>78.08</td>\n      <td>0.00</td>\n      <td>0</td>\n      <td>0.0</td>\n      <td>Blue-Green</td>\n      <td>0</td>\n      <td>m</td>\n      <td>40.0</td>\n      <td>40.0</td>\n      <td>40.0</td>\n    </tr>\n  </tbody>\n</table>\n<p>968 rows × 28 columns</p>\n</div>"
     },
     "metadata": {}
    }
   ]
  },
  {
   "cell_type": "code",
   "metadata": {
    "tags": [],
    "cell_id": "00014-1cd16dd6-62a1-4955-8186-a6e63d5f3bfd",
    "deepnote_to_be_reexecuted": false,
    "source_hash": "8b89ab51",
    "execution_start": 1627568775377,
    "execution_millis": 9,
    "deepnote_cell_type": "code"
   },
   "source": "# Terminamos de limpiar los datos\ndf = df_to_clean[df_to_clean.index.isin(df_to_clean['Variety'].dropna().index)]\ndf.shape\n",
   "execution_count": null,
   "outputs": [
    {
     "output_type": "execute_result",
     "execution_count": 35,
     "data": {
      "text/plain": "(911, 28)"
     },
     "metadata": {}
    }
   ]
  },
  {
   "cell_type": "code",
   "metadata": {
    "tags": [],
    "cell_id": "00014-39ead000-81b0-4baa-bfba-380f5d33a722",
    "deepnote_to_be_reexecuted": false,
    "source_hash": "7b22db39",
    "execution_start": 1627568778539,
    "execution_millis": 232,
    "deepnote_cell_type": "code"
   },
   "source": "# Vamos a seguir limpiando el dataset, y vemos que la columna df['altitude_mean_meters'], tiene valores en \n# pies y en metros asi que vamos a unificarla y dejar\nfor i in range(len(df['altitude_mean_meters'])):\n    if df['altitude_mean_meters'].iloc[i] > 2500 or df['altitude_mean_meters'].iloc[i] < 100:\n        df['altitude_mean_meters'].iloc[i] = 0\n        \n\nsns.boxplot(data = df, x = 'altitude_mean_meters')\n# Arreglmos la altura sobre el nivel del mar que son datos erronios, pero los otrso datos \n# como sabor aroma si nos interesa un poco\n",
   "execution_count": null,
   "outputs": [
    {
     "name": "stderr",
     "text": "/shared-libs/python3.7/py/lib/python3.7/site-packages/pandas/core/indexing.py:1637: SettingWithCopyWarning: \nA value is trying to be set on a copy of a slice from a DataFrame\n\nSee the caveats in the documentation: https://pandas.pydata.org/pandas-docs/stable/user_guide/indexing.html#returning-a-view-versus-a-copy\n  self._setitem_single_block(indexer, value, name)\n/shared-libs/python3.7/py/lib/python3.7/site-packages/pandas/core/indexing.py:692: SettingWithCopyWarning: \nA value is trying to be set on a copy of a slice from a DataFrame\n\nSee the caveats in the documentation: https://pandas.pydata.org/pandas-docs/stable/user_guide/indexing.html#returning-a-view-versus-a-copy\n  iloc._setitem_with_indexer(indexer, value, self.name)\n",
     "output_type": "stream"
    },
    {
     "output_type": "execute_result",
     "execution_count": 36,
     "data": {
      "text/plain": "<AxesSubplot:xlabel='altitude_mean_meters'>"
     },
     "metadata": {}
    },
    {
     "data": {
      "text/plain": "<Figure size 432x288 with 1 Axes>",
      "image/png": "[encoded data removed]"
     },
     "metadata": {
      "needs_background": "light",
      "image/png": {
       "width": 352,
       "height": 263
      }
     },
     "output_type": "display_data"
    }
   ]
  },
  {
   "cell_type": "markdown",
   "source": "## Data Exploration",
   "metadata": {
    "tags": [],
    "cell_id": "00016-bb8049af-1557-47a5-ac02-959f7974a81d",
    "is_collapsed": false,
    "deepnote_cell_type": "text-cell-h2"
   }
  },
  {
   "cell_type": "code",
   "metadata": {
    "tags": [],
    "cell_id": "00017-b9223988-888b-47b4-91d9-e772465a6f2e",
    "deepnote_to_be_reexecuted": false,
    "source_hash": "be3389e0",
    "execution_start": 1627586133567,
    "execution_millis": 12634,
    "deepnote_cell_type": "code"
   },
   "source": "sns.pairplot(df, vars = ['Aroma', 'Flavor', 'Aftertaste', 'Acidity', 'Body'], hue='cat_calidad')",
   "execution_count": null,
   "outputs": [
    {
     "name": "stderr",
     "text": "/shared-libs/python3.7/py/lib/python3.7/site-packages/seaborn/distributions.py:306: UserWarning: Dataset has 0 variance; skipping density estimate.\n  warnings.warn(msg, UserWarning)\n/shared-libs/python3.7/py/lib/python3.7/site-packages/seaborn/distributions.py:306: UserWarning: Dataset has 0 variance; skipping density estimate.\n  warnings.warn(msg, UserWarning)\n/shared-libs/python3.7/py/lib/python3.7/site-packages/seaborn/distributions.py:306: UserWarning: Dataset has 0 variance; skipping density estimate.\n  warnings.warn(msg, UserWarning)\n/shared-libs/python3.7/py/lib/python3.7/site-packages/seaborn/distributions.py:306: UserWarning: Dataset has 0 variance; skipping density estimate.\n  warnings.warn(msg, UserWarning)\n/shared-libs/python3.7/py/lib/python3.7/site-packages/seaborn/distributions.py:306: UserWarning: Dataset has 0 variance; skipping density estimate.\n  warnings.warn(msg, UserWarning)\n",
     "output_type": "stream"
    },
    {
     "output_type": "execute_result",
     "execution_count": 279,
     "data": {
      "text/plain": "<seaborn.axisgrid.PairGrid at 0x7f1c8849d690>"
     },
     "metadata": {}
    },
    {
     "data": {
      "text/plain": "<Figure size 1066.35x900 with 30 Axes>",
      "image/png": "[encoded data removed]"
     },
     "metadata": {
      "image/png": {
       "width": 1058,
       "height": 884
      }
     },
     "output_type": "display_data"
    }
   ]
  },
  {
   "cell_type": "code",
   "metadata": {
    "tags": [],
    "cell_id": "00018-de7de1c0-c570-49a0-8533-4369b169d577",
    "deepnote_to_be_reexecuted": false,
    "source_hash": "1a095f",
    "execution_start": 1627568803622,
    "execution_millis": 15,
    "deepnote_cell_type": "code"
   },
   "source": " calidades = ['Cafe Corriente', 'Cafe Especialidad', 'Ejemplar Regional plus','Cafe Ejemplar', 'Cafe Unico']\n df['cat_calidad'] = pd.cut(df['Total.Cup.Points'], bins=[70, 80, 83, 89, 95, 100], labels= calidades)",
   "execution_count": null,
   "outputs": [
    {
     "name": "stderr",
     "text": "/shared-libs/python3.7/py-core/lib/python3.7/site-packages/ipykernel_launcher.py:2: SettingWithCopyWarning: \nA value is trying to be set on a copy of a slice from a DataFrame.\nTry using .loc[row_indexer,col_indexer] = value instead\n\nSee the caveats in the documentation: https://pandas.pydata.org/pandas-docs/stable/user_guide/indexing.html#returning-a-view-versus-a-copy\n  \n",
     "output_type": "stream"
    }
   ]
  },
  {
   "cell_type": "code",
   "metadata": {
    "tags": [],
    "cell_id": "00019-dc62aa55-f207-4c4b-9352-c5693df6abd0",
    "deepnote_to_be_reexecuted": false,
    "source_hash": "22d4daa5",
    "execution_start": 1627568806868,
    "execution_millis": 197,
    "deepnote_cell_type": "code"
   },
   "source": "# Veamos como estan distribuidos las calidades en el dataset \ncal = df['cat_calidad'].value_counts(normalize=True)*100\ncal.plot(kind ='bar', figsize = (10,7), rot = 45)\nplt.title('Porcentaje por calida de cafe')\nplt.ylabel('% de cantidad')",
   "execution_count": null,
   "outputs": [
    {
     "output_type": "execute_result",
     "execution_count": 39,
     "data": {
      "text/plain": "Text(0, 0.5, '% de cantidad')"
     },
     "metadata": {}
    },
    {
     "data": {
      "text/plain": "<Figure size 720x504 with 1 Axes>",
      "image/png": "[encoded data removed]"
     },
     "metadata": {
      "needs_background": "light",
      "image/png": {
       "width": 606,
       "height": 505
      }
     },
     "output_type": "display_data"
    }
   ]
  },
  {
   "cell_type": "code",
   "metadata": {
    "tags": [],
    "cell_id": "00021-629698bf-3ae5-46c6-9d08-9eccd085e175",
    "deepnote_to_be_reexecuted": false,
    "source_hash": "4a3f8e5f",
    "execution_start": 1627574266310,
    "execution_millis": 88,
    "deepnote_cell_type": "code"
   },
   "source": "# Vamos a agrupar por categoria y vamos a hacer un promedio con los valores de estos para \n# tener una idea de los valores de estas categoorias\ndf_comp = df.groupby('cat_calidad').mean()\ndf_comp = df_comp.iloc[:4,1:11]\ndf_comp",
   "execution_count": null,
   "outputs": [
    {
     "output_type": "execute_result",
     "execution_count": 93,
     "data": {
      "application/vnd.deepnote.dataframe.v2+json": {
       "row_count": 4,
       "column_count": 10,
       "columns": [
        {
         "name": "Aroma",
         "dtype": "float64",
         "stats": {
          "unique_count": 4,
          "nan_count": 0,
          "min": "7.226923076923076",
          "max": "8.75",
          "histogram": [
           {
            "bin_start": 7.226923076923076,
            "bin_end": 7.379230769230769,
            "count": 1
           },
           {
            "bin_start": 7.379230769230769,
            "bin_end": 7.531538461538461,
            "count": 1
           },
           {
            "bin_start": 7.531538461538461,
            "bin_end": 7.6838461538461535,
            "count": 0
           },
           {
            "bin_start": 7.6838461538461535,
            "bin_end": 7.836153846153846,
            "count": 1
           },
           {
            "bin_start": 7.836153846153846,
            "bin_end": 7.988461538461538,
            "count": 0
           },
           {
            "bin_start": 7.988461538461538,
            "bin_end": 8.14076923076923,
            "count": 0
           },
           {
            "bin_start": 8.14076923076923,
            "bin_end": 8.293076923076923,
            "count": 0
           },
           {
            "bin_start": 8.293076923076923,
            "bin_end": 8.445384615384615,
            "count": 0
           },
           {
            "bin_start": 8.445384615384615,
            "bin_end": 8.597692307692308,
            "count": 0
           },
           {
            "bin_start": 8.597692307692308,
            "bin_end": 8.75,
            "count": 1
           }
          ]
         }
        },
        {
         "name": "Flavor",
         "dtype": "float64",
         "stats": {
          "unique_count": 4,
          "nan_count": 0,
          "min": "7.070256410256412",
          "max": "8.67",
          "histogram": [
           {
            "bin_start": 7.070256410256412,
            "bin_end": 7.23023076923077,
            "count": 1
           },
           {
            "bin_start": 7.23023076923077,
            "bin_end": 7.390205128205129,
            "count": 0
           },
           {
            "bin_start": 7.390205128205129,
            "bin_end": 7.550179487179488,
            "count": 1
           },
           {
            "bin_start": 7.550179487179488,
            "bin_end": 7.710153846153847,
            "count": 0
           },
           {
            "bin_start": 7.710153846153847,
            "bin_end": 7.870128205128205,
            "count": 1
           },
           {
            "bin_start": 7.870128205128205,
            "bin_end": 8.030102564102565,
            "count": 0
           },
           {
            "bin_start": 8.030102564102565,
            "bin_end": 8.190076923076923,
            "count": 0
           },
           {
            "bin_start": 8.190076923076923,
            "bin_end": 8.350051282051282,
            "count": 0
           },
           {
            "bin_start": 8.350051282051282,
            "bin_end": 8.51002564102564,
            "count": 0
           },
           {
            "bin_start": 8.51002564102564,
            "bin_end": 8.67,
            "count": 1
           }
          ]
         }
        },
        {
         "name": "Aftertaste",
         "dtype": "float64",
         "stats": {
          "unique_count": 4,
          "nan_count": 0,
          "min": "6.910598290598291",
          "max": "8.5",
          "histogram": [
           {
            "bin_start": 6.910598290598291,
            "bin_end": 7.069538461538461,
            "count": 1
           },
           {
            "bin_start": 7.069538461538461,
            "bin_end": 7.228478632478632,
            "count": 0
           },
           {
            "bin_start": 7.228478632478632,
            "bin_end": 7.387418803418804,
            "count": 1
           },
           {
            "bin_start": 7.387418803418804,
            "bin_end": 7.5463589743589745,
            "count": 0
           },
           {
            "bin_start": 7.5463589743589745,
            "bin_end": 7.705299145299145,
            "count": 1
           },
           {
            "bin_start": 7.705299145299145,
            "bin_end": 7.864239316239316,
            "count": 0
           },
           {
            "bin_start": 7.864239316239316,
            "bin_end": 8.023179487179487,
            "count": 0
           },
           {
            "bin_start": 8.023179487179487,
            "bin_end": 8.182119658119658,
            "count": 0
           },
           {
            "bin_start": 8.182119658119658,
            "bin_end": 8.341059829059828,
            "count": 0
           },
           {
            "bin_start": 8.341059829059828,
            "bin_end": 8.5,
            "count": 1
           }
          ]
         }
        },
        {
         "name": "Acidity",
         "dtype": "float64",
         "stats": {
          "unique_count": 4,
          "nan_count": 0,
          "min": "7.19923076923077",
          "max": "8.58",
          "histogram": [
           {
            "bin_start": 7.19923076923077,
            "bin_end": 7.337307692307693,
            "count": 1
           },
           {
            "bin_start": 7.337307692307693,
            "bin_end": 7.475384615384616,
            "count": 1
           },
           {
            "bin_start": 7.475384615384616,
            "bin_end": 7.6134615384615385,
            "count": 0
           },
           {
            "bin_start": 7.6134615384615385,
            "bin_end": 7.751538461538462,
            "count": 0
           },
           {
            "bin_start": 7.751538461538462,
            "bin_end": 7.889615384615385,
            "count": 1
           },
           {
            "bin_start": 7.889615384615385,
            "bin_end": 8.027692307692307,
            "count": 0
           },
           {
            "bin_start": 8.027692307692307,
            "bin_end": 8.16576923076923,
            "count": 0
           },
           {
            "bin_start": 8.16576923076923,
            "bin_end": 8.303846153846154,
            "count": 0
           },
           {
            "bin_start": 8.303846153846154,
            "bin_end": 8.441923076923077,
            "count": 0
           },
           {
            "bin_start": 8.441923076923077,
            "bin_end": 8.58,
            "count": 1
           }
          ]
         }
        },
        {
         "name": "Body",
         "dtype": "float64",
         "stats": {
          "unique_count": 4,
          "nan_count": 0,
          "min": "7.229572649572652",
          "max": "8.42",
          "histogram": [
           {
            "bin_start": 7.229572649572652,
            "bin_end": 7.348615384615386,
            "count": 1
           },
           {
            "bin_start": 7.348615384615386,
            "bin_end": 7.467658119658122,
            "count": 1
           },
           {
            "bin_start": 7.467658119658122,
            "bin_end": 7.586700854700856,
            "count": 0
           },
           {
            "bin_start": 7.586700854700856,
            "bin_end": 7.705743589743591,
            "count": 0
           },
           {
            "bin_start": 7.705743589743591,
            "bin_end": 7.824786324786325,
            "count": 1
           },
           {
            "bin_start": 7.824786324786325,
            "bin_end": 7.943829059829061,
            "count": 0
           },
           {
            "bin_start": 7.943829059829061,
            "bin_end": 8.062871794871796,
            "count": 0
           },
           {
            "bin_start": 8.062871794871796,
            "bin_end": 8.18191452991453,
            "count": 0
           },
           {
            "bin_start": 8.18191452991453,
            "bin_end": 8.300957264957265,
            "count": 0
           },
           {
            "bin_start": 8.300957264957265,
            "bin_end": 8.42,
            "count": 1
           }
          ]
         }
        },
        {
         "name": "Balance",
         "dtype": "float64",
         "stats": {
          "unique_count": 4,
          "nan_count": 0,
          "min": "7.055555555555559",
          "max": "8.42",
          "histogram": [
           {
            "bin_start": 7.055555555555559,
            "bin_end": 7.192000000000003,
            "count": 1
           },
           {
            "bin_start": 7.192000000000003,
            "bin_end": 7.328444444444447,
            "count": 0
           },
           {
            "bin_start": 7.328444444444447,
            "bin_end": 7.464888888888892,
            "count": 1
           },
           {
            "bin_start": 7.464888888888892,
            "bin_end": 7.6013333333333355,
            "count": 0
           },
           {
            "bin_start": 7.6013333333333355,
            "bin_end": 7.737777777777779,
            "count": 0
           },
           {
            "bin_start": 7.737777777777779,
            "bin_end": 7.874222222222223,
            "count": 1
           },
           {
            "bin_start": 7.874222222222223,
            "bin_end": 8.010666666666667,
            "count": 0
           },
           {
            "bin_start": 8.010666666666667,
            "bin_end": 8.147111111111112,
            "count": 0
           },
           {
            "bin_start": 8.147111111111112,
            "bin_end": 8.283555555555555,
            "count": 0
           },
           {
            "bin_start": 8.283555555555555,
            "bin_end": 8.42,
            "count": 1
           }
          ]
         }
        },
        {
         "name": "Uniformity",
         "dtype": "float64",
         "stats": {
          "unique_count": 4,
          "nan_count": 0,
          "min": "9.429829059829059",
          "max": "10.0",
          "histogram": [
           {
            "bin_start": 9.429829059829059,
            "bin_end": 9.486846153846153,
            "count": 1
           },
           {
            "bin_start": 9.486846153846153,
            "bin_end": 9.543863247863246,
            "count": 0
           },
           {
            "bin_start": 9.543863247863246,
            "bin_end": 9.600880341880341,
            "count": 0
           },
           {
            "bin_start": 9.600880341880341,
            "bin_end": 9.657897435897436,
            "count": 0
           },
           {
            "bin_start": 9.657897435897436,
            "bin_end": 9.71491452991453,
            "count": 0
           },
           {
            "bin_start": 9.71491452991453,
            "bin_end": 9.771931623931623,
            "count": 0
           },
           {
            "bin_start": 9.771931623931623,
            "bin_end": 9.828948717948718,
            "count": 0
           },
           {
            "bin_start": 9.828948717948718,
            "bin_end": 9.885965811965812,
            "count": 0
           },
           {
            "bin_start": 9.885965811965812,
            "bin_end": 9.942982905982905,
            "count": 1
           },
           {
            "bin_start": 9.942982905982905,
            "bin_end": 10,
            "count": 2
           }
          ]
         }
        },
        {
         "name": "Clean.Cup",
         "dtype": "float64",
         "stats": {
          "unique_count": 4,
          "nan_count": 0,
          "min": "9.21333333333334",
          "max": "10.0",
          "histogram": [
           {
            "bin_start": 9.21333333333334,
            "bin_end": 9.292000000000005,
            "count": 1
           },
           {
            "bin_start": 9.292000000000005,
            "bin_end": 9.370666666666672,
            "count": 0
           },
           {
            "bin_start": 9.370666666666672,
            "bin_end": 9.449333333333339,
            "count": 0
           },
           {
            "bin_start": 9.449333333333339,
            "bin_end": 9.528000000000004,
            "count": 0
           },
           {
            "bin_start": 9.528000000000004,
            "bin_end": 9.60666666666667,
            "count": 0
           },
           {
            "bin_start": 9.60666666666667,
            "bin_end": 9.685333333333336,
            "count": 0
           },
           {
            "bin_start": 9.685333333333336,
            "bin_end": 9.764000000000003,
            "count": 0
           },
           {
            "bin_start": 9.764000000000003,
            "bin_end": 9.842666666666668,
            "count": 0
           },
           {
            "bin_start": 9.842666666666668,
            "bin_end": 9.921333333333333,
            "count": 0
           },
           {
            "bin_start": 9.921333333333333,
            "bin_end": 10,
            "count": 3
           }
          ]
         }
        },
        {
         "name": "Sweetness",
         "dtype": "float64",
         "stats": {
          "unique_count": 4,
          "nan_count": 0,
          "min": "9.83666666666667",
          "max": "10.0",
          "histogram": [
           {
            "bin_start": 9.83666666666667,
            "bin_end": 9.853000000000003,
            "count": 1
           },
           {
            "bin_start": 9.853000000000003,
            "bin_end": 9.869333333333335,
            "count": 0
           },
           {
            "bin_start": 9.869333333333335,
            "bin_end": 9.885666666666669,
            "count": 0
           },
           {
            "bin_start": 9.885666666666669,
            "bin_end": 9.902000000000001,
            "count": 0
           },
           {
            "bin_start": 9.902000000000001,
            "bin_end": 9.918333333333335,
            "count": 0
           },
           {
            "bin_start": 9.918333333333335,
            "bin_end": 9.934666666666669,
            "count": 0
           },
           {
            "bin_start": 9.934666666666669,
            "bin_end": 9.951,
            "count": 0
           },
           {
            "bin_start": 9.951,
            "bin_end": 9.967333333333334,
            "count": 1
           },
           {
            "bin_start": 9.967333333333334,
            "bin_end": 9.983666666666666,
            "count": 0
           },
           {
            "bin_start": 9.983666666666666,
            "bin_end": 10,
            "count": 2
           }
          ]
         }
        },
        {
         "name": "Cupper.Points",
         "dtype": "float64",
         "stats": {
          "unique_count": 4,
          "nan_count": 0,
          "min": "6.9340170940170935",
          "max": "8.58",
          "histogram": [
           {
            "bin_start": 6.9340170940170935,
            "bin_end": 7.0986153846153845,
            "count": 1
           },
           {
            "bin_start": 7.0986153846153845,
            "bin_end": 7.263213675213675,
            "count": 0
           },
           {
            "bin_start": 7.263213675213675,
            "bin_end": 7.427811965811966,
            "count": 1
           },
           {
            "bin_start": 7.427811965811966,
            "bin_end": 7.592410256410256,
            "count": 0
           },
           {
            "bin_start": 7.592410256410256,
            "bin_end": 7.757008547008547,
            "count": 0
           },
           {
            "bin_start": 7.757008547008547,
            "bin_end": 7.921606837606838,
            "count": 1
           },
           {
            "bin_start": 7.921606837606838,
            "bin_end": 8.086205128205128,
            "count": 0
           },
           {
            "bin_start": 8.086205128205128,
            "bin_end": 8.250803418803418,
            "count": 0
           },
           {
            "bin_start": 8.250803418803418,
            "bin_end": 8.41540170940171,
            "count": 0
           },
           {
            "bin_start": 8.41540170940171,
            "bin_end": 8.58,
            "count": 1
           }
          ]
         }
        },
        {
         "name": "_deepnote_index_column",
         "dtype": "category"
        }
       ],
       "rows_top": [
        {
         "Aroma": 7.226923076923076,
         "Flavor": 7.070256410256412,
         "Aftertaste": 6.910598290598291,
         "Acidity": 7.19923076923077,
         "Body": 7.229572649572652,
         "Balance": 7.055555555555559,
         "Uniformity": 9.429829059829059,
         "Clean.Cup": 9.21333333333334,
         "Sweetness": 9.83666666666667,
         "Cupper.Points": 6.9340170940170935,
         "_deepnote_index_column": "Cafe Corriente"
        },
        {
         "Aroma": 7.50188559322034,
         "Flavor": 7.454322033898303,
         "Aftertaste": 7.325572033898304,
         "Acidity": 7.445656779661015,
         "Body": 7.428792372881355,
         "Balance": 7.430720338983051,
         "Uniformity": 9.93485169491525,
         "Clean.Cup": 9.980169491525423,
         "Sweetness": 9.96247881355932,
         "Cupper.Points": 7.395847457627117,
         "_deepnote_index_column": "Cafe Especialidad"
        },
        {
         "Aroma": 7.7807667731629415,
         "Flavor": 7.764920127795529,
         "Aftertaste": 7.6485303514376985,
         "Acidity": 7.753865814696492,
         "Body": 7.705942492012777,
         "Balance": 7.763993610223642,
         "Uniformity": 9.980734824281148,
         "Clean.Cup": 9.993578274760383,
         "Sweetness": 9.989297124600638,
         "Cupper.Points": 7.778785942492012,
         "_deepnote_index_column": "Ejemplar Regional plus"
        },
        {
         "Aroma": 8.75,
         "Flavor": 8.67,
         "Aftertaste": 8.5,
         "Acidity": 8.58,
         "Body": 8.42,
         "Balance": 8.42,
         "Uniformity": 10,
         "Clean.Cup": 10,
         "Sweetness": 10,
         "Cupper.Points": 8.58,
         "_deepnote_index_column": "Cafe Ejemplar"
        }
       ],
       "rows_bottom": null
      },
      "text/plain": "                           Aroma    Flavor  Aftertaste   Acidity      Body  \\\ncat_calidad                                                                  \nCafe Corriente          7.226923  7.070256    6.910598  7.199231  7.229573   \nCafe Especialidad       7.501886  7.454322    7.325572  7.445657  7.428792   \nEjemplar Regional plus  7.780767  7.764920    7.648530  7.753866  7.705942   \nCafe Ejemplar           8.750000  8.670000    8.500000  8.580000  8.420000   \n\n                         Balance  Uniformity  Clean.Cup  Sweetness  \\\ncat_calidad                                                          \nCafe Corriente          7.055556    9.429829   9.213333   9.836667   \nCafe Especialidad       7.430720    9.934852   9.980169   9.962479   \nEjemplar Regional plus  7.763994    9.980735   9.993578   9.989297   \nCafe Ejemplar           8.420000   10.000000  10.000000  10.000000   \n\n                        Cupper.Points  \ncat_calidad                            \nCafe Corriente               6.934017  \nCafe Especialidad            7.395847  \nEjemplar Regional plus       7.778786  \nCafe Ejemplar                8.580000  ",
      "text/html": "<div>\n<style scoped>\n    .dataframe tbody tr th:only-of-type {\n        vertical-align: middle;\n    }\n\n    .dataframe tbody tr th {\n        vertical-align: top;\n    }\n\n    .dataframe thead th {\n        text-align: right;\n    }\n</style>\n<table border=\"1\" class=\"dataframe\">\n  <thead>\n    <tr style=\"text-align: right;\">\n      <th></th>\n      <th>Aroma</th>\n      <th>Flavor</th>\n      <th>Aftertaste</th>\n      <th>Acidity</th>\n      <th>Body</th>\n      <th>Balance</th>\n      <th>Uniformity</th>\n      <th>Clean.Cup</th>\n      <th>Sweetness</th>\n      <th>Cupper.Points</th>\n    </tr>\n    <tr>\n      <th>cat_calidad</th>\n      <th></th>\n      <th></th>\n      <th></th>\n      <th></th>\n      <th></th>\n      <th></th>\n      <th></th>\n      <th></th>\n      <th></th>\n      <th></th>\n    </tr>\n  </thead>\n  <tbody>\n    <tr>\n      <th>Cafe Corriente</th>\n      <td>7.226923</td>\n      <td>7.070256</td>\n      <td>6.910598</td>\n      <td>7.199231</td>\n      <td>7.229573</td>\n      <td>7.055556</td>\n      <td>9.429829</td>\n      <td>9.213333</td>\n      <td>9.836667</td>\n      <td>6.934017</td>\n    </tr>\n    <tr>\n      <th>Cafe Especialidad</th>\n      <td>7.501886</td>\n      <td>7.454322</td>\n      <td>7.325572</td>\n      <td>7.445657</td>\n      <td>7.428792</td>\n      <td>7.430720</td>\n      <td>9.934852</td>\n      <td>9.980169</td>\n      <td>9.962479</td>\n      <td>7.395847</td>\n    </tr>\n    <tr>\n      <th>Ejemplar Regional plus</th>\n      <td>7.780767</td>\n      <td>7.764920</td>\n      <td>7.648530</td>\n      <td>7.753866</td>\n      <td>7.705942</td>\n      <td>7.763994</td>\n      <td>9.980735</td>\n      <td>9.993578</td>\n      <td>9.989297</td>\n      <td>7.778786</td>\n    </tr>\n    <tr>\n      <th>Cafe Ejemplar</th>\n      <td>8.750000</td>\n      <td>8.670000</td>\n      <td>8.500000</td>\n      <td>8.580000</td>\n      <td>8.420000</td>\n      <td>8.420000</td>\n      <td>10.000000</td>\n      <td>10.000000</td>\n      <td>10.000000</td>\n      <td>8.580000</td>\n    </tr>\n  </tbody>\n</table>\n</div>"
     },
     "metadata": {}
    }
   ]
  },
  {
   "cell_type": "code",
   "metadata": {
    "tags": [],
    "cell_id": "00021-8ae11147-3076-467f-8c5d-d818a6b6902c",
    "deepnote_to_be_reexecuted": false,
    "source_hash": "cf89bb0e",
    "execution_start": 1627586771154,
    "execution_millis": 1107,
    "deepnote_cell_type": "code"
   },
   "source": "from math import pi\n# Determinamos las variables de nuestro grafico y la cantidad\ncategories=list(df_comp)[0:10]\nN = len(categories)\n\n# Vamos a determinar los angulos de nuestro grafico, y esto lo hacemos dividiendo el grafico\n# por el numero de variables\nangles = [n / float(N) * 2 * pi for n in range(N)]\nangles += angles[:1]\nangles\n\n# Creamos el grafico\nax = plt.subplot(111, polar = True)\nax.set_theta_offset(pi/2)\nax.set_theta_direction(-1)\nplt.xticks(angles[:-1], categories)\nax.set_rlabel_position(0)\nplt.yticks([2, 4, 6, 8], [\"2\",\"4\",\"6\", \"8\"], color=\"grey\", size=10)\nplt.ylim(0,10)\n\n\nax.set_xlabel('Comparacion de Atributos')\nfig.set_size_inches(10, 10)\n\n# Vamos a comparar acfe corriente con cafe ejemplar plus\n# Plot 1\n\nvalues = df_comp.iloc[0].values.flatten().tolist()\nvalues += values[:1]\nax.plot(angles, values, linewidth=1, linestyle='solid', label=\"Cafe Corriente\")\nax.fill(angles, values, 'b', alpha=0.1)\n\n# Plot 2\nvalues = df_comp.iloc[1].values.flatten().tolist()\nvalues += values[:1]\nax.plot(angles, values, linewidth=1, linestyle='solid', label=\"Cafe Especialidad\")\nax.fill(angles, values, 'y', alpha=0.1)\n\n# Plot 2\nvalues = df_comp.iloc[3].values.flatten().tolist()\nvalues += values[:1]\nax.plot(angles, values, linewidth=1, linestyle='solid', label=\"Cafe Ejemplar \")\nax.fill(angles, values, 'r', alpha=0.1)\nplt.legend(loc='upper left', bbox_to_anchor=(1, 1.1))\nplt.show()",
   "execution_count": null,
   "outputs": [
    {
     "data": {
      "text/plain": "<Figure size 432x288 with 1 Axes>",
      "image/png": "[encoded data removed]"
     },
     "metadata": {
      "image/png": {
       "width": 415,
       "height": 291
      }
     },
     "output_type": "display_data"
    }
   ]
  },
  {
   "cell_type": "code",
   "metadata": {
    "tags": [],
    "cell_id": "00022-3b8eb40c-d222-432c-a6bf-4feb14524ea3",
    "deepnote_to_be_reexecuted": false,
    "source_hash": "894fb741",
    "execution_start": 1627585956186,
    "execution_millis": 887,
    "deepnote_cell_type": "code"
   },
   "source": "# Vamos a hacer otra comparacion de los distintos tipos de cafes\nfig, axs = plt.subplots(ncols=4,sharey=True)\ny1 = df_trans['Cafe Corriente']\ny2= df_trans['Cafe Especialidad']\ny3= df_trans['Ejemplar Regional plus']\ny4= df_trans['Cafe Ejemplar']\nfig.set_size_inches(10, 8)\nx = df_trans.index\nfig.suptitle('Comparacion de Atributos del Cafe')\naxs[0].stem(x, y1, orientation='horizontal')\naxs[0].set_title('Cafe Corriente')\naxs[1].stem(x, y2, orientation='horizontal')\naxs[1].set_title('Cafe Especialidad')\naxs[2].stem(x, y3, orientation='horizontal')\naxs[2].set_title('Cafe Regional Plus')\naxs[3].stem(x, y4, orientation='horizontal')\naxs[3].set_title('Cafe Ejemplar')\n",
   "execution_count": null,
   "outputs": [
    {
     "output_type": "execute_result",
     "execution_count": 276,
     "data": {
      "text/plain": "Text(0.5, 1.0, 'Cafe Ejemplar')"
     },
     "metadata": {}
    },
    {
     "data": {
      "text/plain": "<Figure size 720x576 with 4 Axes>",
      "image/png": "[encoded data removed]"
     },
     "metadata": {
      "image/png": {
       "width": 659,
       "height": 526
      }
     },
     "output_type": "display_data"
    }
   ]
  },
  {
   "cell_type": "code",
   "metadata": {
    "tags": [],
    "cell_id": "00022-e4273d96-bb51-45e9-8c68-5096c66792f6",
    "deepnote_to_be_reexecuted": false,
    "source_hash": "7bf7515e",
    "execution_start": 1627587892764,
    "execution_millis": 29,
    "deepnote_cell_type": "code"
   },
   "source": "df.groupby('cat_calidad')['Processing.Method'].value_counts()\n# df['Processing.Method'].value_counts(ascendin = True)",
   "execution_count": null,
   "outputs": [
    {
     "output_type": "error",
     "ename": "ValueError",
     "evalue": "operands could not be broadcast together with shape (5,) (4,)",
     "traceback": [
      "\u001b[0;31m---------------------------------------------------------------------------\u001b[0m",
      "\u001b[0;31mValueError\u001b[0m                                Traceback (most recent call last)",
      "\u001b[0;32m/tmp/ipykernel_78/2029385419.py\u001b[0m in \u001b[0;36m<module>\u001b[0;34m\u001b[0m\n\u001b[0;32m----> 1\u001b[0;31m \u001b[0mdf\u001b[0m\u001b[0;34m.\u001b[0m\u001b[0mgroupby\u001b[0m\u001b[0;34m(\u001b[0m\u001b[0;34m'cat_calidad'\u001b[0m\u001b[0;34m)\u001b[0m\u001b[0;34m[\u001b[0m\u001b[0;34m'Processing.Method'\u001b[0m\u001b[0;34m]\u001b[0m\u001b[0;34m.\u001b[0m\u001b[0mvalue_counts\u001b[0m\u001b[0;34m(\u001b[0m\u001b[0;34m)\u001b[0m\u001b[0;34m\u001b[0m\u001b[0;34m\u001b[0m\u001b[0m\n\u001b[0m\u001b[1;32m      2\u001b[0m \u001b[0;31m# df['Processing.Method'].value_counts(ascendin = True)\u001b[0m\u001b[0;34m\u001b[0m\u001b[0;34m\u001b[0m\u001b[0;34m\u001b[0m\u001b[0m\n",
      "\u001b[0;32m/shared-libs/python3.7/py/lib/python3.7/site-packages/pandas/core/groupby/generic.py\u001b[0m in \u001b[0;36mvalue_counts\u001b[0;34m(self, normalize, sort, ascending, bins, dropna)\u001b[0m\n\u001b[1;32m    734\u001b[0m         \u001b[0;31m# multi-index components\u001b[0m\u001b[0;34m\u001b[0m\u001b[0;34m\u001b[0m\u001b[0;34m\u001b[0m\u001b[0m\n\u001b[1;32m    735\u001b[0m         \u001b[0mcodes\u001b[0m \u001b[0;34m=\u001b[0m \u001b[0mself\u001b[0m\u001b[0;34m.\u001b[0m\u001b[0mgrouper\u001b[0m\u001b[0;34m.\u001b[0m\u001b[0mreconstructed_codes\u001b[0m\u001b[0;34m\u001b[0m\u001b[0;34m\u001b[0m\u001b[0m\n\u001b[0;32m--> 736\u001b[0;31m         \u001b[0mcodes\u001b[0m \u001b[0;34m=\u001b[0m \u001b[0;34m[\u001b[0m\u001b[0mrep\u001b[0m\u001b[0;34m(\u001b[0m\u001b[0mlevel_codes\u001b[0m\u001b[0;34m)\u001b[0m \u001b[0;32mfor\u001b[0m \u001b[0mlevel_codes\u001b[0m \u001b[0;32min\u001b[0m \u001b[0mcodes\u001b[0m\u001b[0;34m]\u001b[0m \u001b[0;34m+\u001b[0m \u001b[0;34m[\u001b[0m\u001b[0mllab\u001b[0m\u001b[0;34m(\u001b[0m\u001b[0mlab\u001b[0m\u001b[0;34m,\u001b[0m \u001b[0minc\u001b[0m\u001b[0;34m)\u001b[0m\u001b[0;34m]\u001b[0m\u001b[0;34m\u001b[0m\u001b[0;34m\u001b[0m\u001b[0m\n\u001b[0m\u001b[1;32m    737\u001b[0m         \u001b[0mlevels\u001b[0m \u001b[0;34m=\u001b[0m \u001b[0;34m[\u001b[0m\u001b[0mping\u001b[0m\u001b[0;34m.\u001b[0m\u001b[0mgroup_index\u001b[0m \u001b[0;32mfor\u001b[0m \u001b[0mping\u001b[0m \u001b[0;32min\u001b[0m \u001b[0mself\u001b[0m\u001b[0;34m.\u001b[0m\u001b[0mgrouper\u001b[0m\u001b[0;34m.\u001b[0m\u001b[0mgroupings\u001b[0m\u001b[0;34m]\u001b[0m \u001b[0;34m+\u001b[0m \u001b[0;34m[\u001b[0m\u001b[0mlev\u001b[0m\u001b[0;34m]\u001b[0m\u001b[0;34m\u001b[0m\u001b[0;34m\u001b[0m\u001b[0m\n\u001b[1;32m    738\u001b[0m         \u001b[0mnames\u001b[0m \u001b[0;34m=\u001b[0m \u001b[0mself\u001b[0m\u001b[0;34m.\u001b[0m\u001b[0mgrouper\u001b[0m\u001b[0;34m.\u001b[0m\u001b[0mnames\u001b[0m \u001b[0;34m+\u001b[0m \u001b[0;34m[\u001b[0m\u001b[0mself\u001b[0m\u001b[0;34m.\u001b[0m\u001b[0m_selection_name\u001b[0m\u001b[0;34m]\u001b[0m\u001b[0;34m\u001b[0m\u001b[0;34m\u001b[0m\u001b[0m\n",
      "\u001b[0;32m/shared-libs/python3.7/py/lib/python3.7/site-packages/pandas/core/groupby/generic.py\u001b[0m in \u001b[0;36m<listcomp>\u001b[0;34m(.0)\u001b[0m\n\u001b[1;32m    734\u001b[0m         \u001b[0;31m# multi-index components\u001b[0m\u001b[0;34m\u001b[0m\u001b[0;34m\u001b[0m\u001b[0;34m\u001b[0m\u001b[0m\n\u001b[1;32m    735\u001b[0m         \u001b[0mcodes\u001b[0m \u001b[0;34m=\u001b[0m \u001b[0mself\u001b[0m\u001b[0;34m.\u001b[0m\u001b[0mgrouper\u001b[0m\u001b[0;34m.\u001b[0m\u001b[0mreconstructed_codes\u001b[0m\u001b[0;34m\u001b[0m\u001b[0;34m\u001b[0m\u001b[0m\n\u001b[0;32m--> 736\u001b[0;31m         \u001b[0mcodes\u001b[0m \u001b[0;34m=\u001b[0m \u001b[0;34m[\u001b[0m\u001b[0mrep\u001b[0m\u001b[0;34m(\u001b[0m\u001b[0mlevel_codes\u001b[0m\u001b[0;34m)\u001b[0m \u001b[0;32mfor\u001b[0m \u001b[0mlevel_codes\u001b[0m \u001b[0;32min\u001b[0m \u001b[0mcodes\u001b[0m\u001b[0;34m]\u001b[0m \u001b[0;34m+\u001b[0m \u001b[0;34m[\u001b[0m\u001b[0mllab\u001b[0m\u001b[0;34m(\u001b[0m\u001b[0mlab\u001b[0m\u001b[0;34m,\u001b[0m \u001b[0minc\u001b[0m\u001b[0;34m)\u001b[0m\u001b[0;34m]\u001b[0m\u001b[0;34m\u001b[0m\u001b[0;34m\u001b[0m\u001b[0m\n\u001b[0m\u001b[1;32m    737\u001b[0m         \u001b[0mlevels\u001b[0m \u001b[0;34m=\u001b[0m \u001b[0;34m[\u001b[0m\u001b[0mping\u001b[0m\u001b[0;34m.\u001b[0m\u001b[0mgroup_index\u001b[0m \u001b[0;32mfor\u001b[0m \u001b[0mping\u001b[0m \u001b[0;32min\u001b[0m \u001b[0mself\u001b[0m\u001b[0;34m.\u001b[0m\u001b[0mgrouper\u001b[0m\u001b[0;34m.\u001b[0m\u001b[0mgroupings\u001b[0m\u001b[0;34m]\u001b[0m \u001b[0;34m+\u001b[0m \u001b[0;34m[\u001b[0m\u001b[0mlev\u001b[0m\u001b[0;34m]\u001b[0m\u001b[0;34m\u001b[0m\u001b[0;34m\u001b[0m\u001b[0m\n\u001b[1;32m    738\u001b[0m         \u001b[0mnames\u001b[0m \u001b[0;34m=\u001b[0m \u001b[0mself\u001b[0m\u001b[0;34m.\u001b[0m\u001b[0mgrouper\u001b[0m\u001b[0;34m.\u001b[0m\u001b[0mnames\u001b[0m \u001b[0;34m+\u001b[0m \u001b[0;34m[\u001b[0m\u001b[0mself\u001b[0m\u001b[0;34m.\u001b[0m\u001b[0m_selection_name\u001b[0m\u001b[0;34m]\u001b[0m\u001b[0;34m\u001b[0m\u001b[0;34m\u001b[0m\u001b[0m\n",
      "\u001b[0;32m<__array_function__ internals>\u001b[0m in \u001b[0;36mrepeat\u001b[0;34m(*args, **kwargs)\u001b[0m\n",
      "\u001b[0;32m/shared-libs/python3.7/py/lib/python3.7/site-packages/numpy/core/fromnumeric.py\u001b[0m in \u001b[0;36mrepeat\u001b[0;34m(a, repeats, axis)\u001b[0m\n\u001b[1;32m    477\u001b[0m \u001b[0;34m\u001b[0m\u001b[0m\n\u001b[1;32m    478\u001b[0m     \"\"\"\n\u001b[0;32m--> 479\u001b[0;31m     \u001b[0;32mreturn\u001b[0m \u001b[0m_wrapfunc\u001b[0m\u001b[0;34m(\u001b[0m\u001b[0ma\u001b[0m\u001b[0;34m,\u001b[0m \u001b[0;34m'repeat'\u001b[0m\u001b[0;34m,\u001b[0m \u001b[0mrepeats\u001b[0m\u001b[0;34m,\u001b[0m \u001b[0maxis\u001b[0m\u001b[0;34m=\u001b[0m\u001b[0maxis\u001b[0m\u001b[0;34m)\u001b[0m\u001b[0;34m\u001b[0m\u001b[0;34m\u001b[0m\u001b[0m\n\u001b[0m\u001b[1;32m    480\u001b[0m \u001b[0;34m\u001b[0m\u001b[0m\n\u001b[1;32m    481\u001b[0m \u001b[0;34m\u001b[0m\u001b[0m\n",
      "\u001b[0;32m/shared-libs/python3.7/py/lib/python3.7/site-packages/numpy/core/fromnumeric.py\u001b[0m in \u001b[0;36m_wrapfunc\u001b[0;34m(obj, method, *args, **kwds)\u001b[0m\n\u001b[1;32m     56\u001b[0m \u001b[0;34m\u001b[0m\u001b[0m\n\u001b[1;32m     57\u001b[0m     \u001b[0;32mtry\u001b[0m\u001b[0;34m:\u001b[0m\u001b[0;34m\u001b[0m\u001b[0;34m\u001b[0m\u001b[0m\n\u001b[0;32m---> 58\u001b[0;31m         \u001b[0;32mreturn\u001b[0m \u001b[0mbound\u001b[0m\u001b[0;34m(\u001b[0m\u001b[0;34m*\u001b[0m\u001b[0margs\u001b[0m\u001b[0;34m,\u001b[0m \u001b[0;34m**\u001b[0m\u001b[0mkwds\u001b[0m\u001b[0;34m)\u001b[0m\u001b[0;34m\u001b[0m\u001b[0;34m\u001b[0m\u001b[0m\n\u001b[0m\u001b[1;32m     59\u001b[0m     \u001b[0;32mexcept\u001b[0m \u001b[0mTypeError\u001b[0m\u001b[0;34m:\u001b[0m\u001b[0;34m\u001b[0m\u001b[0;34m\u001b[0m\u001b[0m\n\u001b[1;32m     60\u001b[0m         \u001b[0;31m# A TypeError occurs if the object does have such a method in its\u001b[0m\u001b[0;34m\u001b[0m\u001b[0;34m\u001b[0m\u001b[0;34m\u001b[0m\u001b[0m\n",
      "\u001b[0;31mValueError\u001b[0m: operands could not be broadcast together with shape (5,) (4,)"
     ]
    }
   ]
  },
  {
   "cell_type": "markdown",
   "source": "<a style='text-decoration:none;line-height:16px;display:flex;color:#5B5B62;padding:10px;justify-content:end;' href='https://deepnote.com?utm_source=created-in-deepnote-cell&projectId=1bbe7208-05f4-4bda-a05e-48e97ac1db26' target=\"_blank\">\n<img alt='Created in deepnote.com' style='display:inline;max-height:16px;margin:0px;margin-right:7.5px;' src='data:image/svg+xml;base64,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' > </img>\nCreated in <span style='font-weight:600;margin-left:4px;'>Deepnote</span></a>",
   "metadata": {
    "tags": [],
    "created_in_deepnote_cell": true,
    "deepnote_cell_type": "markdown"
   }
  }
 ],
 "nbformat": 4,
 "nbformat_minor": 2,
 "metadata": {
  "orig_nbformat": 2,
  "deepnote": {
   "is_reactive": false
  },
  "deepnote_notebook_id": "37799830-d270-426e-a694-0871ae2cb7ed",
  "deepnote_execution_queue": []
 }
}